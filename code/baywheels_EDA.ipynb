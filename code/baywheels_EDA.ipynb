{
 "cells": [
  {
   "cell_type": "markdown",
   "metadata": {},
   "source": [
    "# SQL"
   ]
  },
  {
   "cell_type": "code",
   "execution_count": 3,
   "metadata": {},
   "outputs": [],
   "source": [
    "#To run in PostGreSQL"
   ]
  },
  {
   "cell_type": "markdown",
   "metadata": {},
   "source": [
    "`postgres=#  \n",
    "CREATE TABLE mytable (duration_sec NUMERIC, start_time VARCHAR(50), end_time VARCHAR(50), start_station_id NUMERIC, start_station_name VARCHAR(100), start_station_latitude NUMERIC, start_station_longitude NUMERIC, end_station_id NUMERIC, end_station_name VARCHAR(100), end_station_latitude NUMERIC, end_station_longitude NUMERIC, bike_id NUMERIC, user_type VARCHAR(25), rental_access_method VARCHAR(25));`"
   ]
  },
  {
   "cell_type": "markdown",
   "metadata": {},
   "source": [
    "`COPY mytable FROM '/Users/mattranalletta/Desktop/Metis/202001-baywheels-tripdata.csv' DELIMITER ',' CSV HEADER;`"
   ]
  },
  {
   "cell_type": "code",
   "execution_count": 4,
   "metadata": {},
   "outputs": [],
   "source": [
    "# Back in Jupyter"
   ]
  },
  {
   "cell_type": "code",
   "execution_count": 5,
   "metadata": {},
   "outputs": [],
   "source": [
    "import psycopg2 as pg"
   ]
  },
  {
   "cell_type": "code",
   "execution_count": 6,
   "metadata": {},
   "outputs": [],
   "source": [
    "connection_args = {\n",
    "    'host': 'localhost',  # We are connecting to our _local_ version of psql\n",
    "    'dbname': 'postgres',    # DB that we are connecting to\n",
    "    'port': 5432          # port we opened on AWS\n",
    "}\n",
    "\n",
    "connection = pg.connect(**connection_args)"
   ]
  },
  {
   "cell_type": "code",
   "execution_count": 8,
   "metadata": {},
   "outputs": [
    {
     "data": {
      "text/plain": [
       "(124854, 14)"
      ]
     },
     "execution_count": 8,
     "metadata": {},
     "output_type": "execute_result"
    }
   ],
   "source": [
    "query = \"SELECT * FROM mytable\"\n",
    "\n",
    "bw_sql = pd.read_sql(query, connection)\n",
    "bw_sql.shape"
   ]
  },
  {
   "cell_type": "markdown",
   "metadata": {},
   "source": [
    "# Exploratory Data Analysis and Cleaning"
   ]
  },
  {
   "cell_type": "code",
   "execution_count": 7,
   "metadata": {},
   "outputs": [],
   "source": [
    "import matplotlib.pyplot as plt\n",
    "import seaborn as sns\n",
    "from scipy.spatial.distance import euclidean as euc\n",
    "import numpy as np\n",
    "import pandas as pd\n",
    "from sklearn.datasets import make_classification\n",
    "\n",
    "from sklearn.model_selection import train_test_split, cross_val_score\n",
    "from sklearn.metrics import mean_squared_error, r2_score\n",
    "from sklearn.preprocessing import StandardScaler\n",
    "\n",
    "from sklearn.metrics import classification_report\n",
    "from sklearn import metrics\n",
    "from sklearn.linear_model import LogisticRegression\n",
    "from sklearn.neighbors import KNeighborsClassifier\n",
    "from sklearn.metrics import plot_confusion_matrix, plot_roc_curve, classification_report"
   ]
  },
  {
   "cell_type": "markdown",
   "metadata": {},
   "source": [
    "Let's import the first two datasets."
   ]
  },
  {
   "cell_type": "code",
   "execution_count": 121,
   "metadata": {},
   "outputs": [],
   "source": [
    "bw = pd.read_csv('202001-baywheels-tripdata.csv',low_memory=False)\n",
    "transit_info = pd.read_csv('Bikeshare_transit.csv',low_memory=False)"
   ]
  },
  {
   "cell_type": "code",
   "execution_count": 122,
   "metadata": {},
   "outputs": [
    {
     "data": {
      "text/html": [
       "<div>\n",
       "<style scoped>\n",
       "    .dataframe tbody tr th:only-of-type {\n",
       "        vertical-align: middle;\n",
       "    }\n",
       "\n",
       "    .dataframe tbody tr th {\n",
       "        vertical-align: top;\n",
       "    }\n",
       "\n",
       "    .dataframe thead th {\n",
       "        text-align: right;\n",
       "    }\n",
       "</style>\n",
       "<table border=\"1\" class=\"dataframe\">\n",
       "  <thead>\n",
       "    <tr style=\"text-align: right;\">\n",
       "      <th></th>\n",
       "      <th>duration_sec</th>\n",
       "      <th>start_time</th>\n",
       "      <th>end_time</th>\n",
       "      <th>start_station_id</th>\n",
       "      <th>start_station_name</th>\n",
       "      <th>start_station_latitude</th>\n",
       "      <th>start_station_longitude</th>\n",
       "      <th>end_station_id</th>\n",
       "      <th>end_station_name</th>\n",
       "      <th>end_station_latitude</th>\n",
       "      <th>end_station_longitude</th>\n",
       "      <th>bike_id</th>\n",
       "      <th>user_type</th>\n",
       "      <th>rental_access_method</th>\n",
       "    </tr>\n",
       "  </thead>\n",
       "  <tbody>\n",
       "    <tr>\n",
       "      <th>0</th>\n",
       "      <td>787</td>\n",
       "      <td>1/12/20 17:07</td>\n",
       "      <td>1/12/20 17:20</td>\n",
       "      <td>451.0</td>\n",
       "      <td>10th Ave at Irving St</td>\n",
       "      <td>37.764091</td>\n",
       "      <td>-122.467378</td>\n",
       "      <td>451.0</td>\n",
       "      <td>10th Ave at Irving St</td>\n",
       "      <td>37.764091</td>\n",
       "      <td>-122.467378</td>\n",
       "      <td>520485</td>\n",
       "      <td>Subscriber</td>\n",
       "      <td>app</td>\n",
       "    </tr>\n",
       "    <tr>\n",
       "      <th>1</th>\n",
       "      <td>543</td>\n",
       "      <td>1/25/20 17:37</td>\n",
       "      <td>1/25/20 17:46</td>\n",
       "      <td>466.0</td>\n",
       "      <td>5th Ave at Anza St</td>\n",
       "      <td>37.779488</td>\n",
       "      <td>-122.463142</td>\n",
       "      <td>451.0</td>\n",
       "      <td>10th Ave at Irving St</td>\n",
       "      <td>37.764091</td>\n",
       "      <td>-122.467378</td>\n",
       "      <td>713870</td>\n",
       "      <td>Subscriber</td>\n",
       "      <td>app</td>\n",
       "    </tr>\n",
       "    <tr>\n",
       "      <th>2</th>\n",
       "      <td>1860</td>\n",
       "      <td>1/10/20 19:33</td>\n",
       "      <td>1/10/20 20:04</td>\n",
       "      <td>440.0</td>\n",
       "      <td>Carl St at Cole St</td>\n",
       "      <td>37.765910</td>\n",
       "      <td>-122.449257</td>\n",
       "      <td>451.0</td>\n",
       "      <td>10th Ave at Irving St</td>\n",
       "      <td>37.764091</td>\n",
       "      <td>-122.467378</td>\n",
       "      <td>113372</td>\n",
       "      <td>Customer</td>\n",
       "      <td>app</td>\n",
       "    </tr>\n",
       "    <tr>\n",
       "      <th>3</th>\n",
       "      <td>1601</td>\n",
       "      <td>1/22/20 13:36</td>\n",
       "      <td>1/22/20 14:03</td>\n",
       "      <td>17.0</td>\n",
       "      <td>Embarcadero BART Station (Beale St at Market St)</td>\n",
       "      <td>37.792251</td>\n",
       "      <td>-122.397086</td>\n",
       "      <td>451.0</td>\n",
       "      <td>10th Ave at Irving St</td>\n",
       "      <td>37.764091</td>\n",
       "      <td>-122.467378</td>\n",
       "      <td>394499</td>\n",
       "      <td>Subscriber</td>\n",
       "      <td>app</td>\n",
       "    </tr>\n",
       "    <tr>\n",
       "      <th>4</th>\n",
       "      <td>337</td>\n",
       "      <td>1/12/20 7:24</td>\n",
       "      <td>1/12/20 7:30</td>\n",
       "      <td>458.0</td>\n",
       "      <td>Frederick St at Arguello Blvd</td>\n",
       "      <td>37.765783</td>\n",
       "      <td>-122.457637</td>\n",
       "      <td>451.0</td>\n",
       "      <td>10th Ave at Irving St</td>\n",
       "      <td>37.764091</td>\n",
       "      <td>-122.467378</td>\n",
       "      <td>456732</td>\n",
       "      <td>Subscriber</td>\n",
       "      <td>app</td>\n",
       "    </tr>\n",
       "  </tbody>\n",
       "</table>\n",
       "</div>"
      ],
      "text/plain": [
       "   duration_sec     start_time       end_time  start_station_id  \\\n",
       "0           787  1/12/20 17:07  1/12/20 17:20             451.0   \n",
       "1           543  1/25/20 17:37  1/25/20 17:46             466.0   \n",
       "2          1860  1/10/20 19:33  1/10/20 20:04             440.0   \n",
       "3          1601  1/22/20 13:36  1/22/20 14:03              17.0   \n",
       "4           337   1/12/20 7:24   1/12/20 7:30             458.0   \n",
       "\n",
       "                                 start_station_name  start_station_latitude  \\\n",
       "0                             10th Ave at Irving St               37.764091   \n",
       "1                                5th Ave at Anza St               37.779488   \n",
       "2                                Carl St at Cole St               37.765910   \n",
       "3  Embarcadero BART Station (Beale St at Market St)               37.792251   \n",
       "4                     Frederick St at Arguello Blvd               37.765783   \n",
       "\n",
       "   start_station_longitude  end_station_id       end_station_name  \\\n",
       "0              -122.467378           451.0  10th Ave at Irving St   \n",
       "1              -122.463142           451.0  10th Ave at Irving St   \n",
       "2              -122.449257           451.0  10th Ave at Irving St   \n",
       "3              -122.397086           451.0  10th Ave at Irving St   \n",
       "4              -122.457637           451.0  10th Ave at Irving St   \n",
       "\n",
       "   end_station_latitude  end_station_longitude  bike_id   user_type  \\\n",
       "0             37.764091            -122.467378   520485  Subscriber   \n",
       "1             37.764091            -122.467378   713870  Subscriber   \n",
       "2             37.764091            -122.467378   113372    Customer   \n",
       "3             37.764091            -122.467378   394499  Subscriber   \n",
       "4             37.764091            -122.467378   456732  Subscriber   \n",
       "\n",
       "  rental_access_method  \n",
       "0                  app  \n",
       "1                  app  \n",
       "2                  app  \n",
       "3                  app  \n",
       "4                  app  "
      ]
     },
     "execution_count": 122,
     "metadata": {},
     "output_type": "execute_result"
    }
   ],
   "source": [
    "bw.head()"
   ]
  },
  {
   "cell_type": "markdown",
   "metadata": {},
   "source": [
    "Dropping and renaming columns:"
   ]
  },
  {
   "cell_type": "code",
   "execution_count": 123,
   "metadata": {},
   "outputs": [
    {
     "data": {
      "text/html": [
       "<div>\n",
       "<style scoped>\n",
       "    .dataframe tbody tr th:only-of-type {\n",
       "        vertical-align: middle;\n",
       "    }\n",
       "\n",
       "    .dataframe tbody tr th {\n",
       "        vertical-align: top;\n",
       "    }\n",
       "\n",
       "    .dataframe thead th {\n",
       "        text-align: right;\n",
       "    }\n",
       "</style>\n",
       "<table border=\"1\" class=\"dataframe\">\n",
       "  <thead>\n",
       "    <tr style=\"text-align: right;\">\n",
       "      <th></th>\n",
       "      <th>duration_sec</th>\n",
       "      <th>start_time</th>\n",
       "      <th>end_time</th>\n",
       "      <th>start_station_name</th>\n",
       "      <th>start_lat</th>\n",
       "      <th>start_long</th>\n",
       "      <th>end_station_name</th>\n",
       "      <th>end_lat</th>\n",
       "      <th>end_long</th>\n",
       "      <th>user_type</th>\n",
       "      <th>access_method</th>\n",
       "    </tr>\n",
       "  </thead>\n",
       "  <tbody>\n",
       "    <tr>\n",
       "      <th>0</th>\n",
       "      <td>787</td>\n",
       "      <td>1/12/20 17:07</td>\n",
       "      <td>1/12/20 17:20</td>\n",
       "      <td>10th Ave at Irving St</td>\n",
       "      <td>37.764091</td>\n",
       "      <td>-122.467378</td>\n",
       "      <td>10th Ave at Irving St</td>\n",
       "      <td>37.764091</td>\n",
       "      <td>-122.467378</td>\n",
       "      <td>Subscriber</td>\n",
       "      <td>app</td>\n",
       "    </tr>\n",
       "    <tr>\n",
       "      <th>1</th>\n",
       "      <td>543</td>\n",
       "      <td>1/25/20 17:37</td>\n",
       "      <td>1/25/20 17:46</td>\n",
       "      <td>5th Ave at Anza St</td>\n",
       "      <td>37.779488</td>\n",
       "      <td>-122.463142</td>\n",
       "      <td>10th Ave at Irving St</td>\n",
       "      <td>37.764091</td>\n",
       "      <td>-122.467378</td>\n",
       "      <td>Subscriber</td>\n",
       "      <td>app</td>\n",
       "    </tr>\n",
       "    <tr>\n",
       "      <th>2</th>\n",
       "      <td>1860</td>\n",
       "      <td>1/10/20 19:33</td>\n",
       "      <td>1/10/20 20:04</td>\n",
       "      <td>Carl St at Cole St</td>\n",
       "      <td>37.765910</td>\n",
       "      <td>-122.449257</td>\n",
       "      <td>10th Ave at Irving St</td>\n",
       "      <td>37.764091</td>\n",
       "      <td>-122.467378</td>\n",
       "      <td>Customer</td>\n",
       "      <td>app</td>\n",
       "    </tr>\n",
       "    <tr>\n",
       "      <th>3</th>\n",
       "      <td>1601</td>\n",
       "      <td>1/22/20 13:36</td>\n",
       "      <td>1/22/20 14:03</td>\n",
       "      <td>Embarcadero BART Station (Beale St at Market St)</td>\n",
       "      <td>37.792251</td>\n",
       "      <td>-122.397086</td>\n",
       "      <td>10th Ave at Irving St</td>\n",
       "      <td>37.764091</td>\n",
       "      <td>-122.467378</td>\n",
       "      <td>Subscriber</td>\n",
       "      <td>app</td>\n",
       "    </tr>\n",
       "    <tr>\n",
       "      <th>4</th>\n",
       "      <td>337</td>\n",
       "      <td>1/12/20 7:24</td>\n",
       "      <td>1/12/20 7:30</td>\n",
       "      <td>Frederick St at Arguello Blvd</td>\n",
       "      <td>37.765783</td>\n",
       "      <td>-122.457637</td>\n",
       "      <td>10th Ave at Irving St</td>\n",
       "      <td>37.764091</td>\n",
       "      <td>-122.467378</td>\n",
       "      <td>Subscriber</td>\n",
       "      <td>app</td>\n",
       "    </tr>\n",
       "  </tbody>\n",
       "</table>\n",
       "</div>"
      ],
      "text/plain": [
       "   duration_sec     start_time       end_time  \\\n",
       "0           787  1/12/20 17:07  1/12/20 17:20   \n",
       "1           543  1/25/20 17:37  1/25/20 17:46   \n",
       "2          1860  1/10/20 19:33  1/10/20 20:04   \n",
       "3          1601  1/22/20 13:36  1/22/20 14:03   \n",
       "4           337   1/12/20 7:24   1/12/20 7:30   \n",
       "\n",
       "                                 start_station_name  start_lat  start_long  \\\n",
       "0                             10th Ave at Irving St  37.764091 -122.467378   \n",
       "1                                5th Ave at Anza St  37.779488 -122.463142   \n",
       "2                                Carl St at Cole St  37.765910 -122.449257   \n",
       "3  Embarcadero BART Station (Beale St at Market St)  37.792251 -122.397086   \n",
       "4                     Frederick St at Arguello Blvd  37.765783 -122.457637   \n",
       "\n",
       "        end_station_name    end_lat    end_long   user_type access_method  \n",
       "0  10th Ave at Irving St  37.764091 -122.467378  Subscriber           app  \n",
       "1  10th Ave at Irving St  37.764091 -122.467378  Subscriber           app  \n",
       "2  10th Ave at Irving St  37.764091 -122.467378    Customer           app  \n",
       "3  10th Ave at Irving St  37.764091 -122.467378  Subscriber           app  \n",
       "4  10th Ave at Irving St  37.764091 -122.467378  Subscriber           app  "
      ]
     },
     "execution_count": 123,
     "metadata": {},
     "output_type": "execute_result"
    }
   ],
   "source": [
    "bw.drop(['start_station_id','end_station_id','bike_id'],\n",
    "        axis=1, inplace=True)\n",
    "bw.columns = ['duration_sec','start_time','end_time','start_station_name', 'start_lat','start_long','end_station_name',\n",
    "              'end_lat','end_long','user_type','access_method']\n",
    "bw.head()"
   ]
  },
  {
   "cell_type": "code",
   "execution_count": 124,
   "metadata": {},
   "outputs": [
    {
     "data": {
      "text/html": [
       "<div>\n",
       "<style scoped>\n",
       "    .dataframe tbody tr th:only-of-type {\n",
       "        vertical-align: middle;\n",
       "    }\n",
       "\n",
       "    .dataframe tbody tr th {\n",
       "        vertical-align: top;\n",
       "    }\n",
       "\n",
       "    .dataframe thead th {\n",
       "        text-align: right;\n",
       "    }\n",
       "</style>\n",
       "<table border=\"1\" class=\"dataframe\">\n",
       "  <thead>\n",
       "    <tr style=\"text-align: right;\">\n",
       "      <th></th>\n",
       "      <th>ADDRESS</th>\n",
       "      <th>CITY</th>\n",
       "      <th>ZIPCODE</th>\n",
       "      <th>LONGITUDE</th>\n",
       "      <th>LATITUDE</th>\n",
       "      <th>MODES_SERV</th>\n",
       "      <th>MODE_BUS</th>\n",
       "      <th>MODE_RAIL</th>\n",
       "      <th>MODE_FERRY</th>\n",
       "    </tr>\n",
       "  </thead>\n",
       "  <tbody>\n",
       "    <tr>\n",
       "      <th>0</th>\n",
       "      <td>Post St at Kearny St</td>\n",
       "      <td>San Francisco</td>\n",
       "      <td>94104</td>\n",
       "      <td>-122.403452</td>\n",
       "      <td>37.788975</td>\n",
       "      <td>3</td>\n",
       "      <td>Bus (transit, intercity, supplemental, or code...</td>\n",
       "      <td>Rail (intercity, heavy, light, or commuter) se...</td>\n",
       "      <td>No ferry (intercity or transit) service available</td>\n",
       "    </tr>\n",
       "    <tr>\n",
       "      <th>1</th>\n",
       "      <td>Montgomery St BART Station (Market St at 2nd St)</td>\n",
       "      <td>San Francisco</td>\n",
       "      <td>94105</td>\n",
       "      <td>-122.400811</td>\n",
       "      <td>37.789625</td>\n",
       "      <td>3</td>\n",
       "      <td>Bus (transit, intercity, supplemental, or code...</td>\n",
       "      <td>Rail (intercity, heavy, light, or commuter) se...</td>\n",
       "      <td>No ferry (intercity or transit) service available</td>\n",
       "    </tr>\n",
       "    <tr>\n",
       "      <th>2</th>\n",
       "      <td>San Francisco Ferry Building (Harry Bridges Pl...</td>\n",
       "      <td>San Francisco</td>\n",
       "      <td>94111</td>\n",
       "      <td>-122.394203</td>\n",
       "      <td>37.795392</td>\n",
       "      <td>4</td>\n",
       "      <td>Bus (transit, intercity, supplemental, or code...</td>\n",
       "      <td>Rail (intercity, heavy, light, or commuter) se...</td>\n",
       "      <td>Ferry (intercity or transit) service is available</td>\n",
       "    </tr>\n",
       "    <tr>\n",
       "      <th>3</th>\n",
       "      <td>San Francisco Caltrain (Townsend St at 4th St)</td>\n",
       "      <td>San Francisco</td>\n",
       "      <td>94107</td>\n",
       "      <td>-122.395282</td>\n",
       "      <td>37.776598</td>\n",
       "      <td>3</td>\n",
       "      <td>Bus (transit, intercity, supplemental, or code...</td>\n",
       "      <td>Rail (intercity, heavy, light, or commuter) se...</td>\n",
       "      <td>No ferry (intercity or transit) service available</td>\n",
       "    </tr>\n",
       "    <tr>\n",
       "      <th>4</th>\n",
       "      <td>Embarcadero BART Station (Beale St at Market St)</td>\n",
       "      <td>San Francisco</td>\n",
       "      <td>94105</td>\n",
       "      <td>-122.397086</td>\n",
       "      <td>37.792251</td>\n",
       "      <td>3</td>\n",
       "      <td>Bus (transit, intercity, supplemental, or code...</td>\n",
       "      <td>Rail (intercity, heavy, light, or commuter) se...</td>\n",
       "      <td>No ferry (intercity or transit) service available</td>\n",
       "    </tr>\n",
       "  </tbody>\n",
       "</table>\n",
       "</div>"
      ],
      "text/plain": [
       "                                             ADDRESS           CITY  ZIPCODE  \\\n",
       "0                               Post St at Kearny St  San Francisco    94104   \n",
       "1   Montgomery St BART Station (Market St at 2nd St)  San Francisco    94105   \n",
       "2  San Francisco Ferry Building (Harry Bridges Pl...  San Francisco    94111   \n",
       "3     San Francisco Caltrain (Townsend St at 4th St)  San Francisco    94107   \n",
       "4   Embarcadero BART Station (Beale St at Market St)  San Francisco    94105   \n",
       "\n",
       "    LONGITUDE   LATITUDE  MODES_SERV  \\\n",
       "0 -122.403452  37.788975           3   \n",
       "1 -122.400811  37.789625           3   \n",
       "2 -122.394203  37.795392           4   \n",
       "3 -122.395282  37.776598           3   \n",
       "4 -122.397086  37.792251           3   \n",
       "\n",
       "                                            MODE_BUS  \\\n",
       "0  Bus (transit, intercity, supplemental, or code...   \n",
       "1  Bus (transit, intercity, supplemental, or code...   \n",
       "2  Bus (transit, intercity, supplemental, or code...   \n",
       "3  Bus (transit, intercity, supplemental, or code...   \n",
       "4  Bus (transit, intercity, supplemental, or code...   \n",
       "\n",
       "                                           MODE_RAIL  \\\n",
       "0  Rail (intercity, heavy, light, or commuter) se...   \n",
       "1  Rail (intercity, heavy, light, or commuter) se...   \n",
       "2  Rail (intercity, heavy, light, or commuter) se...   \n",
       "3  Rail (intercity, heavy, light, or commuter) se...   \n",
       "4  Rail (intercity, heavy, light, or commuter) se...   \n",
       "\n",
       "                                          MODE_FERRY  \n",
       "0  No ferry (intercity or transit) service available  \n",
       "1  No ferry (intercity or transit) service available  \n",
       "2  Ferry (intercity or transit) service is available  \n",
       "3  No ferry (intercity or transit) service available  \n",
       "4  No ferry (intercity or transit) service available  "
      ]
     },
     "execution_count": 124,
     "metadata": {},
     "output_type": "execute_result"
    }
   ],
   "source": [
    "transit_info.head()"
   ]
  },
  {
   "cell_type": "markdown",
   "metadata": {},
   "source": [
    "On the transit info data, let's rename the columns and then get replace the blanks with NaN values."
   ]
  },
  {
   "cell_type": "code",
   "execution_count": 125,
   "metadata": {},
   "outputs": [],
   "source": [
    "transit_info.columns = ['station_name','city','zip','latitude','longitude','transit_modes','bus','rail','ferry']\n",
    "transit_info = transit_info.replace(r'^\\s*$', np.NaN, regex=True)"
   ]
  },
  {
   "cell_type": "code",
   "execution_count": 126,
   "metadata": {},
   "outputs": [
    {
     "data": {
      "text/plain": [
       "(408, 9)"
      ]
     },
     "execution_count": 126,
     "metadata": {},
     "output_type": "execute_result"
    }
   ],
   "source": [
    "transit_info.shape"
   ]
  },
  {
   "cell_type": "markdown",
   "metadata": {},
   "source": [
    "Now I'll rename the bus, rail, and ferry columns to something simpler."
   ]
  },
  {
   "cell_type": "code",
   "execution_count": 127,
   "metadata": {},
   "outputs": [
    {
     "data": {
      "text/plain": [
       "Bus (transit, intercity, supplemental, or code-share) service is available    280\n",
       "No bus (transit, intercity, supplemental, or code-share) service available    128\n",
       "Name: bus, dtype: int64"
      ]
     },
     "execution_count": 127,
     "metadata": {},
     "output_type": "execute_result"
    }
   ],
   "source": [
    "transit_info.bus.value_counts()"
   ]
  },
  {
   "cell_type": "code",
   "execution_count": 128,
   "metadata": {},
   "outputs": [],
   "source": [
    "replace_bus_values = {'Bus (transit, intercity, supplemental, or code-share) service is available' : 1, \n",
    "                      'No bus (transit, intercity, supplemental, or code-share) service available' : 0}\n",
    "transit_info = transit_info.replace({\"bus\": replace_bus_values})"
   ]
  },
  {
   "cell_type": "code",
   "execution_count": 129,
   "metadata": {},
   "outputs": [
    {
     "data": {
      "text/plain": [
       "No rail (intercity, heavy, light, or commuter) service available    339\n",
       "Rail (intercity, heavy, light, or commuter) service is available     69\n",
       "Name: rail, dtype: int64"
      ]
     },
     "execution_count": 129,
     "metadata": {},
     "output_type": "execute_result"
    }
   ],
   "source": [
    "transit_info.rail.value_counts()"
   ]
  },
  {
   "cell_type": "code",
   "execution_count": 130,
   "metadata": {},
   "outputs": [],
   "source": [
    "replace_rail_values = {'Rail (intercity, heavy, light, or commuter) service is available' : 1, \n",
    "                      'No rail (intercity, heavy, light, or commuter) service available' : 0}\n",
    "transit_info = transit_info.replace({\"rail\": replace_rail_values})"
   ]
  },
  {
   "cell_type": "code",
   "execution_count": 131,
   "metadata": {},
   "outputs": [
    {
     "data": {
      "text/plain": [
       "No ferry (intercity or transit) service available    406\n",
       "Ferry (intercity or transit) service is available      2\n",
       "Name: ferry, dtype: int64"
      ]
     },
     "execution_count": 131,
     "metadata": {},
     "output_type": "execute_result"
    }
   ],
   "source": [
    "transit_info.ferry.value_counts()"
   ]
  },
  {
   "cell_type": "code",
   "execution_count": 132,
   "metadata": {},
   "outputs": [],
   "source": [
    "replace_ferry_values = {'Ferry (intercity or transit) service is available' : 1, \n",
    "                      'No ferry (intercity or transit) service available' : 0}\n",
    "transit_info = transit_info.replace({\"ferry\": replace_ferry_values})"
   ]
  },
  {
   "cell_type": "code",
   "execution_count": 133,
   "metadata": {},
   "outputs": [
    {
     "data": {
      "text/html": [
       "<div>\n",
       "<style scoped>\n",
       "    .dataframe tbody tr th:only-of-type {\n",
       "        vertical-align: middle;\n",
       "    }\n",
       "\n",
       "    .dataframe tbody tr th {\n",
       "        vertical-align: top;\n",
       "    }\n",
       "\n",
       "    .dataframe thead th {\n",
       "        text-align: right;\n",
       "    }\n",
       "</style>\n",
       "<table border=\"1\" class=\"dataframe\">\n",
       "  <thead>\n",
       "    <tr style=\"text-align: right;\">\n",
       "      <th></th>\n",
       "      <th>station_name</th>\n",
       "      <th>city</th>\n",
       "      <th>zip</th>\n",
       "      <th>latitude</th>\n",
       "      <th>longitude</th>\n",
       "      <th>transit_modes</th>\n",
       "      <th>bus</th>\n",
       "      <th>rail</th>\n",
       "      <th>ferry</th>\n",
       "    </tr>\n",
       "  </thead>\n",
       "  <tbody>\n",
       "    <tr>\n",
       "      <th>0</th>\n",
       "      <td>Post St at Kearny St</td>\n",
       "      <td>San Francisco</td>\n",
       "      <td>94104</td>\n",
       "      <td>-122.403452</td>\n",
       "      <td>37.788975</td>\n",
       "      <td>2</td>\n",
       "      <td>1</td>\n",
       "      <td>1</td>\n",
       "      <td>0</td>\n",
       "    </tr>\n",
       "    <tr>\n",
       "      <th>1</th>\n",
       "      <td>Montgomery St BART Station (Market St at 2nd St)</td>\n",
       "      <td>San Francisco</td>\n",
       "      <td>94105</td>\n",
       "      <td>-122.400811</td>\n",
       "      <td>37.789625</td>\n",
       "      <td>2</td>\n",
       "      <td>1</td>\n",
       "      <td>1</td>\n",
       "      <td>0</td>\n",
       "    </tr>\n",
       "    <tr>\n",
       "      <th>2</th>\n",
       "      <td>San Francisco Ferry Building (Harry Bridges Pl...</td>\n",
       "      <td>San Francisco</td>\n",
       "      <td>94111</td>\n",
       "      <td>-122.394203</td>\n",
       "      <td>37.795392</td>\n",
       "      <td>3</td>\n",
       "      <td>1</td>\n",
       "      <td>1</td>\n",
       "      <td>1</td>\n",
       "    </tr>\n",
       "    <tr>\n",
       "      <th>3</th>\n",
       "      <td>San Francisco Caltrain (Townsend St at 4th St)</td>\n",
       "      <td>San Francisco</td>\n",
       "      <td>94107</td>\n",
       "      <td>-122.395282</td>\n",
       "      <td>37.776598</td>\n",
       "      <td>2</td>\n",
       "      <td>1</td>\n",
       "      <td>1</td>\n",
       "      <td>0</td>\n",
       "    </tr>\n",
       "    <tr>\n",
       "      <th>4</th>\n",
       "      <td>Embarcadero BART Station (Beale St at Market St)</td>\n",
       "      <td>San Francisco</td>\n",
       "      <td>94105</td>\n",
       "      <td>-122.397086</td>\n",
       "      <td>37.792251</td>\n",
       "      <td>2</td>\n",
       "      <td>1</td>\n",
       "      <td>1</td>\n",
       "      <td>0</td>\n",
       "    </tr>\n",
       "  </tbody>\n",
       "</table>\n",
       "</div>"
      ],
      "text/plain": [
       "                                        station_name           city    zip  \\\n",
       "0                               Post St at Kearny St  San Francisco  94104   \n",
       "1   Montgomery St BART Station (Market St at 2nd St)  San Francisco  94105   \n",
       "2  San Francisco Ferry Building (Harry Bridges Pl...  San Francisco  94111   \n",
       "3     San Francisco Caltrain (Townsend St at 4th St)  San Francisco  94107   \n",
       "4   Embarcadero BART Station (Beale St at Market St)  San Francisco  94105   \n",
       "\n",
       "     latitude  longitude  transit_modes  bus  rail  ferry  \n",
       "0 -122.403452  37.788975              2    1     1      0  \n",
       "1 -122.400811  37.789625              2    1     1      0  \n",
       "2 -122.394203  37.795392              3    1     1      1  \n",
       "3 -122.395282  37.776598              2    1     1      0  \n",
       "4 -122.397086  37.792251              2    1     1      0  "
      ]
     },
     "execution_count": 133,
     "metadata": {},
     "output_type": "execute_result"
    }
   ],
   "source": [
    "transit_info['transit_modes'] = transit_info['transit_modes'] - 1\n",
    "transit_info.dropna(axis=0,inplace=True)\n",
    "transit_info.head()"
   ]
  },
  {
   "cell_type": "markdown",
   "metadata": {},
   "source": [
    "That looks much better. Now I'm ready to merge the first two dataframes based on station name, which has a consistent naming convention between the two."
   ]
  },
  {
   "cell_type": "code",
   "execution_count": 134,
   "metadata": {},
   "outputs": [],
   "source": [
    "bw['start_zip'] = bw['start_station_name'].map(transit_info.set_index('station_name')['zip'])\n",
    "bw['end_zip'] = bw['end_station_name'].map(transit_info.set_index('station_name')['zip'])\n",
    "bw['start_transit'] = bw['start_station_name'].map(transit_info.set_index('station_name')['transit_modes'])\n",
    "bw['end_transit'] = bw['end_station_name'].map(transit_info.set_index('station_name')['transit_modes'])\n",
    "bw['start_city'] = bw['start_station_name'].map(transit_info.set_index('station_name')['city'])\n",
    "bw['end_city'] = bw['end_station_name'].map(transit_info.set_index('station_name')['city'])\n",
    "\n",
    "bw['is_subscriber'] = bw.user_type.replace(to_replace=['Customer', 'Subscriber'], value=[0, 1])"
   ]
  },
  {
   "cell_type": "markdown",
   "metadata": {},
   "source": [
    "I'm also going to calculate a new column for Manhattan distance, which is the difference between the starting and ending latitude and longitude points, added together."
   ]
  },
  {
   "cell_type": "code",
   "execution_count": 135,
   "metadata": {},
   "outputs": [],
   "source": [
    "bw['lat_diff'] = bw['start_lat'] - bw['end_lat']\n",
    "bw['long_diff'] = bw['start_long'] - bw['end_long']\n",
    "bw['manhattan_dist'] = np.abs(bw['lat_diff']) + np.abs(bw['long_diff'])"
   ]
  },
  {
   "cell_type": "code",
   "execution_count": 136,
   "metadata": {},
   "outputs": [
    {
     "data": {
      "text/html": [
       "<div>\n",
       "<style scoped>\n",
       "    .dataframe tbody tr th:only-of-type {\n",
       "        vertical-align: middle;\n",
       "    }\n",
       "\n",
       "    .dataframe tbody tr th {\n",
       "        vertical-align: top;\n",
       "    }\n",
       "\n",
       "    .dataframe thead th {\n",
       "        text-align: right;\n",
       "    }\n",
       "</style>\n",
       "<table border=\"1\" class=\"dataframe\">\n",
       "  <thead>\n",
       "    <tr style=\"text-align: right;\">\n",
       "      <th></th>\n",
       "      <th>duration_sec</th>\n",
       "      <th>start_time</th>\n",
       "      <th>end_time</th>\n",
       "      <th>start_station_name</th>\n",
       "      <th>start_lat</th>\n",
       "      <th>start_long</th>\n",
       "      <th>end_station_name</th>\n",
       "      <th>end_lat</th>\n",
       "      <th>end_long</th>\n",
       "      <th>user_type</th>\n",
       "      <th>...</th>\n",
       "      <th>start_zip</th>\n",
       "      <th>end_zip</th>\n",
       "      <th>start_transit</th>\n",
       "      <th>end_transit</th>\n",
       "      <th>start_city</th>\n",
       "      <th>end_city</th>\n",
       "      <th>is_subscriber</th>\n",
       "      <th>lat_diff</th>\n",
       "      <th>long_diff</th>\n",
       "      <th>manhattan_dist</th>\n",
       "    </tr>\n",
       "  </thead>\n",
       "  <tbody>\n",
       "    <tr>\n",
       "      <th>0</th>\n",
       "      <td>787</td>\n",
       "      <td>1/12/20 17:07</td>\n",
       "      <td>1/12/20 17:20</td>\n",
       "      <td>10th Ave at Irving St</td>\n",
       "      <td>37.764091</td>\n",
       "      <td>-122.467378</td>\n",
       "      <td>10th Ave at Irving St</td>\n",
       "      <td>37.764091</td>\n",
       "      <td>-122.467378</td>\n",
       "      <td>Subscriber</td>\n",
       "      <td>...</td>\n",
       "      <td>NaN</td>\n",
       "      <td>NaN</td>\n",
       "      <td>NaN</td>\n",
       "      <td>NaN</td>\n",
       "      <td>NaN</td>\n",
       "      <td>NaN</td>\n",
       "      <td>1</td>\n",
       "      <td>0.000000</td>\n",
       "      <td>0.000000</td>\n",
       "      <td>0.000000</td>\n",
       "    </tr>\n",
       "    <tr>\n",
       "      <th>1</th>\n",
       "      <td>543</td>\n",
       "      <td>1/25/20 17:37</td>\n",
       "      <td>1/25/20 17:46</td>\n",
       "      <td>5th Ave at Anza St</td>\n",
       "      <td>37.779488</td>\n",
       "      <td>-122.463142</td>\n",
       "      <td>10th Ave at Irving St</td>\n",
       "      <td>37.764091</td>\n",
       "      <td>-122.467378</td>\n",
       "      <td>Subscriber</td>\n",
       "      <td>...</td>\n",
       "      <td>NaN</td>\n",
       "      <td>NaN</td>\n",
       "      <td>NaN</td>\n",
       "      <td>NaN</td>\n",
       "      <td>NaN</td>\n",
       "      <td>NaN</td>\n",
       "      <td>1</td>\n",
       "      <td>0.015397</td>\n",
       "      <td>0.004237</td>\n",
       "      <td>0.019633</td>\n",
       "    </tr>\n",
       "    <tr>\n",
       "      <th>2</th>\n",
       "      <td>1860</td>\n",
       "      <td>1/10/20 19:33</td>\n",
       "      <td>1/10/20 20:04</td>\n",
       "      <td>Carl St at Cole St</td>\n",
       "      <td>37.765910</td>\n",
       "      <td>-122.449257</td>\n",
       "      <td>10th Ave at Irving St</td>\n",
       "      <td>37.764091</td>\n",
       "      <td>-122.467378</td>\n",
       "      <td>Customer</td>\n",
       "      <td>...</td>\n",
       "      <td>94117.0</td>\n",
       "      <td>NaN</td>\n",
       "      <td>2.0</td>\n",
       "      <td>NaN</td>\n",
       "      <td>San Francisco</td>\n",
       "      <td>NaN</td>\n",
       "      <td>0</td>\n",
       "      <td>0.001819</td>\n",
       "      <td>0.018121</td>\n",
       "      <td>0.019940</td>\n",
       "    </tr>\n",
       "    <tr>\n",
       "      <th>3</th>\n",
       "      <td>1601</td>\n",
       "      <td>1/22/20 13:36</td>\n",
       "      <td>1/22/20 14:03</td>\n",
       "      <td>Embarcadero BART Station (Beale St at Market St)</td>\n",
       "      <td>37.792251</td>\n",
       "      <td>-122.397086</td>\n",
       "      <td>10th Ave at Irving St</td>\n",
       "      <td>37.764091</td>\n",
       "      <td>-122.467378</td>\n",
       "      <td>Subscriber</td>\n",
       "      <td>...</td>\n",
       "      <td>94105.0</td>\n",
       "      <td>NaN</td>\n",
       "      <td>2.0</td>\n",
       "      <td>NaN</td>\n",
       "      <td>San Francisco</td>\n",
       "      <td>NaN</td>\n",
       "      <td>1</td>\n",
       "      <td>0.028160</td>\n",
       "      <td>0.070292</td>\n",
       "      <td>0.098452</td>\n",
       "    </tr>\n",
       "    <tr>\n",
       "      <th>4</th>\n",
       "      <td>337</td>\n",
       "      <td>1/12/20 7:24</td>\n",
       "      <td>1/12/20 7:30</td>\n",
       "      <td>Frederick St at Arguello Blvd</td>\n",
       "      <td>37.765783</td>\n",
       "      <td>-122.457637</td>\n",
       "      <td>10th Ave at Irving St</td>\n",
       "      <td>37.764091</td>\n",
       "      <td>-122.467378</td>\n",
       "      <td>Subscriber</td>\n",
       "      <td>...</td>\n",
       "      <td>NaN</td>\n",
       "      <td>NaN</td>\n",
       "      <td>NaN</td>\n",
       "      <td>NaN</td>\n",
       "      <td>NaN</td>\n",
       "      <td>NaN</td>\n",
       "      <td>1</td>\n",
       "      <td>0.001692</td>\n",
       "      <td>0.009742</td>\n",
       "      <td>0.011434</td>\n",
       "    </tr>\n",
       "  </tbody>\n",
       "</table>\n",
       "<p>5 rows × 21 columns</p>\n",
       "</div>"
      ],
      "text/plain": [
       "   duration_sec     start_time       end_time  \\\n",
       "0           787  1/12/20 17:07  1/12/20 17:20   \n",
       "1           543  1/25/20 17:37  1/25/20 17:46   \n",
       "2          1860  1/10/20 19:33  1/10/20 20:04   \n",
       "3          1601  1/22/20 13:36  1/22/20 14:03   \n",
       "4           337   1/12/20 7:24   1/12/20 7:30   \n",
       "\n",
       "                                 start_station_name  start_lat  start_long  \\\n",
       "0                             10th Ave at Irving St  37.764091 -122.467378   \n",
       "1                                5th Ave at Anza St  37.779488 -122.463142   \n",
       "2                                Carl St at Cole St  37.765910 -122.449257   \n",
       "3  Embarcadero BART Station (Beale St at Market St)  37.792251 -122.397086   \n",
       "4                     Frederick St at Arguello Blvd  37.765783 -122.457637   \n",
       "\n",
       "        end_station_name    end_lat    end_long   user_type  ... start_zip  \\\n",
       "0  10th Ave at Irving St  37.764091 -122.467378  Subscriber  ...       NaN   \n",
       "1  10th Ave at Irving St  37.764091 -122.467378  Subscriber  ...       NaN   \n",
       "2  10th Ave at Irving St  37.764091 -122.467378    Customer  ...   94117.0   \n",
       "3  10th Ave at Irving St  37.764091 -122.467378  Subscriber  ...   94105.0   \n",
       "4  10th Ave at Irving St  37.764091 -122.467378  Subscriber  ...       NaN   \n",
       "\n",
       "   end_zip  start_transit  end_transit     start_city end_city is_subscriber  \\\n",
       "0      NaN            NaN          NaN            NaN      NaN             1   \n",
       "1      NaN            NaN          NaN            NaN      NaN             1   \n",
       "2      NaN            2.0          NaN  San Francisco      NaN             0   \n",
       "3      NaN            2.0          NaN  San Francisco      NaN             1   \n",
       "4      NaN            NaN          NaN            NaN      NaN             1   \n",
       "\n",
       "   lat_diff  long_diff  manhattan_dist  \n",
       "0  0.000000   0.000000        0.000000  \n",
       "1  0.015397   0.004237        0.019633  \n",
       "2  0.001819   0.018121        0.019940  \n",
       "3  0.028160   0.070292        0.098452  \n",
       "4  0.001692   0.009742        0.011434  \n",
       "\n",
       "[5 rows x 21 columns]"
      ]
     },
     "execution_count": 136,
     "metadata": {},
     "output_type": "execute_result"
    }
   ],
   "source": [
    "bw.head()"
   ]
  },
  {
   "cell_type": "code",
   "execution_count": 137,
   "metadata": {},
   "outputs": [
    {
     "data": {
      "text/plain": [
       "0.000000    3568\n",
       "0.011965     428\n",
       "0.020545     396\n",
       "0.019672     365\n",
       "0.018556     347\n",
       "            ... \n",
       "0.006098       1\n",
       "0.017827       1\n",
       "0.021067       1\n",
       "0.063860       1\n",
       "0.082631       1\n",
       "Name: manhattan_dist, Length: 15722, dtype: int64"
      ]
     },
     "execution_count": 137,
     "metadata": {},
     "output_type": "execute_result"
    }
   ],
   "source": [
    "bw.manhattan_dist.value_counts(ascending=False)"
   ]
  },
  {
   "cell_type": "markdown",
   "metadata": {},
   "source": [
    "I want to get rid of the 3,568 rows with 0.0 values for Manhattan distance. I think it's a pretty important metric for this project."
   ]
  },
  {
   "cell_type": "code",
   "execution_count": 138,
   "metadata": {},
   "outputs": [],
   "source": [
    "mask = bw[(bw['manhattan_dist'] == 0.0)].index\n",
    "bw.drop(mask, inplace=True)"
   ]
  },
  {
   "cell_type": "code",
   "execution_count": 139,
   "metadata": {},
   "outputs": [
    {
     "data": {
      "text/plain": [
       "San Francisco    67178\n",
       "Oakland          14667\n",
       "Berkeley         11695\n",
       "San Jose          4462\n",
       "Emeryville        2039\n",
       "New York            24\n",
       "Name: start_city, dtype: int64"
      ]
     },
     "execution_count": 139,
     "metadata": {},
     "output_type": "execute_result"
    }
   ],
   "source": [
    "bw.start_city.value_counts(ascending=False)"
   ]
  },
  {
   "cell_type": "markdown",
   "metadata": {},
   "source": [
    "Why is New York in there? No idea, but let's get rid of it in both the `start_city` and `end_city` columns."
   ]
  },
  {
   "cell_type": "code",
   "execution_count": 140,
   "metadata": {},
   "outputs": [],
   "source": [
    "mask = bw[(bw['start_city'] == 'New York')].index\n",
    "bw.drop(mask, inplace=True)"
   ]
  },
  {
   "cell_type": "code",
   "execution_count": 141,
   "metadata": {},
   "outputs": [
    {
     "data": {
      "text/plain": [
       "San Francisco    66876\n",
       "Oakland          15005\n",
       "Berkeley         11221\n",
       "San Jose          3883\n",
       "Emeryville        2277\n",
       "New York            27\n",
       "Name: end_city, dtype: int64"
      ]
     },
     "execution_count": 141,
     "metadata": {},
     "output_type": "execute_result"
    }
   ],
   "source": [
    "bw.end_city.value_counts(ascending=False)"
   ]
  },
  {
   "cell_type": "code",
   "execution_count": 142,
   "metadata": {},
   "outputs": [],
   "source": [
    "mask = bw[(bw['end_city'] == 'New York')].index\n",
    "bw.drop(mask, inplace=True)"
   ]
  },
  {
   "cell_type": "markdown",
   "metadata": {},
   "source": [
    "Our third and final dataframe is a json file I got from the General Bikeshare Feed Specification, linked from the site where I got Lyft's Bay Wheels ridership data."
   ]
  },
  {
   "cell_type": "code",
   "execution_count": 143,
   "metadata": {},
   "outputs": [
    {
     "data": {
      "text/html": [
       "<div>\n",
       "<style scoped>\n",
       "    .dataframe tbody tr th:only-of-type {\n",
       "        vertical-align: middle;\n",
       "    }\n",
       "\n",
       "    .dataframe tbody tr th {\n",
       "        vertical-align: top;\n",
       "    }\n",
       "\n",
       "    .dataframe thead th {\n",
       "        text-align: right;\n",
       "    }\n",
       "</style>\n",
       "<table border=\"1\" class=\"dataframe\">\n",
       "  <thead>\n",
       "    <tr style=\"text-align: right;\">\n",
       "      <th></th>\n",
       "      <th>name</th>\n",
       "      <th>capacity</th>\n",
       "      <th>lon</th>\n",
       "      <th>legacy_id</th>\n",
       "      <th>lat</th>\n",
       "      <th>electric_bike_surcharge_waiver</th>\n",
       "      <th>short_name</th>\n",
       "      <th>region_id</th>\n",
       "      <th>external_id</th>\n",
       "      <th>eightd_has_key_dispenser</th>\n",
       "      <th>eightd_station_services</th>\n",
       "      <th>station_id</th>\n",
       "      <th>has_kiosk</th>\n",
       "      <th>station_type</th>\n",
       "      <th>rental_methods</th>\n",
       "      <th>rental_uris</th>\n",
       "    </tr>\n",
       "  </thead>\n",
       "  <tbody>\n",
       "    <tr>\n",
       "      <th>0</th>\n",
       "      <td>Powell St BART Station (Market St at 4th St)</td>\n",
       "      <td>35</td>\n",
       "      <td>-122.404904</td>\n",
       "      <td>3</td>\n",
       "      <td>37.786375</td>\n",
       "      <td>False</td>\n",
       "      <td>SF-G27</td>\n",
       "      <td>3.0</td>\n",
       "      <td>1b13a386-c5f4-42cc-bc3b-ded95982e090</td>\n",
       "      <td>False</td>\n",
       "      <td>[]</td>\n",
       "      <td>3</td>\n",
       "      <td>True</td>\n",
       "      <td>classic</td>\n",
       "      <td>[KEY, CREDITCARD]</td>\n",
       "      <td>{'ios': 'https://sfo.lft.to/lastmile_qr_scan',...</td>\n",
       "    </tr>\n",
       "    <tr>\n",
       "      <th>1</th>\n",
       "      <td>Cyril Magnin St at Ellis St</td>\n",
       "      <td>35</td>\n",
       "      <td>-122.408923</td>\n",
       "      <td>4</td>\n",
       "      <td>37.785876</td>\n",
       "      <td>False</td>\n",
       "      <td>SF-G26</td>\n",
       "      <td>3.0</td>\n",
       "      <td>a00d04e6-0159-466a-b3ab-23f9550f418c</td>\n",
       "      <td>False</td>\n",
       "      <td>[]</td>\n",
       "      <td>4</td>\n",
       "      <td>True</td>\n",
       "      <td>classic</td>\n",
       "      <td>[KEY, CREDITCARD]</td>\n",
       "      <td>{'ios': 'https://sfo.lft.to/lastmile_qr_scan',...</td>\n",
       "    </tr>\n",
       "    <tr>\n",
       "      <th>2</th>\n",
       "      <td>Powell St BART Station (Market St at 5th St)</td>\n",
       "      <td>35</td>\n",
       "      <td>-122.408445</td>\n",
       "      <td>5</td>\n",
       "      <td>37.783899</td>\n",
       "      <td>False</td>\n",
       "      <td>SF-H26</td>\n",
       "      <td>3.0</td>\n",
       "      <td>a1e0b4b2-2c5c-4201-a78c-9e8a2152ab4e</td>\n",
       "      <td>False</td>\n",
       "      <td>[]</td>\n",
       "      <td>5</td>\n",
       "      <td>True</td>\n",
       "      <td>classic</td>\n",
       "      <td>[KEY, CREDITCARD]</td>\n",
       "      <td>{'ios': 'https://sfo.lft.to/lastmile_qr_scan',...</td>\n",
       "    </tr>\n",
       "  </tbody>\n",
       "</table>\n",
       "</div>"
      ],
      "text/plain": [
       "                                           name  capacity         lon  \\\n",
       "0  Powell St BART Station (Market St at 4th St)        35 -122.404904   \n",
       "1                   Cyril Magnin St at Ellis St        35 -122.408923   \n",
       "2  Powell St BART Station (Market St at 5th St)        35 -122.408445   \n",
       "\n",
       "   legacy_id        lat  electric_bike_surcharge_waiver short_name  region_id  \\\n",
       "0          3  37.786375                           False     SF-G27        3.0   \n",
       "1          4  37.785876                           False     SF-G26        3.0   \n",
       "2          5  37.783899                           False     SF-H26        3.0   \n",
       "\n",
       "                            external_id  eightd_has_key_dispenser  \\\n",
       "0  1b13a386-c5f4-42cc-bc3b-ded95982e090                     False   \n",
       "1  a00d04e6-0159-466a-b3ab-23f9550f418c                     False   \n",
       "2  a1e0b4b2-2c5c-4201-a78c-9e8a2152ab4e                     False   \n",
       "\n",
       "  eightd_station_services  station_id  has_kiosk station_type  \\\n",
       "0                      []           3       True      classic   \n",
       "1                      []           4       True      classic   \n",
       "2                      []           5       True      classic   \n",
       "\n",
       "      rental_methods                                        rental_uris  \n",
       "0  [KEY, CREDITCARD]  {'ios': 'https://sfo.lft.to/lastmile_qr_scan',...  \n",
       "1  [KEY, CREDITCARD]  {'ios': 'https://sfo.lft.to/lastmile_qr_scan',...  \n",
       "2  [KEY, CREDITCARD]  {'ios': 'https://sfo.lft.to/lastmile_qr_scan',...  "
      ]
     },
     "execution_count": 143,
     "metadata": {},
     "output_type": "execute_result"
    }
   ],
   "source": [
    "station_info = pd.read_json('station_information.json')\n",
    "station_info.head(3)"
   ]
  },
  {
   "cell_type": "markdown",
   "metadata": {},
   "source": [
    "Let's drop the columns I don't care about."
   ]
  },
  {
   "cell_type": "code",
   "execution_count": 144,
   "metadata": {},
   "outputs": [
    {
     "data": {
      "text/html": [
       "<div>\n",
       "<style scoped>\n",
       "    .dataframe tbody tr th:only-of-type {\n",
       "        vertical-align: middle;\n",
       "    }\n",
       "\n",
       "    .dataframe tbody tr th {\n",
       "        vertical-align: top;\n",
       "    }\n",
       "\n",
       "    .dataframe thead th {\n",
       "        text-align: right;\n",
       "    }\n",
       "</style>\n",
       "<table border=\"1\" class=\"dataframe\">\n",
       "  <thead>\n",
       "    <tr style=\"text-align: right;\">\n",
       "      <th></th>\n",
       "      <th>name</th>\n",
       "      <th>capacity</th>\n",
       "      <th>lon</th>\n",
       "      <th>lat</th>\n",
       "    </tr>\n",
       "  </thead>\n",
       "  <tbody>\n",
       "    <tr>\n",
       "      <th>0</th>\n",
       "      <td>Powell St BART Station (Market St at 4th St)</td>\n",
       "      <td>35</td>\n",
       "      <td>-122.404904</td>\n",
       "      <td>37.786375</td>\n",
       "    </tr>\n",
       "    <tr>\n",
       "      <th>1</th>\n",
       "      <td>Cyril Magnin St at Ellis St</td>\n",
       "      <td>35</td>\n",
       "      <td>-122.408923</td>\n",
       "      <td>37.785876</td>\n",
       "    </tr>\n",
       "    <tr>\n",
       "      <th>2</th>\n",
       "      <td>Powell St BART Station (Market St at 5th St)</td>\n",
       "      <td>35</td>\n",
       "      <td>-122.408445</td>\n",
       "      <td>37.783899</td>\n",
       "    </tr>\n",
       "    <tr>\n",
       "      <th>3</th>\n",
       "      <td>The Embarcadero at Sansome St</td>\n",
       "      <td>23</td>\n",
       "      <td>-122.403234</td>\n",
       "      <td>37.804770</td>\n",
       "    </tr>\n",
       "    <tr>\n",
       "      <th>4</th>\n",
       "      <td>Frank H Ogawa Plaza</td>\n",
       "      <td>19</td>\n",
       "      <td>-122.271738</td>\n",
       "      <td>37.804562</td>\n",
       "    </tr>\n",
       "  </tbody>\n",
       "</table>\n",
       "</div>"
      ],
      "text/plain": [
       "                                           name  capacity         lon  \\\n",
       "0  Powell St BART Station (Market St at 4th St)        35 -122.404904   \n",
       "1                   Cyril Magnin St at Ellis St        35 -122.408923   \n",
       "2  Powell St BART Station (Market St at 5th St)        35 -122.408445   \n",
       "3                 The Embarcadero at Sansome St        23 -122.403234   \n",
       "4                           Frank H Ogawa Plaza        19 -122.271738   \n",
       "\n",
       "         lat  \n",
       "0  37.786375  \n",
       "1  37.785876  \n",
       "2  37.783899  \n",
       "3  37.804770  \n",
       "4  37.804562  "
      ]
     },
     "execution_count": 144,
     "metadata": {},
     "output_type": "execute_result"
    }
   ],
   "source": [
    "station_info.drop(['legacy_id', 'electric_bike_surcharge_waiver','short_name','region_id','external_id','eightd_has_key_dispenser','eightd_station_services','station_id',\n",
    "                   'has_kiosk','station_type','rental_methods','rental_uris'],axis=1, inplace=True)\n",
    "station_info.head(5)"
   ]
  },
  {
   "cell_type": "markdown",
   "metadata": {},
   "source": [
    "And join this clean dataframe to the previously merged `bw` dataframe."
   ]
  },
  {
   "cell_type": "code",
   "execution_count": 145,
   "metadata": {},
   "outputs": [],
   "source": [
    "bw['start_cap'] = bw['start_station_name'].map(station_info.set_index('name')['capacity'])\n",
    "bw['end_cap'] = bw['end_station_name'].map(station_info.set_index('name')['capacity'])"
   ]
  },
  {
   "cell_type": "code",
   "execution_count": 146,
   "metadata": {},
   "outputs": [
    {
     "data": {
      "text/html": [
       "<div>\n",
       "<style scoped>\n",
       "    .dataframe tbody tr th:only-of-type {\n",
       "        vertical-align: middle;\n",
       "    }\n",
       "\n",
       "    .dataframe tbody tr th {\n",
       "        vertical-align: top;\n",
       "    }\n",
       "\n",
       "    .dataframe thead th {\n",
       "        text-align: right;\n",
       "    }\n",
       "</style>\n",
       "<table border=\"1\" class=\"dataframe\">\n",
       "  <thead>\n",
       "    <tr style=\"text-align: right;\">\n",
       "      <th></th>\n",
       "      <th>duration_sec</th>\n",
       "      <th>start_time</th>\n",
       "      <th>end_time</th>\n",
       "      <th>start_station_name</th>\n",
       "      <th>start_lat</th>\n",
       "      <th>start_long</th>\n",
       "      <th>end_station_name</th>\n",
       "      <th>end_lat</th>\n",
       "      <th>end_long</th>\n",
       "      <th>user_type</th>\n",
       "      <th>...</th>\n",
       "      <th>start_transit</th>\n",
       "      <th>end_transit</th>\n",
       "      <th>start_city</th>\n",
       "      <th>end_city</th>\n",
       "      <th>is_subscriber</th>\n",
       "      <th>lat_diff</th>\n",
       "      <th>long_diff</th>\n",
       "      <th>manhattan_dist</th>\n",
       "      <th>start_cap</th>\n",
       "      <th>end_cap</th>\n",
       "    </tr>\n",
       "  </thead>\n",
       "  <tbody>\n",
       "    <tr>\n",
       "      <th>1</th>\n",
       "      <td>543</td>\n",
       "      <td>1/25/20 17:37</td>\n",
       "      <td>1/25/20 17:46</td>\n",
       "      <td>5th Ave at Anza St</td>\n",
       "      <td>37.779488</td>\n",
       "      <td>-122.463142</td>\n",
       "      <td>10th Ave at Irving St</td>\n",
       "      <td>37.764091</td>\n",
       "      <td>-122.467378</td>\n",
       "      <td>Subscriber</td>\n",
       "      <td>...</td>\n",
       "      <td>NaN</td>\n",
       "      <td>NaN</td>\n",
       "      <td>NaN</td>\n",
       "      <td>NaN</td>\n",
       "      <td>1</td>\n",
       "      <td>0.015397</td>\n",
       "      <td>0.004237</td>\n",
       "      <td>0.019633</td>\n",
       "      <td>21.0</td>\n",
       "      <td>23.0</td>\n",
       "    </tr>\n",
       "    <tr>\n",
       "      <th>2</th>\n",
       "      <td>1860</td>\n",
       "      <td>1/10/20 19:33</td>\n",
       "      <td>1/10/20 20:04</td>\n",
       "      <td>Carl St at Cole St</td>\n",
       "      <td>37.765910</td>\n",
       "      <td>-122.449257</td>\n",
       "      <td>10th Ave at Irving St</td>\n",
       "      <td>37.764091</td>\n",
       "      <td>-122.467378</td>\n",
       "      <td>Customer</td>\n",
       "      <td>...</td>\n",
       "      <td>2.0</td>\n",
       "      <td>NaN</td>\n",
       "      <td>San Francisco</td>\n",
       "      <td>NaN</td>\n",
       "      <td>0</td>\n",
       "      <td>0.001819</td>\n",
       "      <td>0.018121</td>\n",
       "      <td>0.019940</td>\n",
       "      <td>23.0</td>\n",
       "      <td>23.0</td>\n",
       "    </tr>\n",
       "    <tr>\n",
       "      <th>3</th>\n",
       "      <td>1601</td>\n",
       "      <td>1/22/20 13:36</td>\n",
       "      <td>1/22/20 14:03</td>\n",
       "      <td>Embarcadero BART Station (Beale St at Market St)</td>\n",
       "      <td>37.792251</td>\n",
       "      <td>-122.397086</td>\n",
       "      <td>10th Ave at Irving St</td>\n",
       "      <td>37.764091</td>\n",
       "      <td>-122.467378</td>\n",
       "      <td>Subscriber</td>\n",
       "      <td>...</td>\n",
       "      <td>2.0</td>\n",
       "      <td>NaN</td>\n",
       "      <td>San Francisco</td>\n",
       "      <td>NaN</td>\n",
       "      <td>1</td>\n",
       "      <td>0.028160</td>\n",
       "      <td>0.070292</td>\n",
       "      <td>0.098452</td>\n",
       "      <td>27.0</td>\n",
       "      <td>23.0</td>\n",
       "    </tr>\n",
       "    <tr>\n",
       "      <th>4</th>\n",
       "      <td>337</td>\n",
       "      <td>1/12/20 7:24</td>\n",
       "      <td>1/12/20 7:30</td>\n",
       "      <td>Frederick St at Arguello Blvd</td>\n",
       "      <td>37.765783</td>\n",
       "      <td>-122.457637</td>\n",
       "      <td>10th Ave at Irving St</td>\n",
       "      <td>37.764091</td>\n",
       "      <td>-122.467378</td>\n",
       "      <td>Subscriber</td>\n",
       "      <td>...</td>\n",
       "      <td>NaN</td>\n",
       "      <td>NaN</td>\n",
       "      <td>NaN</td>\n",
       "      <td>NaN</td>\n",
       "      <td>1</td>\n",
       "      <td>0.001692</td>\n",
       "      <td>0.009742</td>\n",
       "      <td>0.011434</td>\n",
       "      <td>19.0</td>\n",
       "      <td>23.0</td>\n",
       "    </tr>\n",
       "    <tr>\n",
       "      <th>5</th>\n",
       "      <td>656</td>\n",
       "      <td>1/20/20 16:19</td>\n",
       "      <td>1/20/20 16:30</td>\n",
       "      <td>Frederick St at Arguello Blvd</td>\n",
       "      <td>37.765783</td>\n",
       "      <td>-122.457637</td>\n",
       "      <td>10th Ave at Irving St</td>\n",
       "      <td>37.764091</td>\n",
       "      <td>-122.467378</td>\n",
       "      <td>Subscriber</td>\n",
       "      <td>...</td>\n",
       "      <td>NaN</td>\n",
       "      <td>NaN</td>\n",
       "      <td>NaN</td>\n",
       "      <td>NaN</td>\n",
       "      <td>1</td>\n",
       "      <td>0.001692</td>\n",
       "      <td>0.009742</td>\n",
       "      <td>0.011434</td>\n",
       "      <td>19.0</td>\n",
       "      <td>23.0</td>\n",
       "    </tr>\n",
       "  </tbody>\n",
       "</table>\n",
       "<p>5 rows × 23 columns</p>\n",
       "</div>"
      ],
      "text/plain": [
       "   duration_sec     start_time       end_time  \\\n",
       "1           543  1/25/20 17:37  1/25/20 17:46   \n",
       "2          1860  1/10/20 19:33  1/10/20 20:04   \n",
       "3          1601  1/22/20 13:36  1/22/20 14:03   \n",
       "4           337   1/12/20 7:24   1/12/20 7:30   \n",
       "5           656  1/20/20 16:19  1/20/20 16:30   \n",
       "\n",
       "                                 start_station_name  start_lat  start_long  \\\n",
       "1                                5th Ave at Anza St  37.779488 -122.463142   \n",
       "2                                Carl St at Cole St  37.765910 -122.449257   \n",
       "3  Embarcadero BART Station (Beale St at Market St)  37.792251 -122.397086   \n",
       "4                     Frederick St at Arguello Blvd  37.765783 -122.457637   \n",
       "5                     Frederick St at Arguello Blvd  37.765783 -122.457637   \n",
       "\n",
       "        end_station_name    end_lat    end_long   user_type  ...  \\\n",
       "1  10th Ave at Irving St  37.764091 -122.467378  Subscriber  ...   \n",
       "2  10th Ave at Irving St  37.764091 -122.467378    Customer  ...   \n",
       "3  10th Ave at Irving St  37.764091 -122.467378  Subscriber  ...   \n",
       "4  10th Ave at Irving St  37.764091 -122.467378  Subscriber  ...   \n",
       "5  10th Ave at Irving St  37.764091 -122.467378  Subscriber  ...   \n",
       "\n",
       "  start_transit  end_transit     start_city  end_city  is_subscriber  \\\n",
       "1           NaN          NaN            NaN       NaN              1   \n",
       "2           2.0          NaN  San Francisco       NaN              0   \n",
       "3           2.0          NaN  San Francisco       NaN              1   \n",
       "4           NaN          NaN            NaN       NaN              1   \n",
       "5           NaN          NaN            NaN       NaN              1   \n",
       "\n",
       "   lat_diff long_diff  manhattan_dist  start_cap  end_cap  \n",
       "1  0.015397  0.004237        0.019633       21.0     23.0  \n",
       "2  0.001819  0.018121        0.019940       23.0     23.0  \n",
       "3  0.028160  0.070292        0.098452       27.0     23.0  \n",
       "4  0.001692  0.009742        0.011434       19.0     23.0  \n",
       "5  0.001692  0.009742        0.011434       19.0     23.0  \n",
       "\n",
       "[5 rows x 23 columns]"
      ]
     },
     "execution_count": 146,
     "metadata": {},
     "output_type": "execute_result"
    }
   ],
   "source": [
    "bw.head()"
   ]
  },
  {
   "cell_type": "code",
   "execution_count": 147,
   "metadata": {},
   "outputs": [
    {
     "data": {
      "text/plain": [
       "(121235, 23)"
      ]
     },
     "execution_count": 147,
     "metadata": {},
     "output_type": "execute_result"
    }
   ],
   "source": [
    "bw.shape"
   ]
  },
  {
   "cell_type": "code",
   "execution_count": 148,
   "metadata": {},
   "outputs": [
    {
     "data": {
      "text/plain": [
       "Customer      99897\n",
       "Subscriber    21338\n",
       "Name: user_type, dtype: int64"
      ]
     },
     "execution_count": 148,
     "metadata": {},
     "output_type": "execute_result"
    }
   ],
   "source": [
    "bw.user_type.value_counts()"
   ]
  },
  {
   "cell_type": "code",
   "execution_count": 149,
   "metadata": {},
   "outputs": [
    {
     "data": {
      "text/plain": [
       "1.0    48791\n",
       "0.0    29726\n",
       "2.0    19975\n",
       "3.0     1526\n",
       "Name: start_transit, dtype: int64"
      ]
     },
     "execution_count": 149,
     "metadata": {},
     "output_type": "execute_result"
    }
   ],
   "source": [
    "bw.start_transit.value_counts()"
   ]
  },
  {
   "cell_type": "markdown",
   "metadata": {},
   "source": [
    "We don't need lat_diff and long_diff anymore since I calculated Manhattan distance from these two columns."
   ]
  },
  {
   "cell_type": "code",
   "execution_count": 150,
   "metadata": {},
   "outputs": [
    {
     "data": {
      "text/html": [
       "<div>\n",
       "<style scoped>\n",
       "    .dataframe tbody tr th:only-of-type {\n",
       "        vertical-align: middle;\n",
       "    }\n",
       "\n",
       "    .dataframe tbody tr th {\n",
       "        vertical-align: top;\n",
       "    }\n",
       "\n",
       "    .dataframe thead th {\n",
       "        text-align: right;\n",
       "    }\n",
       "</style>\n",
       "<table border=\"1\" class=\"dataframe\">\n",
       "  <thead>\n",
       "    <tr style=\"text-align: right;\">\n",
       "      <th></th>\n",
       "      <th>duration_sec</th>\n",
       "      <th>start_time</th>\n",
       "      <th>end_time</th>\n",
       "      <th>start_station_name</th>\n",
       "      <th>start_lat</th>\n",
       "      <th>start_long</th>\n",
       "      <th>end_station_name</th>\n",
       "      <th>end_lat</th>\n",
       "      <th>end_long</th>\n",
       "      <th>user_type</th>\n",
       "      <th>...</th>\n",
       "      <th>start_zip</th>\n",
       "      <th>end_zip</th>\n",
       "      <th>start_transit</th>\n",
       "      <th>end_transit</th>\n",
       "      <th>start_city</th>\n",
       "      <th>end_city</th>\n",
       "      <th>is_subscriber</th>\n",
       "      <th>manhattan_dist</th>\n",
       "      <th>start_cap</th>\n",
       "      <th>end_cap</th>\n",
       "    </tr>\n",
       "  </thead>\n",
       "  <tbody>\n",
       "    <tr>\n",
       "      <th>1</th>\n",
       "      <td>543</td>\n",
       "      <td>1/25/20 17:37</td>\n",
       "      <td>1/25/20 17:46</td>\n",
       "      <td>5th Ave at Anza St</td>\n",
       "      <td>37.779488</td>\n",
       "      <td>-122.463142</td>\n",
       "      <td>10th Ave at Irving St</td>\n",
       "      <td>37.764091</td>\n",
       "      <td>-122.467378</td>\n",
       "      <td>Subscriber</td>\n",
       "      <td>...</td>\n",
       "      <td>NaN</td>\n",
       "      <td>NaN</td>\n",
       "      <td>NaN</td>\n",
       "      <td>NaN</td>\n",
       "      <td>NaN</td>\n",
       "      <td>NaN</td>\n",
       "      <td>1</td>\n",
       "      <td>0.019633</td>\n",
       "      <td>21.0</td>\n",
       "      <td>23.0</td>\n",
       "    </tr>\n",
       "    <tr>\n",
       "      <th>2</th>\n",
       "      <td>1860</td>\n",
       "      <td>1/10/20 19:33</td>\n",
       "      <td>1/10/20 20:04</td>\n",
       "      <td>Carl St at Cole St</td>\n",
       "      <td>37.765910</td>\n",
       "      <td>-122.449257</td>\n",
       "      <td>10th Ave at Irving St</td>\n",
       "      <td>37.764091</td>\n",
       "      <td>-122.467378</td>\n",
       "      <td>Customer</td>\n",
       "      <td>...</td>\n",
       "      <td>94117.0</td>\n",
       "      <td>NaN</td>\n",
       "      <td>2.0</td>\n",
       "      <td>NaN</td>\n",
       "      <td>San Francisco</td>\n",
       "      <td>NaN</td>\n",
       "      <td>0</td>\n",
       "      <td>0.019940</td>\n",
       "      <td>23.0</td>\n",
       "      <td>23.0</td>\n",
       "    </tr>\n",
       "    <tr>\n",
       "      <th>3</th>\n",
       "      <td>1601</td>\n",
       "      <td>1/22/20 13:36</td>\n",
       "      <td>1/22/20 14:03</td>\n",
       "      <td>Embarcadero BART Station (Beale St at Market St)</td>\n",
       "      <td>37.792251</td>\n",
       "      <td>-122.397086</td>\n",
       "      <td>10th Ave at Irving St</td>\n",
       "      <td>37.764091</td>\n",
       "      <td>-122.467378</td>\n",
       "      <td>Subscriber</td>\n",
       "      <td>...</td>\n",
       "      <td>94105.0</td>\n",
       "      <td>NaN</td>\n",
       "      <td>2.0</td>\n",
       "      <td>NaN</td>\n",
       "      <td>San Francisco</td>\n",
       "      <td>NaN</td>\n",
       "      <td>1</td>\n",
       "      <td>0.098452</td>\n",
       "      <td>27.0</td>\n",
       "      <td>23.0</td>\n",
       "    </tr>\n",
       "    <tr>\n",
       "      <th>4</th>\n",
       "      <td>337</td>\n",
       "      <td>1/12/20 7:24</td>\n",
       "      <td>1/12/20 7:30</td>\n",
       "      <td>Frederick St at Arguello Blvd</td>\n",
       "      <td>37.765783</td>\n",
       "      <td>-122.457637</td>\n",
       "      <td>10th Ave at Irving St</td>\n",
       "      <td>37.764091</td>\n",
       "      <td>-122.467378</td>\n",
       "      <td>Subscriber</td>\n",
       "      <td>...</td>\n",
       "      <td>NaN</td>\n",
       "      <td>NaN</td>\n",
       "      <td>NaN</td>\n",
       "      <td>NaN</td>\n",
       "      <td>NaN</td>\n",
       "      <td>NaN</td>\n",
       "      <td>1</td>\n",
       "      <td>0.011434</td>\n",
       "      <td>19.0</td>\n",
       "      <td>23.0</td>\n",
       "    </tr>\n",
       "    <tr>\n",
       "      <th>5</th>\n",
       "      <td>656</td>\n",
       "      <td>1/20/20 16:19</td>\n",
       "      <td>1/20/20 16:30</td>\n",
       "      <td>Frederick St at Arguello Blvd</td>\n",
       "      <td>37.765783</td>\n",
       "      <td>-122.457637</td>\n",
       "      <td>10th Ave at Irving St</td>\n",
       "      <td>37.764091</td>\n",
       "      <td>-122.467378</td>\n",
       "      <td>Subscriber</td>\n",
       "      <td>...</td>\n",
       "      <td>NaN</td>\n",
       "      <td>NaN</td>\n",
       "      <td>NaN</td>\n",
       "      <td>NaN</td>\n",
       "      <td>NaN</td>\n",
       "      <td>NaN</td>\n",
       "      <td>1</td>\n",
       "      <td>0.011434</td>\n",
       "      <td>19.0</td>\n",
       "      <td>23.0</td>\n",
       "    </tr>\n",
       "  </tbody>\n",
       "</table>\n",
       "<p>5 rows × 21 columns</p>\n",
       "</div>"
      ],
      "text/plain": [
       "   duration_sec     start_time       end_time  \\\n",
       "1           543  1/25/20 17:37  1/25/20 17:46   \n",
       "2          1860  1/10/20 19:33  1/10/20 20:04   \n",
       "3          1601  1/22/20 13:36  1/22/20 14:03   \n",
       "4           337   1/12/20 7:24   1/12/20 7:30   \n",
       "5           656  1/20/20 16:19  1/20/20 16:30   \n",
       "\n",
       "                                 start_station_name  start_lat  start_long  \\\n",
       "1                                5th Ave at Anza St  37.779488 -122.463142   \n",
       "2                                Carl St at Cole St  37.765910 -122.449257   \n",
       "3  Embarcadero BART Station (Beale St at Market St)  37.792251 -122.397086   \n",
       "4                     Frederick St at Arguello Blvd  37.765783 -122.457637   \n",
       "5                     Frederick St at Arguello Blvd  37.765783 -122.457637   \n",
       "\n",
       "        end_station_name    end_lat    end_long   user_type  ... start_zip  \\\n",
       "1  10th Ave at Irving St  37.764091 -122.467378  Subscriber  ...       NaN   \n",
       "2  10th Ave at Irving St  37.764091 -122.467378    Customer  ...   94117.0   \n",
       "3  10th Ave at Irving St  37.764091 -122.467378  Subscriber  ...   94105.0   \n",
       "4  10th Ave at Irving St  37.764091 -122.467378  Subscriber  ...       NaN   \n",
       "5  10th Ave at Irving St  37.764091 -122.467378  Subscriber  ...       NaN   \n",
       "\n",
       "   end_zip  start_transit  end_transit     start_city end_city is_subscriber  \\\n",
       "1      NaN            NaN          NaN            NaN      NaN             1   \n",
       "2      NaN            2.0          NaN  San Francisco      NaN             0   \n",
       "3      NaN            2.0          NaN  San Francisco      NaN             1   \n",
       "4      NaN            NaN          NaN            NaN      NaN             1   \n",
       "5      NaN            NaN          NaN            NaN      NaN             1   \n",
       "\n",
       "   manhattan_dist  start_cap  end_cap  \n",
       "1        0.019633       21.0     23.0  \n",
       "2        0.019940       23.0     23.0  \n",
       "3        0.098452       27.0     23.0  \n",
       "4        0.011434       19.0     23.0  \n",
       "5        0.011434       19.0     23.0  \n",
       "\n",
       "[5 rows x 21 columns]"
      ]
     },
     "execution_count": 150,
     "metadata": {},
     "output_type": "execute_result"
    }
   ],
   "source": [
    "bw.drop(['lat_diff','long_diff'],axis=1, inplace=True)\n",
    "bw.head()"
   ]
  },
  {
   "cell_type": "markdown",
   "metadata": {},
   "source": [
    "I'm now going to drop null values for the station names so I can do the `applymap()` below, and I'll also drop nulls for zip codes, transit, and capacity columns, since those are my main secondary sources of data."
   ]
  },
  {
   "cell_type": "code",
   "execution_count": 151,
   "metadata": {},
   "outputs": [],
   "source": [
    "bw.dropna(subset=['start_station_name','end_station_name','start_zip', 'end_zip', 'start_transit', 'end_transit', 'start_cap', 'end_cap'],inplace=True)"
   ]
  },
  {
   "cell_type": "code",
   "execution_count": 152,
   "metadata": {},
   "outputs": [
    {
     "data": {
      "text/plain": [
       "(81488, 21)"
      ]
     },
     "execution_count": 152,
     "metadata": {},
     "output_type": "execute_result"
    }
   ],
   "source": [
    "bw.shape"
   ]
  },
  {
   "cell_type": "code",
   "execution_count": 153,
   "metadata": {},
   "outputs": [
    {
     "data": {
      "text/plain": [
       "San Francisco    50261\n",
       "Oakland          14310\n",
       "Berkeley         11337\n",
       "San Jose          3590\n",
       "Emeryville        1990\n",
       "Name: start_city, dtype: int64"
      ]
     },
     "execution_count": 153,
     "metadata": {},
     "output_type": "execute_result"
    }
   ],
   "source": [
    "bw.start_city.value_counts(ascending=False)"
   ]
  },
  {
   "cell_type": "markdown",
   "metadata": {},
   "source": [
    "I want to remove the .0 from the integers in the zip, transit, and capacity columns:"
   ]
  },
  {
   "cell_type": "code",
   "execution_count": 154,
   "metadata": {},
   "outputs": [
    {
     "data": {
      "text/html": [
       "<div>\n",
       "<style scoped>\n",
       "    .dataframe tbody tr th:only-of-type {\n",
       "        vertical-align: middle;\n",
       "    }\n",
       "\n",
       "    .dataframe tbody tr th {\n",
       "        vertical-align: top;\n",
       "    }\n",
       "\n",
       "    .dataframe thead th {\n",
       "        text-align: right;\n",
       "    }\n",
       "</style>\n",
       "<table border=\"1\" class=\"dataframe\">\n",
       "  <thead>\n",
       "    <tr style=\"text-align: right;\">\n",
       "      <th></th>\n",
       "      <th>duration_sec</th>\n",
       "      <th>start_time</th>\n",
       "      <th>end_time</th>\n",
       "      <th>start_station_name</th>\n",
       "      <th>start_lat</th>\n",
       "      <th>start_long</th>\n",
       "      <th>end_station_name</th>\n",
       "      <th>end_lat</th>\n",
       "      <th>end_long</th>\n",
       "      <th>user_type</th>\n",
       "      <th>...</th>\n",
       "      <th>start_zip</th>\n",
       "      <th>end_zip</th>\n",
       "      <th>start_transit</th>\n",
       "      <th>end_transit</th>\n",
       "      <th>start_city</th>\n",
       "      <th>end_city</th>\n",
       "      <th>is_subscriber</th>\n",
       "      <th>manhattan_dist</th>\n",
       "      <th>start_cap</th>\n",
       "      <th>end_cap</th>\n",
       "    </tr>\n",
       "  </thead>\n",
       "  <tbody>\n",
       "    <tr>\n",
       "      <th>9</th>\n",
       "      <td>840</td>\n",
       "      <td>1/21/20 18:04</td>\n",
       "      <td>1/21/20 18:18</td>\n",
       "      <td>San Jose Diridon Station</td>\n",
       "      <td>37.329732</td>\n",
       "      <td>-121.901782</td>\n",
       "      <td>10th St at Empire St</td>\n",
       "      <td>37.349426</td>\n",
       "      <td>-121.887619</td>\n",
       "      <td>Subscriber</td>\n",
       "      <td>...</td>\n",
       "      <td>95110</td>\n",
       "      <td>95112</td>\n",
       "      <td>2</td>\n",
       "      <td>1</td>\n",
       "      <td>San Jose</td>\n",
       "      <td>San Jose</td>\n",
       "      <td>1</td>\n",
       "      <td>0.033857</td>\n",
       "      <td>35</td>\n",
       "      <td>23</td>\n",
       "    </tr>\n",
       "    <tr>\n",
       "      <th>10</th>\n",
       "      <td>613</td>\n",
       "      <td>1/17/20 18:49</td>\n",
       "      <td>1/17/20 19:00</td>\n",
       "      <td>San Jose Diridon Station</td>\n",
       "      <td>37.329732</td>\n",
       "      <td>-121.901782</td>\n",
       "      <td>10th St at Empire St</td>\n",
       "      <td>37.349426</td>\n",
       "      <td>-121.887619</td>\n",
       "      <td>Subscriber</td>\n",
       "      <td>...</td>\n",
       "      <td>95110</td>\n",
       "      <td>95112</td>\n",
       "      <td>2</td>\n",
       "      <td>1</td>\n",
       "      <td>San Jose</td>\n",
       "      <td>San Jose</td>\n",
       "      <td>1</td>\n",
       "      <td>0.033857</td>\n",
       "      <td>35</td>\n",
       "      <td>23</td>\n",
       "    </tr>\n",
       "    <tr>\n",
       "      <th>11</th>\n",
       "      <td>884</td>\n",
       "      <td>1/14/20 18:07</td>\n",
       "      <td>1/14/20 18:22</td>\n",
       "      <td>San Jose Diridon Station</td>\n",
       "      <td>37.329732</td>\n",
       "      <td>-121.901782</td>\n",
       "      <td>10th St at Empire St</td>\n",
       "      <td>37.349426</td>\n",
       "      <td>-121.887619</td>\n",
       "      <td>Subscriber</td>\n",
       "      <td>...</td>\n",
       "      <td>95110</td>\n",
       "      <td>95112</td>\n",
       "      <td>2</td>\n",
       "      <td>1</td>\n",
       "      <td>San Jose</td>\n",
       "      <td>San Jose</td>\n",
       "      <td>1</td>\n",
       "      <td>0.033857</td>\n",
       "      <td>35</td>\n",
       "      <td>23</td>\n",
       "    </tr>\n",
       "    <tr>\n",
       "      <th>15</th>\n",
       "      <td>1171</td>\n",
       "      <td>1/29/20 17:12</td>\n",
       "      <td>1/29/20 17:32</td>\n",
       "      <td>San Jose Diridon Station</td>\n",
       "      <td>37.329732</td>\n",
       "      <td>-121.901782</td>\n",
       "      <td>10th St at Mission St</td>\n",
       "      <td>37.355693</td>\n",
       "      <td>-121.892251</td>\n",
       "      <td>Subscriber</td>\n",
       "      <td>...</td>\n",
       "      <td>95110</td>\n",
       "      <td>95112</td>\n",
       "      <td>2</td>\n",
       "      <td>1</td>\n",
       "      <td>San Jose</td>\n",
       "      <td>San Jose</td>\n",
       "      <td>1</td>\n",
       "      <td>0.035492</td>\n",
       "      <td>35</td>\n",
       "      <td>23</td>\n",
       "    </tr>\n",
       "    <tr>\n",
       "      <th>16</th>\n",
       "      <td>1401</td>\n",
       "      <td>1/8/20 18:55</td>\n",
       "      <td>1/8/20 19:18</td>\n",
       "      <td>San Jose Diridon Station</td>\n",
       "      <td>37.329732</td>\n",
       "      <td>-121.901782</td>\n",
       "      <td>10th St at Mission St</td>\n",
       "      <td>37.355693</td>\n",
       "      <td>-121.892251</td>\n",
       "      <td>Subscriber</td>\n",
       "      <td>...</td>\n",
       "      <td>95110</td>\n",
       "      <td>95112</td>\n",
       "      <td>2</td>\n",
       "      <td>1</td>\n",
       "      <td>San Jose</td>\n",
       "      <td>San Jose</td>\n",
       "      <td>1</td>\n",
       "      <td>0.035492</td>\n",
       "      <td>35</td>\n",
       "      <td>23</td>\n",
       "    </tr>\n",
       "  </tbody>\n",
       "</table>\n",
       "<p>5 rows × 21 columns</p>\n",
       "</div>"
      ],
      "text/plain": [
       "    duration_sec     start_time       end_time        start_station_name  \\\n",
       "9            840  1/21/20 18:04  1/21/20 18:18  San Jose Diridon Station   \n",
       "10           613  1/17/20 18:49  1/17/20 19:00  San Jose Diridon Station   \n",
       "11           884  1/14/20 18:07  1/14/20 18:22  San Jose Diridon Station   \n",
       "15          1171  1/29/20 17:12  1/29/20 17:32  San Jose Diridon Station   \n",
       "16          1401   1/8/20 18:55   1/8/20 19:18  San Jose Diridon Station   \n",
       "\n",
       "    start_lat  start_long       end_station_name    end_lat    end_long  \\\n",
       "9   37.329732 -121.901782   10th St at Empire St  37.349426 -121.887619   \n",
       "10  37.329732 -121.901782   10th St at Empire St  37.349426 -121.887619   \n",
       "11  37.329732 -121.901782   10th St at Empire St  37.349426 -121.887619   \n",
       "15  37.329732 -121.901782  10th St at Mission St  37.355693 -121.892251   \n",
       "16  37.329732 -121.901782  10th St at Mission St  37.355693 -121.892251   \n",
       "\n",
       "     user_type  ... start_zip  end_zip  start_transit  end_transit  \\\n",
       "9   Subscriber  ...     95110    95112              2            1   \n",
       "10  Subscriber  ...     95110    95112              2            1   \n",
       "11  Subscriber  ...     95110    95112              2            1   \n",
       "15  Subscriber  ...     95110    95112              2            1   \n",
       "16  Subscriber  ...     95110    95112              2            1   \n",
       "\n",
       "    start_city  end_city is_subscriber  manhattan_dist  start_cap  end_cap  \n",
       "9     San Jose  San Jose             1        0.033857         35       23  \n",
       "10    San Jose  San Jose             1        0.033857         35       23  \n",
       "11    San Jose  San Jose             1        0.033857         35       23  \n",
       "15    San Jose  San Jose             1        0.035492         35       23  \n",
       "16    San Jose  San Jose             1        0.035492         35       23  \n",
       "\n",
       "[5 rows x 21 columns]"
      ]
     },
     "execution_count": 154,
     "metadata": {},
     "output_type": "execute_result"
    }
   ],
   "source": [
    "cols = ['start_zip', 'end_zip', 'start_transit', 'end_transit', 'start_cap', 'end_cap']\n",
    "bw[cols] = bw[cols].applymap(np.int64)\n",
    "bw.head()"
   ]
  },
  {
   "cell_type": "code",
   "execution_count": 155,
   "metadata": {},
   "outputs": [],
   "source": [
    "bw.reset_index(drop=True,inplace=True)"
   ]
  },
  {
   "cell_type": "code",
   "execution_count": 156,
   "metadata": {},
   "outputs": [
    {
     "data": {
      "text/html": [
       "<div>\n",
       "<style scoped>\n",
       "    .dataframe tbody tr th:only-of-type {\n",
       "        vertical-align: middle;\n",
       "    }\n",
       "\n",
       "    .dataframe tbody tr th {\n",
       "        vertical-align: top;\n",
       "    }\n",
       "\n",
       "    .dataframe thead th {\n",
       "        text-align: right;\n",
       "    }\n",
       "</style>\n",
       "<table border=\"1\" class=\"dataframe\">\n",
       "  <thead>\n",
       "    <tr style=\"text-align: right;\">\n",
       "      <th></th>\n",
       "      <th>duration_sec</th>\n",
       "      <th>start_time</th>\n",
       "      <th>end_time</th>\n",
       "      <th>start_station_name</th>\n",
       "      <th>start_lat</th>\n",
       "      <th>start_long</th>\n",
       "      <th>end_station_name</th>\n",
       "      <th>end_lat</th>\n",
       "      <th>end_long</th>\n",
       "      <th>user_type</th>\n",
       "      <th>...</th>\n",
       "      <th>start_zip</th>\n",
       "      <th>end_zip</th>\n",
       "      <th>start_transit</th>\n",
       "      <th>end_transit</th>\n",
       "      <th>start_city</th>\n",
       "      <th>end_city</th>\n",
       "      <th>is_subscriber</th>\n",
       "      <th>manhattan_dist</th>\n",
       "      <th>start_cap</th>\n",
       "      <th>end_cap</th>\n",
       "    </tr>\n",
       "  </thead>\n",
       "  <tbody>\n",
       "    <tr>\n",
       "      <th>0</th>\n",
       "      <td>840</td>\n",
       "      <td>1/21/20 18:04</td>\n",
       "      <td>1/21/20 18:18</td>\n",
       "      <td>San Jose Diridon Station</td>\n",
       "      <td>37.329732</td>\n",
       "      <td>-121.901782</td>\n",
       "      <td>10th St at Empire St</td>\n",
       "      <td>37.349426</td>\n",
       "      <td>-121.887619</td>\n",
       "      <td>Subscriber</td>\n",
       "      <td>...</td>\n",
       "      <td>95110</td>\n",
       "      <td>95112</td>\n",
       "      <td>2</td>\n",
       "      <td>1</td>\n",
       "      <td>San Jose</td>\n",
       "      <td>San Jose</td>\n",
       "      <td>1</td>\n",
       "      <td>0.033857</td>\n",
       "      <td>35</td>\n",
       "      <td>23</td>\n",
       "    </tr>\n",
       "    <tr>\n",
       "      <th>1</th>\n",
       "      <td>613</td>\n",
       "      <td>1/17/20 18:49</td>\n",
       "      <td>1/17/20 19:00</td>\n",
       "      <td>San Jose Diridon Station</td>\n",
       "      <td>37.329732</td>\n",
       "      <td>-121.901782</td>\n",
       "      <td>10th St at Empire St</td>\n",
       "      <td>37.349426</td>\n",
       "      <td>-121.887619</td>\n",
       "      <td>Subscriber</td>\n",
       "      <td>...</td>\n",
       "      <td>95110</td>\n",
       "      <td>95112</td>\n",
       "      <td>2</td>\n",
       "      <td>1</td>\n",
       "      <td>San Jose</td>\n",
       "      <td>San Jose</td>\n",
       "      <td>1</td>\n",
       "      <td>0.033857</td>\n",
       "      <td>35</td>\n",
       "      <td>23</td>\n",
       "    </tr>\n",
       "    <tr>\n",
       "      <th>2</th>\n",
       "      <td>884</td>\n",
       "      <td>1/14/20 18:07</td>\n",
       "      <td>1/14/20 18:22</td>\n",
       "      <td>San Jose Diridon Station</td>\n",
       "      <td>37.329732</td>\n",
       "      <td>-121.901782</td>\n",
       "      <td>10th St at Empire St</td>\n",
       "      <td>37.349426</td>\n",
       "      <td>-121.887619</td>\n",
       "      <td>Subscriber</td>\n",
       "      <td>...</td>\n",
       "      <td>95110</td>\n",
       "      <td>95112</td>\n",
       "      <td>2</td>\n",
       "      <td>1</td>\n",
       "      <td>San Jose</td>\n",
       "      <td>San Jose</td>\n",
       "      <td>1</td>\n",
       "      <td>0.033857</td>\n",
       "      <td>35</td>\n",
       "      <td>23</td>\n",
       "    </tr>\n",
       "    <tr>\n",
       "      <th>3</th>\n",
       "      <td>1171</td>\n",
       "      <td>1/29/20 17:12</td>\n",
       "      <td>1/29/20 17:32</td>\n",
       "      <td>San Jose Diridon Station</td>\n",
       "      <td>37.329732</td>\n",
       "      <td>-121.901782</td>\n",
       "      <td>10th St at Mission St</td>\n",
       "      <td>37.355693</td>\n",
       "      <td>-121.892251</td>\n",
       "      <td>Subscriber</td>\n",
       "      <td>...</td>\n",
       "      <td>95110</td>\n",
       "      <td>95112</td>\n",
       "      <td>2</td>\n",
       "      <td>1</td>\n",
       "      <td>San Jose</td>\n",
       "      <td>San Jose</td>\n",
       "      <td>1</td>\n",
       "      <td>0.035492</td>\n",
       "      <td>35</td>\n",
       "      <td>23</td>\n",
       "    </tr>\n",
       "    <tr>\n",
       "      <th>4</th>\n",
       "      <td>1401</td>\n",
       "      <td>1/8/20 18:55</td>\n",
       "      <td>1/8/20 19:18</td>\n",
       "      <td>San Jose Diridon Station</td>\n",
       "      <td>37.329732</td>\n",
       "      <td>-121.901782</td>\n",
       "      <td>10th St at Mission St</td>\n",
       "      <td>37.355693</td>\n",
       "      <td>-121.892251</td>\n",
       "      <td>Subscriber</td>\n",
       "      <td>...</td>\n",
       "      <td>95110</td>\n",
       "      <td>95112</td>\n",
       "      <td>2</td>\n",
       "      <td>1</td>\n",
       "      <td>San Jose</td>\n",
       "      <td>San Jose</td>\n",
       "      <td>1</td>\n",
       "      <td>0.035492</td>\n",
       "      <td>35</td>\n",
       "      <td>23</td>\n",
       "    </tr>\n",
       "  </tbody>\n",
       "</table>\n",
       "<p>5 rows × 21 columns</p>\n",
       "</div>"
      ],
      "text/plain": [
       "   duration_sec     start_time       end_time        start_station_name  \\\n",
       "0           840  1/21/20 18:04  1/21/20 18:18  San Jose Diridon Station   \n",
       "1           613  1/17/20 18:49  1/17/20 19:00  San Jose Diridon Station   \n",
       "2           884  1/14/20 18:07  1/14/20 18:22  San Jose Diridon Station   \n",
       "3          1171  1/29/20 17:12  1/29/20 17:32  San Jose Diridon Station   \n",
       "4          1401   1/8/20 18:55   1/8/20 19:18  San Jose Diridon Station   \n",
       "\n",
       "   start_lat  start_long       end_station_name    end_lat    end_long  \\\n",
       "0  37.329732 -121.901782   10th St at Empire St  37.349426 -121.887619   \n",
       "1  37.329732 -121.901782   10th St at Empire St  37.349426 -121.887619   \n",
       "2  37.329732 -121.901782   10th St at Empire St  37.349426 -121.887619   \n",
       "3  37.329732 -121.901782  10th St at Mission St  37.355693 -121.892251   \n",
       "4  37.329732 -121.901782  10th St at Mission St  37.355693 -121.892251   \n",
       "\n",
       "    user_type  ... start_zip  end_zip  start_transit  end_transit  start_city  \\\n",
       "0  Subscriber  ...     95110    95112              2            1    San Jose   \n",
       "1  Subscriber  ...     95110    95112              2            1    San Jose   \n",
       "2  Subscriber  ...     95110    95112              2            1    San Jose   \n",
       "3  Subscriber  ...     95110    95112              2            1    San Jose   \n",
       "4  Subscriber  ...     95110    95112              2            1    San Jose   \n",
       "\n",
       "   end_city is_subscriber  manhattan_dist  start_cap  end_cap  \n",
       "0  San Jose             1        0.033857         35       23  \n",
       "1  San Jose             1        0.033857         35       23  \n",
       "2  San Jose             1        0.033857         35       23  \n",
       "3  San Jose             1        0.035492         35       23  \n",
       "4  San Jose             1        0.035492         35       23  \n",
       "\n",
       "[5 rows x 21 columns]"
      ]
     },
     "execution_count": 156,
     "metadata": {},
     "output_type": "execute_result"
    }
   ],
   "source": [
    "bw.head()"
   ]
  },
  {
   "cell_type": "code",
   "execution_count": 157,
   "metadata": {},
   "outputs": [
    {
     "data": {
      "text/plain": [
       "(81488, 21)"
      ]
     },
     "execution_count": 157,
     "metadata": {},
     "output_type": "execute_result"
    }
   ],
   "source": [
    "bw.shape"
   ]
  },
  {
   "cell_type": "markdown",
   "metadata": {},
   "source": [
    "Still over 81,000 rows of data. Let's plot them."
   ]
  },
  {
   "cell_type": "code",
   "execution_count": 158,
   "metadata": {},
   "outputs": [
    {
     "name": "stderr",
     "output_type": "stream",
     "text": [
      "/Users/mattranalletta/opt/anaconda3/lib/python3.8/site-packages/seaborn/_decorators.py:36: FutureWarning: Pass the following variables as keyword args: x, y. From version 0.12, the only valid positional argument will be `data`, and passing other arguments without an explicit keyword will result in an error or misinterpretation.\n",
      "  warnings.warn(\n"
     ]
    },
    {
     "data": {
      "image/png": "[encoded data removed]",
      "text/plain": [
       "<Figure size 720x432 with 1 Axes>"
      ]
     },
     "metadata": {
      "needs_background": "light"
     },
     "output_type": "display_data"
    }
   ],
   "source": [
    "sns.scatterplot('duration_sec', 'manhattan_dist', data=bw, alpha=.4, hue='user_type', edgecolor=None)\n",
    "plt.gcf().set_size_inches(10,6);"
   ]
  },
  {
   "cell_type": "markdown",
   "metadata": {},
   "source": [
    "Looks like a pretty big class imbalance. Let's find out by how much."
   ]
  },
  {
   "cell_type": "code",
   "execution_count": 159,
   "metadata": {},
   "outputs": [],
   "source": [
    "type_count = bw.user_type.value_counts()"
   ]
  },
  {
   "cell_type": "code",
   "execution_count": 160,
   "metadata": {},
   "outputs": [
    {
     "name": "stdout",
     "output_type": "stream",
     "text": [
      "Customer: 68128\n",
      "Subscriber: 13360\n",
      "Proportion: 5.1 : 1\n",
      "Percentage of Majority Class: 83.6\n"
     ]
    }
   ],
   "source": [
    "print(f'Customer: {type_count[0]}')\n",
    "print(f'Subscriber: {type_count[1]}')\n",
    "print(f'Proportion: {round(type_count[0] / type_count[1], 2)} : 1')\n",
    "print(f'Percentage of Majority Class: {round(type_count[0] / sum(type_count), 4)*100}')"
   ]
  },
  {
   "cell_type": "code",
   "execution_count": 161,
   "metadata": {},
   "outputs": [
    {
     "data": {
      "image/png": "[encoded data removed]",
      "text/plain": [
       "<Figure size 432x288 with 1 Axes>"
      ]
     },
     "metadata": {
      "needs_background": "light"
     },
     "output_type": "display_data"
    }
   ],
   "source": [
    "type_count.plot(kind='bar', title='Class Count', rot=0);"
   ]
  },
  {
   "cell_type": "markdown",
   "metadata": {},
   "source": [
    "I want to get rid of some outliers from the scatterplot above, so I'm going to set boundaries for the data:"
   ]
  },
  {
   "cell_type": "code",
   "execution_count": 162,
   "metadata": {},
   "outputs": [],
   "source": [
    "bw = bw[bw['duration_sec'] < 15000]\n",
    "bw = bw[bw['manhattan_dist'] < 0.12]"
   ]
  },
  {
   "cell_type": "code",
   "execution_count": 163,
   "metadata": {},
   "outputs": [
    {
     "name": "stderr",
     "output_type": "stream",
     "text": [
      "/Users/mattranalletta/opt/anaconda3/lib/python3.8/site-packages/seaborn/_decorators.py:36: FutureWarning: Pass the following variables as keyword args: x, y. From version 0.12, the only valid positional argument will be `data`, and passing other arguments without an explicit keyword will result in an error or misinterpretation.\n",
      "  warnings.warn(\n"
     ]
    },
    {
     "data": {
      "image/png": "[encoded data removed]",
      "text/plain": [
       "<Figure size 720x432 with 1 Axes>"
      ]
     },
     "metadata": {
      "needs_background": "light"
     },
     "output_type": "display_data"
    }
   ],
   "source": [
    "sns.scatterplot('duration_sec', 'manhattan_dist', data=bw, alpha=.4, hue='user_type', edgecolor=None)\n",
    "plt.gcf().set_size_inches(10,6);"
   ]
  },
  {
   "cell_type": "code",
   "execution_count": 164,
   "metadata": {},
   "outputs": [
    {
     "data": {
      "text/plain": [
       "(81389, 21)"
      ]
     },
     "execution_count": 164,
     "metadata": {},
     "output_type": "execute_result"
    }
   ],
   "source": [
    "bw.shape"
   ]
  },
  {
   "cell_type": "markdown",
   "metadata": {},
   "source": [
    "Looks a lot better, and still only got rid of about 100 values."
   ]
  },
  {
   "cell_type": "markdown",
   "metadata": {},
   "source": [
    "(Editor's note, after completing this project: I probably could have gotten rid of even more data, since 14,000 seconds is about 3.88 hours, which is a long time to be on a rented bike share bike, especially since only the first 30 or 45 minutes are a flat rate, depending on membership status. I would probably redo this and cut off everything at 7,200 seconds, which is two hours.)"
   ]
  },
  {
   "cell_type": "code",
   "execution_count": 135,
   "metadata": {},
   "outputs": [
    {
     "data": {
      "image/png": "[encoded data removed]",
      "text/plain": [
       "<Figure size 432x288 with 1 Axes>"
      ]
     },
     "metadata": {
      "needs_background": "light"
     },
     "output_type": "display_data"
    }
   ],
   "source": [
    "type_count.plot(kind='bar', title='Class Count', rot=0);"
   ]
  },
  {
   "cell_type": "markdown",
   "metadata": {},
   "source": [
    "Let's pickle the dataframe to now start our classification process."
   ]
  },
  {
   "cell_type": "code",
   "execution_count": 136,
   "metadata": {},
   "outputs": [],
   "source": [
    "import pickle\n",
    "bw.to_pickle('bw.pkl')"
   ]
  }
 ],
 "metadata": {
  "kernelspec": {
   "display_name": "Python 3",
   "language": "python",
   "name": "python3"
  },
  "language_info": {
   "codemirror_mode": {
    "name": "ipython",
    "version": 3
   },
   "file_extension": ".py",
   "mimetype": "text/x-python",
   "name": "python",
   "nbconvert_exporter": "python",
   "pygments_lexer": "ipython3",
   "version": "3.8.5"
  }
 },
 "nbformat": 4,
 "nbformat_minor": 4
}
