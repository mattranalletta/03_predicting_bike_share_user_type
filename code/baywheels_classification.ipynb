{
 "cells": [
  {
   "cell_type": "code",
   "execution_count": 835,
   "metadata": {},
   "outputs": [],
   "source": [
    "import pandas as pd\n",
    "import matplotlib.pyplot as plt\n",
    "from matplotlib.pyplot import figure\n",
    "import scipy.stats as scs\n",
    "import numpy as np\n",
    "import seaborn as sns\n",
    "from scipy.spatial.distance import euclidean as euc\n",
    "\n",
    "from sklearn.neighbors import KNeighborsClassifier\n",
    "from sklearn.linear_model import LogisticRegression\n",
    "from sklearn.tree import DecisionTreeClassifier, ExtraTreeClassifier\n",
    "from sklearn.ensemble import RandomForestClassifier\n",
    "from sklearn.naive_bayes import GaussianNB, BernoulliNB, MultinomialNB\n",
    "from xgboost import XGBClassifier\n",
    "import xgboost as xgb\n",
    "\n",
    "from sklearn.model_selection import train_test_split, cross_val_score, KFold, StratifiedKFold\n",
    "from sklearn.preprocessing import OneHotEncoder, StandardScaler\n",
    "from visualize import generate_moons_df, preprocess, plot_boundaries\n",
    "\n",
    "from sklearn import metrics\n",
    "from sklearn.datasets import make_classification\n",
    "from sklearn.metrics import plot_confusion_matrix, plot_roc_curve, classification_report\n",
    "from sklearn.metrics import roc_auc_score, roc_curve\n",
    "from sklearn.metrics import classification_report\n",
    "from sklearn.metrics import mean_squared_error, r2_score\n",
    "from sklearn.metrics import accuracy_score, precision_score, recall_score, precision_recall_curve, f1_score, fbeta_score\n",
    "from imblearn.over_sampling import SMOTE, ADASYN, RandomOverSampler\n",
    "\n",
    "from sklearn.pipeline import Pipeline\n",
    "\n",
    "from collections import defaultdict\n",
    "import statistics"
   ]
  },
  {
   "cell_type": "code",
   "execution_count": 836,
   "metadata": {},
   "outputs": [],
   "source": [
    "bw = pd.read_pickle('bw.pkl')"
   ]
  },
  {
   "cell_type": "markdown",
   "metadata": {},
   "source": [
    "## First Simple Model"
   ]
  },
  {
   "cell_type": "markdown",
   "metadata": {},
   "source": [
    "As a first pass with my data, I'm going to create a simple model to get a baseline of the model with two features: **trip duration** and **Manhattan distance**."
   ]
  },
  {
   "cell_type": "code",
   "execution_count": 837,
   "metadata": {},
   "outputs": [
    {
     "data": {
      "text/plain": [
       "(81389, 20)"
      ]
     },
     "execution_count": 837,
     "metadata": {},
     "output_type": "execute_result"
    }
   ],
   "source": [
    "bw_plus = pd.read_pickle('bw.pkl')\n",
    "bw_plus.drop(['access_method'],axis=1,inplace=True)\n",
    "bw_plus = bw_plus.replace(r'', np.NaN, regex=True)\n",
    "bw_plus.dropna(axis = 1, inplace=True)\n",
    "bw_plus.shape"
   ]
  },
  {
   "cell_type": "code",
   "execution_count": 838,
   "metadata": {},
   "outputs": [
    {
     "data": {
      "text/html": [
       "<div>\n",
       "<style scoped>\n",
       "    .dataframe tbody tr th:only-of-type {\n",
       "        vertical-align: middle;\n",
       "    }\n",
       "\n",
       "    .dataframe tbody tr th {\n",
       "        vertical-align: top;\n",
       "    }\n",
       "\n",
       "    .dataframe thead th {\n",
       "        text-align: right;\n",
       "    }\n",
       "</style>\n",
       "<table border=\"1\" class=\"dataframe\">\n",
       "  <thead>\n",
       "    <tr style=\"text-align: right;\">\n",
       "      <th></th>\n",
       "      <th>duration_sec</th>\n",
       "      <th>start_time</th>\n",
       "      <th>end_time</th>\n",
       "      <th>start_station_name</th>\n",
       "      <th>start_lat</th>\n",
       "      <th>start_long</th>\n",
       "      <th>end_station_name</th>\n",
       "      <th>end_lat</th>\n",
       "      <th>end_long</th>\n",
       "      <th>user_type</th>\n",
       "      <th>start_zip</th>\n",
       "      <th>end_zip</th>\n",
       "      <th>start_transit</th>\n",
       "      <th>end_transit</th>\n",
       "      <th>start_city</th>\n",
       "      <th>end_city</th>\n",
       "      <th>is_subscriber</th>\n",
       "      <th>manhattan_dist</th>\n",
       "      <th>start_cap</th>\n",
       "      <th>end_cap</th>\n",
       "    </tr>\n",
       "  </thead>\n",
       "  <tbody>\n",
       "    <tr>\n",
       "      <th>0</th>\n",
       "      <td>840</td>\n",
       "      <td>1/21/20 18:04</td>\n",
       "      <td>1/21/20 18:18</td>\n",
       "      <td>San Jose Diridon Station</td>\n",
       "      <td>37.329732</td>\n",
       "      <td>-121.901782</td>\n",
       "      <td>10th St at Empire St</td>\n",
       "      <td>37.349426</td>\n",
       "      <td>-121.887619</td>\n",
       "      <td>Subscriber</td>\n",
       "      <td>95110</td>\n",
       "      <td>95112</td>\n",
       "      <td>2</td>\n",
       "      <td>1</td>\n",
       "      <td>San Jose</td>\n",
       "      <td>San Jose</td>\n",
       "      <td>1</td>\n",
       "      <td>0.033857</td>\n",
       "      <td>35</td>\n",
       "      <td>23</td>\n",
       "    </tr>\n",
       "    <tr>\n",
       "      <th>1</th>\n",
       "      <td>613</td>\n",
       "      <td>1/17/20 18:49</td>\n",
       "      <td>1/17/20 19:00</td>\n",
       "      <td>San Jose Diridon Station</td>\n",
       "      <td>37.329732</td>\n",
       "      <td>-121.901782</td>\n",
       "      <td>10th St at Empire St</td>\n",
       "      <td>37.349426</td>\n",
       "      <td>-121.887619</td>\n",
       "      <td>Subscriber</td>\n",
       "      <td>95110</td>\n",
       "      <td>95112</td>\n",
       "      <td>2</td>\n",
       "      <td>1</td>\n",
       "      <td>San Jose</td>\n",
       "      <td>San Jose</td>\n",
       "      <td>1</td>\n",
       "      <td>0.033857</td>\n",
       "      <td>35</td>\n",
       "      <td>23</td>\n",
       "    </tr>\n",
       "    <tr>\n",
       "      <th>2</th>\n",
       "      <td>884</td>\n",
       "      <td>1/14/20 18:07</td>\n",
       "      <td>1/14/20 18:22</td>\n",
       "      <td>San Jose Diridon Station</td>\n",
       "      <td>37.329732</td>\n",
       "      <td>-121.901782</td>\n",
       "      <td>10th St at Empire St</td>\n",
       "      <td>37.349426</td>\n",
       "      <td>-121.887619</td>\n",
       "      <td>Subscriber</td>\n",
       "      <td>95110</td>\n",
       "      <td>95112</td>\n",
       "      <td>2</td>\n",
       "      <td>1</td>\n",
       "      <td>San Jose</td>\n",
       "      <td>San Jose</td>\n",
       "      <td>1</td>\n",
       "      <td>0.033857</td>\n",
       "      <td>35</td>\n",
       "      <td>23</td>\n",
       "    </tr>\n",
       "    <tr>\n",
       "      <th>3</th>\n",
       "      <td>1171</td>\n",
       "      <td>1/29/20 17:12</td>\n",
       "      <td>1/29/20 17:32</td>\n",
       "      <td>San Jose Diridon Station</td>\n",
       "      <td>37.329732</td>\n",
       "      <td>-121.901782</td>\n",
       "      <td>10th St at Mission St</td>\n",
       "      <td>37.355693</td>\n",
       "      <td>-121.892251</td>\n",
       "      <td>Subscriber</td>\n",
       "      <td>95110</td>\n",
       "      <td>95112</td>\n",
       "      <td>2</td>\n",
       "      <td>1</td>\n",
       "      <td>San Jose</td>\n",
       "      <td>San Jose</td>\n",
       "      <td>1</td>\n",
       "      <td>0.035492</td>\n",
       "      <td>35</td>\n",
       "      <td>23</td>\n",
       "    </tr>\n",
       "    <tr>\n",
       "      <th>4</th>\n",
       "      <td>1401</td>\n",
       "      <td>1/8/20 18:55</td>\n",
       "      <td>1/8/20 19:18</td>\n",
       "      <td>San Jose Diridon Station</td>\n",
       "      <td>37.329732</td>\n",
       "      <td>-121.901782</td>\n",
       "      <td>10th St at Mission St</td>\n",
       "      <td>37.355693</td>\n",
       "      <td>-121.892251</td>\n",
       "      <td>Subscriber</td>\n",
       "      <td>95110</td>\n",
       "      <td>95112</td>\n",
       "      <td>2</td>\n",
       "      <td>1</td>\n",
       "      <td>San Jose</td>\n",
       "      <td>San Jose</td>\n",
       "      <td>1</td>\n",
       "      <td>0.035492</td>\n",
       "      <td>35</td>\n",
       "      <td>23</td>\n",
       "    </tr>\n",
       "  </tbody>\n",
       "</table>\n",
       "</div>"
      ],
      "text/plain": [
       "   duration_sec     start_time       end_time        start_station_name  \\\n",
       "0           840  1/21/20 18:04  1/21/20 18:18  San Jose Diridon Station   \n",
       "1           613  1/17/20 18:49  1/17/20 19:00  San Jose Diridon Station   \n",
       "2           884  1/14/20 18:07  1/14/20 18:22  San Jose Diridon Station   \n",
       "3          1171  1/29/20 17:12  1/29/20 17:32  San Jose Diridon Station   \n",
       "4          1401   1/8/20 18:55   1/8/20 19:18  San Jose Diridon Station   \n",
       "\n",
       "   start_lat  start_long       end_station_name    end_lat    end_long  \\\n",
       "0  37.329732 -121.901782   10th St at Empire St  37.349426 -121.887619   \n",
       "1  37.329732 -121.901782   10th St at Empire St  37.349426 -121.887619   \n",
       "2  37.329732 -121.901782   10th St at Empire St  37.349426 -121.887619   \n",
       "3  37.329732 -121.901782  10th St at Mission St  37.355693 -121.892251   \n",
       "4  37.329732 -121.901782  10th St at Mission St  37.355693 -121.892251   \n",
       "\n",
       "    user_type  start_zip  end_zip  start_transit  end_transit start_city  \\\n",
       "0  Subscriber      95110    95112              2            1   San Jose   \n",
       "1  Subscriber      95110    95112              2            1   San Jose   \n",
       "2  Subscriber      95110    95112              2            1   San Jose   \n",
       "3  Subscriber      95110    95112              2            1   San Jose   \n",
       "4  Subscriber      95110    95112              2            1   San Jose   \n",
       "\n",
       "   end_city  is_subscriber  manhattan_dist  start_cap  end_cap  \n",
       "0  San Jose              1        0.033857         35       23  \n",
       "1  San Jose              1        0.033857         35       23  \n",
       "2  San Jose              1        0.033857         35       23  \n",
       "3  San Jose              1        0.035492         35       23  \n",
       "4  San Jose              1        0.035492         35       23  "
      ]
     },
     "execution_count": 838,
     "metadata": {},
     "output_type": "execute_result"
    }
   ],
   "source": [
    "bw_plus.head()"
   ]
  },
  {
   "cell_type": "code",
   "execution_count": 839,
   "metadata": {},
   "outputs": [],
   "source": [
    "features = ['duration_sec','manhattan_dist']\n",
    "\n",
    "X = bw_plus[features]\n",
    "y = bw_plus['is_subscriber']"
   ]
  },
  {
   "cell_type": "code",
   "execution_count": 840,
   "metadata": {},
   "outputs": [],
   "source": [
    "X_train, X_test, y_train, y_test = train_test_split(X, y, test_size=0.2, random_state=42, stratify=y)\n",
    "X_train, X_val, y_train, y_val = train_test_split(X_train, y_train, test_size=0.2, random_state=2, stratify=y_train)"
   ]
  },
  {
   "cell_type": "code",
   "execution_count": 841,
   "metadata": {},
   "outputs": [],
   "source": [
    "scaler = StandardScaler()\n",
    "\n",
    "scaler.fit(X_train)\n",
    "X_train_scaled = scaler.transform(X_train)\n",
    "X_val_scaled = scaler.transform(X_val)"
   ]
  },
  {
   "cell_type": "markdown",
   "metadata": {},
   "source": [
    "### KNN"
   ]
  },
  {
   "cell_type": "markdown",
   "metadata": {},
   "source": [
    "I will use K-Nearest Neighbors to establish a baseline."
   ]
  },
  {
   "cell_type": "code",
   "execution_count": 842,
   "metadata": {},
   "outputs": [
    {
     "data": {
      "text/plain": [
       "KNeighborsClassifier(n_neighbors=10)"
      ]
     },
     "execution_count": 842,
     "metadata": {},
     "output_type": "execute_result"
    }
   ],
   "source": [
    "knn = KNeighborsClassifier(n_neighbors=10)\n",
    "knn.fit(X_train_scaled, y_train)"
   ]
  },
  {
   "cell_type": "code",
   "execution_count": 843,
   "metadata": {},
   "outputs": [
    {
     "name": "stdout",
     "output_type": "stream",
     "text": [
      "              precision    recall  f1-score   support\n",
      "\n",
      "           0       0.84      0.99      0.91     10886\n",
      "           1       0.32      0.02      0.03      2137\n",
      "\n",
      "    accuracy                           0.83     13023\n",
      "   macro avg       0.58      0.51      0.47     13023\n",
      "weighted avg       0.75      0.83      0.76     13023\n",
      "\n"
     ]
    }
   ],
   "source": [
    "y_val_pred = knn.predict(X_val_scaled)\n",
    "print(classification_report(y_val, y_val_pred, zero_division=1))"
   ]
  },
  {
   "cell_type": "code",
   "execution_count": 844,
   "metadata": {},
   "outputs": [
    {
     "data": {
      "text/plain": [
       "[(1, 0.7330086071018906),\n",
       " (2, 0.8218532088893291),\n",
       " (3, 0.7949774418717057),\n",
       " (4, 0.825692924162956),\n",
       " (5, 0.8164015924494225),\n",
       " (6, 0.8303003938683389),\n",
       " (7, 0.8223148636079095),\n",
       " (8, 0.8318356080084598),\n",
       " (9, 0.8272287277498576),\n",
       " (10, 0.8322198094200669),\n",
       " (11, 0.8296857777101879),\n",
       " (12, 0.8339092817826756),\n",
       " (13, 0.8335251982604248),\n",
       " (14, 0.8351375709841286),\n",
       " (15, 0.8340625379456365),\n",
       " (16, 0.8352145527336774),\n",
       " (17, 0.8348305281561043),\n",
       " (18, 0.8352913576491918),\n",
       " (19, 0.835444908535543),\n",
       " (20, 0.8354449674802211),\n",
       " (21, 0.8354450264248993),\n",
       " (22, 0.8355218313404137),\n",
       " (23, 0.8355986362559283),\n",
       " (24, 0.835828992057794),\n",
       " (25, 0.8358289920577942),\n",
       " (26, 0.8359057380286306),\n",
       " (27, 0.8359825429441452),\n",
       " (28, 0.8359825429441452),\n",
       " (29, 0.8359825429441452),\n",
       " (30, 0.8359057380286306),\n",
       " (31, 0.8359825429441452),\n",
       " (32, 0.8359825429441452),\n",
       " (33, 0.8359825429441452),\n",
       " (34, 0.8359825429441452)]"
      ]
     },
     "execution_count": 844,
     "metadata": {},
     "output_type": "execute_result"
    }
   ],
   "source": [
    "k_range = list(range(1, 35))\n",
    "k_scores = []\n",
    "for k in k_range:\n",
    "    knn = KNeighborsClassifier(n_neighbors=k)\n",
    "    scores = cross_val_score(knn, X_val_scaled, y_val, cv=10, scoring='accuracy')\n",
    "    k_scores.append(scores.mean())\n",
    "list(zip(list(range(1, 35)),k_scores))"
   ]
  },
  {
   "cell_type": "code",
   "execution_count": 845,
   "metadata": {},
   "outputs": [
    {
     "data": {
      "text/plain": [
       "KNeighborsClassifier(n_neighbors=27)"
      ]
     },
     "execution_count": 845,
     "metadata": {},
     "output_type": "execute_result"
    }
   ],
   "source": [
    "knn = KNeighborsClassifier(n_neighbors=27)\n",
    "knn.fit(X_train_scaled, y_train)"
   ]
  },
  {
   "cell_type": "code",
   "execution_count": 847,
   "metadata": {},
   "outputs": [
    {
     "name": "stdout",
     "output_type": "stream",
     "text": [
      "              precision    recall  f1-score   support\n",
      "\n",
      "           0       0.84      1.00      0.91     10886\n",
      "           1       0.55      0.01      0.02      2137\n",
      "\n",
      "    accuracy                           0.84     13023\n",
      "   macro avg       0.69      0.50      0.46     13023\n",
      "weighted avg       0.79      0.84      0.76     13023\n",
      "\n"
     ]
    }
   ],
   "source": [
    "y_val_pred = knn.predict(X_val_scaled)\n",
    "print(classification_report(y_val, y_val_pred, zero_division=1))"
   ]
  },
  {
   "cell_type": "markdown",
   "metadata": {},
   "source": [
    "Not very good at all!"
   ]
  },
  {
   "cell_type": "code",
   "execution_count": 848,
   "metadata": {},
   "outputs": [
    {
     "data": {
      "image/png": "[encoded data removed]",
      "text/plain": [
       "<Figure size 504x504 with 2 Axes>"
      ]
     },
     "metadata": {
      "needs_background": "light"
     },
     "output_type": "display_data"
    }
   ],
   "source": [
    "fig, ax = plt.subplots(figsize=(7, 7))\n",
    "plot_confusion_matrix(knn, X_val_scaled, y_val, ax=ax);"
   ]
  },
  {
   "cell_type": "code",
   "execution_count": 849,
   "metadata": {},
   "outputs": [
    {
     "name": "stdout",
     "output_type": "stream",
     "text": [
      "ROC AUC score =  0.5739799355055082\n"
     ]
    },
    {
     "data": {
      "image/png": "[encoded data removed]",
      "text/plain": [
       "<Figure size 432x288 with 1 Axes>"
      ]
     },
     "metadata": {
      "needs_background": "light"
     },
     "output_type": "display_data"
    }
   ],
   "source": [
    "fpr, tpr, thresholds = roc_curve(y_val, knn.predict_proba(X_val_scaled)[:,1])\n",
    "\n",
    "plt.plot(fpr, tpr,lw=2)\n",
    "plt.plot([0,1],[0,1],c='violet',ls='--')\n",
    "plt.xlim([-0.05,1.05])\n",
    "plt.ylim([-0.05,1.05])\n",
    "\n",
    "\n",
    "plt.xlabel('False positive rate')\n",
    "plt.ylabel('True positive rate')\n",
    "plt.title('ROC curve');\n",
    "print(\"ROC AUC score = \", roc_auc_score(y_val, knn.predict_proba(X_val_scaled)[:,1]))"
   ]
  },
  {
   "cell_type": "markdown",
   "metadata": {},
   "source": [
    "---"
   ]
  },
  {
   "cell_type": "markdown",
   "metadata": {},
   "source": [
    "---"
   ]
  },
  {
   "cell_type": "markdown",
   "metadata": {},
   "source": [
    " "
   ]
  },
  {
   "cell_type": "markdown",
   "metadata": {},
   "source": [
    "# Adding More Features"
   ]
  },
  {
   "cell_type": "markdown",
   "metadata": {},
   "source": [
    "I'm going to now do some additional preprocessing and one hot encoding so I can add the other features."
   ]
  },
  {
   "cell_type": "code",
   "execution_count": 851,
   "metadata": {},
   "outputs": [
    {
     "data": {
      "text/html": [
       "<div>\n",
       "<style scoped>\n",
       "    .dataframe tbody tr th:only-of-type {\n",
       "        vertical-align: middle;\n",
       "    }\n",
       "\n",
       "    .dataframe tbody tr th {\n",
       "        vertical-align: top;\n",
       "    }\n",
       "\n",
       "    .dataframe thead th {\n",
       "        text-align: right;\n",
       "    }\n",
       "</style>\n",
       "<table border=\"1\" class=\"dataframe\">\n",
       "  <thead>\n",
       "    <tr style=\"text-align: right;\">\n",
       "      <th></th>\n",
       "      <th>duration_sec</th>\n",
       "      <th>start_time</th>\n",
       "      <th>end_time</th>\n",
       "      <th>start_station_name</th>\n",
       "      <th>start_lat</th>\n",
       "      <th>start_long</th>\n",
       "      <th>end_station_name</th>\n",
       "      <th>end_lat</th>\n",
       "      <th>end_long</th>\n",
       "      <th>user_type</th>\n",
       "      <th>start_zip</th>\n",
       "      <th>end_zip</th>\n",
       "      <th>start_transit</th>\n",
       "      <th>end_transit</th>\n",
       "      <th>start_city</th>\n",
       "      <th>end_city</th>\n",
       "      <th>is_subscriber</th>\n",
       "      <th>manhattan_dist</th>\n",
       "      <th>start_cap</th>\n",
       "      <th>end_cap</th>\n",
       "    </tr>\n",
       "  </thead>\n",
       "  <tbody>\n",
       "    <tr>\n",
       "      <th>0</th>\n",
       "      <td>840</td>\n",
       "      <td>1/21/20 18:04</td>\n",
       "      <td>1/21/20 18:18</td>\n",
       "      <td>San Jose Diridon Station</td>\n",
       "      <td>37.329732</td>\n",
       "      <td>-121.901782</td>\n",
       "      <td>10th St at Empire St</td>\n",
       "      <td>37.349426</td>\n",
       "      <td>-121.887619</td>\n",
       "      <td>Subscriber</td>\n",
       "      <td>95110</td>\n",
       "      <td>95112</td>\n",
       "      <td>2</td>\n",
       "      <td>1</td>\n",
       "      <td>San Jose</td>\n",
       "      <td>San Jose</td>\n",
       "      <td>1</td>\n",
       "      <td>0.033857</td>\n",
       "      <td>35</td>\n",
       "      <td>23</td>\n",
       "    </tr>\n",
       "    <tr>\n",
       "      <th>1</th>\n",
       "      <td>613</td>\n",
       "      <td>1/17/20 18:49</td>\n",
       "      <td>1/17/20 19:00</td>\n",
       "      <td>San Jose Diridon Station</td>\n",
       "      <td>37.329732</td>\n",
       "      <td>-121.901782</td>\n",
       "      <td>10th St at Empire St</td>\n",
       "      <td>37.349426</td>\n",
       "      <td>-121.887619</td>\n",
       "      <td>Subscriber</td>\n",
       "      <td>95110</td>\n",
       "      <td>95112</td>\n",
       "      <td>2</td>\n",
       "      <td>1</td>\n",
       "      <td>San Jose</td>\n",
       "      <td>San Jose</td>\n",
       "      <td>1</td>\n",
       "      <td>0.033857</td>\n",
       "      <td>35</td>\n",
       "      <td>23</td>\n",
       "    </tr>\n",
       "    <tr>\n",
       "      <th>2</th>\n",
       "      <td>884</td>\n",
       "      <td>1/14/20 18:07</td>\n",
       "      <td>1/14/20 18:22</td>\n",
       "      <td>San Jose Diridon Station</td>\n",
       "      <td>37.329732</td>\n",
       "      <td>-121.901782</td>\n",
       "      <td>10th St at Empire St</td>\n",
       "      <td>37.349426</td>\n",
       "      <td>-121.887619</td>\n",
       "      <td>Subscriber</td>\n",
       "      <td>95110</td>\n",
       "      <td>95112</td>\n",
       "      <td>2</td>\n",
       "      <td>1</td>\n",
       "      <td>San Jose</td>\n",
       "      <td>San Jose</td>\n",
       "      <td>1</td>\n",
       "      <td>0.033857</td>\n",
       "      <td>35</td>\n",
       "      <td>23</td>\n",
       "    </tr>\n",
       "    <tr>\n",
       "      <th>3</th>\n",
       "      <td>1171</td>\n",
       "      <td>1/29/20 17:12</td>\n",
       "      <td>1/29/20 17:32</td>\n",
       "      <td>San Jose Diridon Station</td>\n",
       "      <td>37.329732</td>\n",
       "      <td>-121.901782</td>\n",
       "      <td>10th St at Mission St</td>\n",
       "      <td>37.355693</td>\n",
       "      <td>-121.892251</td>\n",
       "      <td>Subscriber</td>\n",
       "      <td>95110</td>\n",
       "      <td>95112</td>\n",
       "      <td>2</td>\n",
       "      <td>1</td>\n",
       "      <td>San Jose</td>\n",
       "      <td>San Jose</td>\n",
       "      <td>1</td>\n",
       "      <td>0.035492</td>\n",
       "      <td>35</td>\n",
       "      <td>23</td>\n",
       "    </tr>\n",
       "    <tr>\n",
       "      <th>4</th>\n",
       "      <td>1401</td>\n",
       "      <td>1/8/20 18:55</td>\n",
       "      <td>1/8/20 19:18</td>\n",
       "      <td>San Jose Diridon Station</td>\n",
       "      <td>37.329732</td>\n",
       "      <td>-121.901782</td>\n",
       "      <td>10th St at Mission St</td>\n",
       "      <td>37.355693</td>\n",
       "      <td>-121.892251</td>\n",
       "      <td>Subscriber</td>\n",
       "      <td>95110</td>\n",
       "      <td>95112</td>\n",
       "      <td>2</td>\n",
       "      <td>1</td>\n",
       "      <td>San Jose</td>\n",
       "      <td>San Jose</td>\n",
       "      <td>1</td>\n",
       "      <td>0.035492</td>\n",
       "      <td>35</td>\n",
       "      <td>23</td>\n",
       "    </tr>\n",
       "  </tbody>\n",
       "</table>\n",
       "</div>"
      ],
      "text/plain": [
       "   duration_sec     start_time       end_time        start_station_name  \\\n",
       "0           840  1/21/20 18:04  1/21/20 18:18  San Jose Diridon Station   \n",
       "1           613  1/17/20 18:49  1/17/20 19:00  San Jose Diridon Station   \n",
       "2           884  1/14/20 18:07  1/14/20 18:22  San Jose Diridon Station   \n",
       "3          1171  1/29/20 17:12  1/29/20 17:32  San Jose Diridon Station   \n",
       "4          1401   1/8/20 18:55   1/8/20 19:18  San Jose Diridon Station   \n",
       "\n",
       "   start_lat  start_long       end_station_name    end_lat    end_long  \\\n",
       "0  37.329732 -121.901782   10th St at Empire St  37.349426 -121.887619   \n",
       "1  37.329732 -121.901782   10th St at Empire St  37.349426 -121.887619   \n",
       "2  37.329732 -121.901782   10th St at Empire St  37.349426 -121.887619   \n",
       "3  37.329732 -121.901782  10th St at Mission St  37.355693 -121.892251   \n",
       "4  37.329732 -121.901782  10th St at Mission St  37.355693 -121.892251   \n",
       "\n",
       "    user_type  start_zip  end_zip  start_transit  end_transit start_city  \\\n",
       "0  Subscriber      95110    95112              2            1   San Jose   \n",
       "1  Subscriber      95110    95112              2            1   San Jose   \n",
       "2  Subscriber      95110    95112              2            1   San Jose   \n",
       "3  Subscriber      95110    95112              2            1   San Jose   \n",
       "4  Subscriber      95110    95112              2            1   San Jose   \n",
       "\n",
       "   end_city  is_subscriber  manhattan_dist  start_cap  end_cap  \n",
       "0  San Jose              1        0.033857         35       23  \n",
       "1  San Jose              1        0.033857         35       23  \n",
       "2  San Jose              1        0.033857         35       23  \n",
       "3  San Jose              1        0.035492         35       23  \n",
       "4  San Jose              1        0.035492         35       23  "
      ]
     },
     "execution_count": 851,
     "metadata": {},
     "output_type": "execute_result"
    }
   ],
   "source": [
    "bw_plus.head()"
   ]
  },
  {
   "cell_type": "markdown",
   "metadata": {},
   "source": [
    "## Preprocessing and One Hot Encoder"
   ]
  },
  {
   "cell_type": "code",
   "execution_count": 852,
   "metadata": {},
   "outputs": [],
   "source": [
    "features = ['duration_sec','start_lat','end_lat','start_long', 'end_long', 'manhattan_dist','start_transit','end_transit','start_cap','end_cap','start_city','end_city', 'start_zip','end_zip']\n",
    "\n",
    "X = bw_plus[features]\n",
    "y = bw_plus['is_subscriber']"
   ]
  },
  {
   "cell_type": "code",
   "execution_count": 853,
   "metadata": {},
   "outputs": [],
   "source": [
    "X_train, X_test, y_train, y_test = train_test_split(X, y, test_size=0.3, random_state=2, stratify=y)\n",
    "X_train, X_val, y_train, y_val = train_test_split(X_train, y_train, test_size=0.2, random_state=2, stratify=y_train)"
   ]
  },
  {
   "cell_type": "code",
   "execution_count": 854,
   "metadata": {},
   "outputs": [],
   "source": [
    "#specify categorical features\n",
    "categoricals = ['start_city','end_city','start_zip','end_zip']\n",
    "numericals = ['start_lat','end_lat','start_long', 'end_long','duration_sec','manhattan_dist','start_transit','end_transit','start_cap','end_cap']\n",
    "\n",
    "ohe = OneHotEncoder(sparse=False,handle_unknown='ignore')\n",
    "\n",
    "#train\n",
    "cat_matrix_train = ohe.fit_transform(X_train.loc[:, categoricals])\n",
    "\n",
    "X_train_ohe = pd.DataFrame(cat_matrix_train,\n",
    "                           columns=ohe.get_feature_names(categoricals), #create meaningful column names\n",
    "                           index=X_train.index) #keep the same index values\n",
    "\n",
    "X_train_preprocessed = pd.concat([X_train.loc[:, numericals], X_train_ohe], axis=1)\n",
    "\n",
    "#val\n",
    "cat_matrix_val = ohe.transform(X_val.loc[:, categoricals])\n",
    "\n",
    "X_val_ohe = pd.DataFrame(cat_matrix_val,\n",
    "                           columns=ohe.get_feature_names(categoricals), #create meaningful column names\n",
    "                           index=X_val.index) #keep the same index values\n",
    "\n",
    "X_val_preprocessed = pd.concat([X_val.loc[:, numericals], X_val_ohe], axis=1)\n",
    "\n",
    "#Scale data\n",
    "ss = StandardScaler()\n",
    "X_train_preprocessed = ss.fit_transform(X_train_preprocessed)\n",
    "X_val_preprocessed = ss.transform(X_val_preprocessed)"
   ]
  },
  {
   "cell_type": "code",
   "execution_count": 477,
   "metadata": {},
   "outputs": [
    {
     "name": "stdout",
     "output_type": "stream",
     "text": [
      "Customer: 68032\n",
      "Subscriber: 13357\n",
      "Proportion: 5.09 : 1\n",
      "Percentage of Majority Class: 83.59\n"
     ]
    }
   ],
   "source": [
    "type_count = bw_plus.user_type.value_counts()\n",
    "print(f'Customer: {type_count[0]}')\n",
    "print(f'Subscriber: {type_count[1]}')\n",
    "print(f'Proportion: {round(type_count[0] / type_count[1], 2)} : 1')\n",
    "print(f'Percentage of Majority Class: {round(type_count[0] / sum(type_count), 4)*100}')"
   ]
  },
  {
   "cell_type": "code",
   "execution_count": 478,
   "metadata": {},
   "outputs": [
    {
     "data": {
      "image/png": "[encoded data removed]",
      "text/plain": [
       "<Figure size 432x288 with 1 Axes>"
      ]
     },
     "metadata": {
      "needs_background": "light"
     },
     "output_type": "display_data"
    }
   ],
   "source": [
    "type_count.plot(kind='bar', title='Class Count', rot=0);"
   ]
  },
  {
   "cell_type": "markdown",
   "metadata": {},
   "source": [
    "## Dealing with Class Imbalance"
   ]
  },
  {
   "cell_type": "markdown",
   "metadata": {},
   "source": [
    "As you can see in the numbers and bar graph above, there are about 5 times as many people in the customer class as the subscriber class.\n",
    "\n",
    "We can fix that by trying a few methods: Random Oversampler, SMOTE, and ADASYN."
   ]
  },
  {
   "cell_type": "markdown",
   "metadata": {},
   "source": [
    "### Random Oversampler"
   ]
  },
  {
   "cell_type": "code",
   "execution_count": 479,
   "metadata": {},
   "outputs": [],
   "source": [
    "from imblearn.over_sampling import RandomOverSampler\n",
    "ros = RandomOverSampler(random_state=0)\n",
    "\n",
    "X_train_ROS, y_train_ROS = ros.fit_sample(X_train_preprocessed,y_train)\n",
    "X_val_ROS, y_val_ROS = ros.fit_sample(X_val_preprocessed,y_val)\n",
    "#X_test_resampled, y_test_resampled = ros.fit_sample(X_test_preprocessed,y_test)"
   ]
  },
  {
   "cell_type": "code",
   "execution_count": 480,
   "metadata": {},
   "outputs": [
    {
     "data": {
      "text/plain": [
       "Counter({0: 38097, 1: 38097})"
      ]
     },
     "execution_count": 480,
     "metadata": {},
     "output_type": "execute_result"
    }
   ],
   "source": [
    "from collections import Counter\n",
    "\n",
    "Counter(y_train_ROS)"
   ]
  },
  {
   "cell_type": "markdown",
   "metadata": {},
   "source": [
    "Hooray! Now they're even."
   ]
  },
  {
   "cell_type": "markdown",
   "metadata": {},
   "source": [
    "#### KNN"
   ]
  },
  {
   "cell_type": "markdown",
   "metadata": {},
   "source": [
    "I'm going to use cross validation to find the best k."
   ]
  },
  {
   "cell_type": "code",
   "execution_count": 481,
   "metadata": {},
   "outputs": [
    {
     "data": {
      "text/plain": [
       "[(1, 0.7694605147636431),\n",
       " (2, 0.8247463918796113),\n",
       " (3, 0.7994737612248357),\n",
       " (4, 0.8272054587742403),\n",
       " (5, 0.8141288141336659),\n",
       " (6, 0.8278192628190318),\n",
       " (7, 0.8229052107881645),\n",
       " (8, 0.8286088905318607),\n",
       " (9, 0.8243972090014324),\n",
       " (10, 0.8306267424487469),\n",
       " (11, 0.8299254501486377),\n",
       " (12, 0.8332599386966099),\n",
       " (13, 0.8315926559154689),\n",
       " (14, 0.8340496434237483),\n",
       " (15, 0.8337866395576299),\n",
       " (16, 0.8342253900774764),\n",
       " (17, 0.833962309197049),\n",
       " (18, 0.8348396562081234),\n",
       " (19, 0.8336988432450749),\n",
       " (20, 0.8344884709579039),\n",
       " (21, 0.8333477350091648),\n",
       " (22, 0.835102968131479),\n",
       " (23, 0.8351029681314788),\n",
       " (24, 0.8349279146065338),\n",
       " (25, 0.8343133404186499),\n",
       " (26, 0.8349277605779154),\n",
       " (27, 0.834313417432959),\n",
       " (28, 0.8349277605779154),\n",
       " (29, 0.834488779015141)]"
      ]
     },
     "execution_count": 481,
     "metadata": {},
     "output_type": "execute_result"
    }
   ],
   "source": [
    "k_range = list(range(1, 30))\n",
    "k_scores = []\n",
    "for k in k_range:\n",
    "    knn = KNeighborsClassifier(n_neighbors=k)\n",
    "    scores = cross_val_score(knn, X_val_preprocessed, y_val, cv=10, scoring='accuracy')\n",
    "    k_scores.append(scores.mean())\n",
    "list(zip(list(range(1, 30)),k_scores))"
   ]
  },
  {
   "cell_type": "markdown",
   "metadata": {},
   "source": [
    "22 it is."
   ]
  },
  {
   "cell_type": "code",
   "execution_count": 482,
   "metadata": {},
   "outputs": [],
   "source": [
    "knn = KNeighborsClassifier(n_neighbors=22)"
   ]
  },
  {
   "cell_type": "code",
   "execution_count": 483,
   "metadata": {},
   "outputs": [
    {
     "name": "stdout",
     "output_type": "stream",
     "text": [
      "Training set:  0.7313961729270021\n",
      "Val set:  0.6587099605089952\n",
      "              precision    recall  f1-score   support\n",
      "\n",
      "           0       0.89      0.67      0.77      9525\n",
      "           1       0.26      0.58      0.36      1870\n",
      "\n",
      "    accuracy                           0.66     11395\n",
      "   macro avg       0.57      0.63      0.56     11395\n",
      "weighted avg       0.79      0.66      0.70     11395\n",
      "\n"
     ]
    }
   ],
   "source": [
    "knn.fit(X_train_ROS, y_train_ROS)\n",
    "\n",
    "y_pred = knn.predict(X_val_preprocessed)\n",
    "\n",
    "print(\"Training set: \", knn.score(X_train_ROS, y_train_ROS))\n",
    "print(\"Val set: \", knn.score(X_val_preprocessed, y_val))\n",
    "print(classification_report(y_val, y_pred, zero_division=1))"
   ]
  },
  {
   "cell_type": "code",
   "execution_count": 484,
   "metadata": {},
   "outputs": [
    {
     "data": {
      "image/png": "[encoded data removed]",
      "text/plain": [
       "<Figure size 504x504 with 2 Axes>"
      ]
     },
     "metadata": {
      "needs_background": "light"
     },
     "output_type": "display_data"
    }
   ],
   "source": [
    "fig, ax = plt.subplots(figsize=(7, 7))\n",
    "plot_confusion_matrix(knn, X_val_preprocessed, y_val, ax=ax);"
   ]
  },
  {
   "cell_type": "code",
   "execution_count": 485,
   "metadata": {},
   "outputs": [],
   "source": [
    "fpr, tpr, thresholds = roc_curve(y_val, knn.predict_proba(X_val_preprocessed)[:,1])"
   ]
  },
  {
   "cell_type": "code",
   "execution_count": 486,
   "metadata": {},
   "outputs": [
    {
     "name": "stdout",
     "output_type": "stream",
     "text": [
      "ROC AUC score =  0.6771898606257106\n"
     ]
    },
    {
     "data": {
      "image/png": "[encoded data removed]",
      "text/plain": [
       "<Figure size 432x288 with 1 Axes>"
      ]
     },
     "metadata": {
      "needs_background": "light"
     },
     "output_type": "display_data"
    }
   ],
   "source": [
    "plt.plot(fpr, tpr,lw=2)\n",
    "plt.plot([0,1],[0,1],c='violet',ls='--')\n",
    "plt.xlim([-0.05,1.05])\n",
    "plt.ylim([-0.05,1.05])\n",
    "\n",
    "\n",
    "plt.xlabel('False positive rate')\n",
    "plt.ylabel('True positive rate')\n",
    "plt.title('ROC curve');\n",
    "print(\"ROC AUC score = \", roc_auc_score(y_val, knn.predict_proba(X_val_preprocessed)[:,1]))"
   ]
  },
  {
   "cell_type": "markdown",
   "metadata": {},
   "source": [
    "A much better result using more features!\n",
    "\n",
    "Now let's try logistic regression."
   ]
  },
  {
   "cell_type": "markdown",
   "metadata": {},
   "source": [
    "#### Logistic Regression"
   ]
  },
  {
   "cell_type": "code",
   "execution_count": 386,
   "metadata": {},
   "outputs": [
    {
     "name": "stdout",
     "output_type": "stream",
     "text": [
      "Training set:  0.6154552851930598\n",
      "Val set:  0.5341816586222027\n",
      "              precision    recall  f1-score   support\n",
      "\n",
      "           0       0.90      0.50      0.64      9525\n",
      "           1       0.22      0.72      0.34      1870\n",
      "\n",
      "    accuracy                           0.53     11395\n",
      "   macro avg       0.56      0.61      0.49     11395\n",
      "weighted avg       0.79      0.53      0.59     11395\n",
      "\n"
     ]
    }
   ],
   "source": [
    "lr = LogisticRegression(penalty='none',class_weight='balanced',max_iter=2000)\n",
    "lr.fit(X_train_ROS, y_train_ROS)\n",
    "\n",
    "y_pred = lr.predict(X_val_preprocessed)\n",
    "\n",
    "print(\"Training set: \", lr.score(X_train_ROS, y_train_ROS))\n",
    "print(\"Val set: \", lr.score(X_val_preprocessed, y_val))\n",
    "print(classification_report(y_val, y_pred))"
   ]
  },
  {
   "cell_type": "code",
   "execution_count": 387,
   "metadata": {},
   "outputs": [
    {
     "data": {
      "text/plain": [
       "[(-0.10413839747415786, 'duration_sec'),\n",
       " (-0.3908085643130086, 'start_lat'),\n",
       " (0.3496604394408063, 'end_lat'),\n",
       " (1.0761809507177205, 'start_long'),\n",
       " (-0.31611935436463495, 'end_long'),\n",
       " (0.22016455670941573, 'manhattan_dist'),\n",
       " (0.02238727133253689, 'start_transit'),\n",
       " (-0.036153003754487434, 'end_transit'),\n",
       " (0.038046752695933196, 'start_cap'),\n",
       " (0.01654692796612429, 'end_cap'),\n",
       " (-0.028585943600705797, 'start_city'),\n",
       " (0.18466191229588563, 'end_city'),\n",
       " (0.11878753733946575, 'start_zip'),\n",
       " (-0.10559645225517644, 'end_zip')]"
      ]
     },
     "execution_count": 387,
     "metadata": {},
     "output_type": "execute_result"
    }
   ],
   "source": [
    "list(zip(lr.coef_[0], X.columns))"
   ]
  },
  {
   "cell_type": "code",
   "execution_count": 388,
   "metadata": {},
   "outputs": [
    {
     "data": {
      "image/png": "[encoded data removed]",
      "text/plain": [
       "<Figure size 504x504 with 2 Axes>"
      ]
     },
     "metadata": {
      "needs_background": "light"
     },
     "output_type": "display_data"
    }
   ],
   "source": [
    "fig, ax = plt.subplots(figsize=(7, 7))\n",
    "plot_confusion_matrix(lr, X_val_preprocessed, y_val, ax=ax);"
   ]
  },
  {
   "cell_type": "code",
   "execution_count": 389,
   "metadata": {},
   "outputs": [
    {
     "name": "stdout",
     "output_type": "stream",
     "text": [
      "ROC AUC score =  0.6565336084326358\n"
     ]
    },
    {
     "data": {
      "image/png": "[encoded data removed]",
      "text/plain": [
       "<Figure size 432x288 with 1 Axes>"
      ]
     },
     "metadata": {
      "needs_background": "light"
     },
     "output_type": "display_data"
    }
   ],
   "source": [
    "fpr, tpr, thresholds = roc_curve(y_val, lr.predict_proba(X_val_preprocessed)[:,1])\n",
    "\n",
    "plt.plot(fpr, tpr,lw=2)\n",
    "plt.plot([0,1],[0,1],c='violet',ls='--')\n",
    "plt.xlim([-0.05,1.05])\n",
    "plt.ylim([-0.05,1.05])\n",
    "\n",
    "\n",
    "plt.xlabel('False positive rate')\n",
    "plt.ylabel('True positive rate')\n",
    "plt.title('ROC curve');\n",
    "print(\"ROC AUC score = \", roc_auc_score(y_val, lr.predict_proba(X_val_preprocessed)[:,1]))"
   ]
  },
  {
   "cell_type": "markdown",
   "metadata": {},
   "source": [
    "Pretty good, but a slightly better ROC AUC score using KNN. KNN also has a better recall for the customer (0) variable, which is what I'm focused on for my project, since I'm trying to turn casual customers into subscribers."
   ]
  },
  {
   "cell_type": "markdown",
   "metadata": {},
   "source": [
    "## SMOTE"
   ]
  },
  {
   "cell_type": "markdown",
   "metadata": {},
   "source": [
    "Now let's trying a different oversampling method, SMOTE."
   ]
  },
  {
   "cell_type": "markdown",
   "metadata": {},
   "source": [
    "#### KNN"
   ]
  },
  {
   "cell_type": "code",
   "execution_count": 390,
   "metadata": {},
   "outputs": [
    {
     "name": "stdout",
     "output_type": "stream",
     "text": [
      "Training set:  0.7376958815654776\n",
      "Val set:  0.6346643264589732\n",
      "              precision    recall  f1-score   support\n",
      "\n",
      "           0       0.89      0.64      0.75      9525\n",
      "           1       0.25      0.59      0.35      1870\n",
      "\n",
      "    accuracy                           0.63     11395\n",
      "   macro avg       0.57      0.62      0.55     11395\n",
      "weighted avg       0.78      0.63      0.68     11395\n",
      "\n"
     ]
    }
   ],
   "source": [
    "X_smote, y_smote = SMOTE(random_state=42).fit_sample(X_train_preprocessed, y_train)\n",
    "X_smoted_val, y_smoted_val = SMOTE(random_state=42).fit_sample(X_val_preprocessed, y_val)\n",
    "\n",
    "knn.fit(X_smote, y_smote)\n",
    "y_pred = knn.predict(X_val_preprocessed)\n",
    "print(\"Training set: \", knn.score(X_smote, y_smote))\n",
    "print(\"Val set: \", knn.score(X_val_preprocessed, y_val))\n",
    "print(classification_report(y_val, y_pred, zero_division=1))"
   ]
  },
  {
   "cell_type": "code",
   "execution_count": 391,
   "metadata": {},
   "outputs": [
    {
     "name": "stdout",
     "output_type": "stream",
     "text": [
      "ROC AUC score =  0.6683946832849103\n"
     ]
    },
    {
     "data": {
      "image/png": "[encoded data removed]",
      "text/plain": [
       "<Figure size 432x288 with 1 Axes>"
      ]
     },
     "metadata": {
      "needs_background": "light"
     },
     "output_type": "display_data"
    }
   ],
   "source": [
    "fpr, tpr, thresholds = roc_curve(y_val, knn.predict_proba(X_val_preprocessed)[:,1])\n",
    "\n",
    "plt.plot(fpr, tpr,lw=2)\n",
    "plt.plot([0,1],[0,1],c='violet',ls='--')\n",
    "plt.xlim([-0.05,1.05])\n",
    "plt.ylim([-0.05,1.05])\n",
    "\n",
    "plt.xlabel('False positive rate')\n",
    "plt.ylabel('True positive rate')\n",
    "plt.title('ROC curve');\n",
    "print(\"ROC AUC score = \", roc_auc_score(y_val, knn.predict_proba(X_val_preprocessed)[:,1]))"
   ]
  },
  {
   "cell_type": "markdown",
   "metadata": {},
   "source": [
    "#### Logistic Regression"
   ]
  },
  {
   "cell_type": "code",
   "execution_count": 392,
   "metadata": {},
   "outputs": [
    {
     "name": "stdout",
     "output_type": "stream",
     "text": [
      "Training set:  0.6231855526681891\n",
      "Val set:  0.5516454585344449\n",
      "              precision    recall  f1-score   support\n",
      "\n",
      "           0       0.90      0.52      0.66      9525\n",
      "           1       0.23      0.71      0.34      1870\n",
      "\n",
      "    accuracy                           0.55     11395\n",
      "   macro avg       0.56      0.62      0.50     11395\n",
      "weighted avg       0.79      0.55      0.61     11395\n",
      "\n"
     ]
    }
   ],
   "source": [
    "lr = LogisticRegression(penalty='none',class_weight='balanced',max_iter=2000)\n",
    "lr.fit(X_smote, y_smote)\n",
    "y_pred = lr.predict(X_val_preprocessed)\n",
    "print(\"Training set: \", lr.score(X_smote, y_smote))\n",
    "print(\"Val set: \",lr.score(X_val_preprocessed, y_val))\n",
    "print(classification_report(y_val, y_pred, zero_division=1))"
   ]
  },
  {
   "cell_type": "code",
   "execution_count": 393,
   "metadata": {},
   "outputs": [
    {
     "name": "stdout",
     "output_type": "stream",
     "text": [
      "ROC AUC score =  0.6624663775316856\n"
     ]
    },
    {
     "data": {
      "image/png": "[encoded data removed]",
      "text/plain": [
       "<Figure size 432x288 with 1 Axes>"
      ]
     },
     "metadata": {
      "needs_background": "light"
     },
     "output_type": "display_data"
    }
   ],
   "source": [
    "fpr, tpr, thresholds = roc_curve(y_val, lr.predict_proba(X_val_preprocessed)[:,1])\n",
    "\n",
    "plt.plot(fpr, tpr,lw=2)\n",
    "plt.plot([0,1],[0,1],c='violet',ls='--')\n",
    "plt.xlim([-0.05,1.05])\n",
    "plt.ylim([-0.05,1.05])\n",
    "\n",
    "plt.xlabel('False positive rate')\n",
    "plt.ylabel('True positive rate')\n",
    "plt.title('ROC curve');\n",
    "print(\"ROC AUC score = \", roc_auc_score(y_val, lr.predict_proba(X_val_preprocessed)[:,1]))"
   ]
  },
  {
   "cell_type": "markdown",
   "metadata": {},
   "source": [
    "About the same, and still not as good of recall as using Oversampler with KNN."
   ]
  },
  {
   "cell_type": "markdown",
   "metadata": {},
   "source": [
    "### ADASYN"
   ]
  },
  {
   "cell_type": "code",
   "execution_count": 394,
   "metadata": {},
   "outputs": [],
   "source": [
    "X_adasyn_train, y_adasyn_train = ADASYN(random_state=42).fit_sample(X_train_preprocessed, y_train)\n",
    "X_adasyn_val, y_adasyn_val = ADASYN(random_state=42).fit_sample(X_val_preprocessed, y_val)"
   ]
  },
  {
   "cell_type": "code",
   "execution_count": 395,
   "metadata": {},
   "outputs": [
    {
     "name": "stdout",
     "output_type": "stream",
     "text": [
      "Training set:  0.7211422494845093\n",
      "Val set:  0.5986836331724441\n",
      "              precision    recall  f1-score   support\n",
      "\n",
      "           0       0.90      0.59      0.71      9525\n",
      "           1       0.24      0.66      0.35      1870\n",
      "\n",
      "    accuracy                           0.60     11395\n",
      "   macro avg       0.57      0.62      0.53     11395\n",
      "weighted avg       0.79      0.60      0.65     11395\n",
      "\n"
     ]
    }
   ],
   "source": [
    "knn.fit(X_adasyn_train, y_adasyn_train)\n",
    "\n",
    "y_pred = knn.predict(X_val_preprocessed)\n",
    "print(\"Training set: \", knn.score(X_adasyn_train, y_adasyn_train))\n",
    "print(\"Val set: \", knn.score(X_val_preprocessed, y_val))\n",
    "print(classification_report(y_val, y_pred, zero_division=1))"
   ]
  },
  {
   "cell_type": "code",
   "execution_count": 396,
   "metadata": {},
   "outputs": [
    {
     "name": "stdout",
     "output_type": "stream",
     "text": [
      "ROC AUC score =  0.6706446025797577\n"
     ]
    },
    {
     "data": {
      "image/png": "[encoded data removed]",
      "text/plain": [
       "<Figure size 432x288 with 1 Axes>"
      ]
     },
     "metadata": {
      "needs_background": "light"
     },
     "output_type": "display_data"
    }
   ],
   "source": [
    "fpr, tpr, thresholds = roc_curve(y_val, knn.predict_proba(X_val_preprocessed)[:,1])\n",
    "\n",
    "plt.plot(fpr, tpr,lw=2)\n",
    "plt.plot([0,1],[0,1],c='violet',ls='--')\n",
    "plt.xlim([-0.05,1.05])\n",
    "plt.ylim([-0.05,1.05])\n",
    "\n",
    "plt.xlabel('False positive rate')\n",
    "plt.ylabel('True positive rate')\n",
    "plt.title('ROC curve');\n",
    "print(\"ROC AUC score = \", roc_auc_score(y_val, knn.predict_proba(X_val_preprocessed)[:,1]))"
   ]
  },
  {
   "cell_type": "code",
   "execution_count": 397,
   "metadata": {},
   "outputs": [
    {
     "name": "stdout",
     "output_type": "stream",
     "text": [
      "Training set:  0.6109374797370025\n",
      "Val set:  0.5102237823606846\n",
      "              precision    recall  f1-score   support\n",
      "\n",
      "           0       0.91      0.46      0.61      9525\n",
      "           1       0.22      0.76      0.34      1870\n",
      "\n",
      "    accuracy                           0.51     11395\n",
      "   macro avg       0.56      0.61      0.47     11395\n",
      "weighted avg       0.79      0.51      0.57     11395\n",
      "\n"
     ]
    }
   ],
   "source": [
    "lr.fit(X_adasyn_train, y_adasyn_train)\n",
    "\n",
    "y_pred = lr.predict(X_val_preprocessed)\n",
    "print(\"Training set: \", lr.score(X_adasyn_train, y_adasyn_train))\n",
    "print(\"Val set: \", lr.score(X_val_preprocessed, y_val))\n",
    "print(classification_report(y_val, y_pred, zero_division=1))"
   ]
  },
  {
   "cell_type": "code",
   "execution_count": 398,
   "metadata": {},
   "outputs": [
    {
     "name": "stdout",
     "output_type": "stream",
     "text": [
      "0.7935026030733786\n"
     ]
    }
   ],
   "source": [
    "print(precision_score(y_val, y_pred, average='weighted', zero_division='warn'))"
   ]
  },
  {
   "cell_type": "code",
   "execution_count": 399,
   "metadata": {},
   "outputs": [
    {
     "name": "stdout",
     "output_type": "stream",
     "text": [
      "ROC AUC score =  0.6659324041714036\n"
     ]
    },
    {
     "data": {
      "image/png": "[encoded data removed]",
      "text/plain": [
       "<Figure size 432x288 with 1 Axes>"
      ]
     },
     "metadata": {
      "needs_background": "light"
     },
     "output_type": "display_data"
    }
   ],
   "source": [
    "fpr, tpr, thresholds = roc_curve(y_val, lr.predict_proba(X_val_preprocessed)[:,1])\n",
    "\n",
    "plt.plot(fpr, tpr,lw=2)\n",
    "plt.plot([0,1],[0,1],c='violet',ls='--')\n",
    "plt.xlim([-0.05,1.05])\n",
    "plt.ylim([-0.05,1.05])\n",
    "\n",
    "plt.xlabel('False positive rate')\n",
    "plt.ylabel('True positive rate')\n",
    "plt.title('ROC curve');\n",
    "print(\"ROC AUC score = \", roc_auc_score(y_val, lr.predict_proba(X_val_preprocessed)[:,1]))"
   ]
  },
  {
   "cell_type": "markdown",
   "metadata": {},
   "source": [
    "No noticeable improvement using KNN and Logistic Regression with ADASYN either."
   ]
  },
  {
   "cell_type": "markdown",
   "metadata": {},
   "source": [
    "---"
   ]
  },
  {
   "cell_type": "markdown",
   "metadata": {},
   "source": [
    "# Model Selection Pipeline"
   ]
  },
  {
   "cell_type": "markdown",
   "metadata": {},
   "source": [
    "Now that I've tried out a few oversampling techniques, I'm going to create a a model selection pipeline so I can try out a few different models at once."
   ]
  },
  {
   "cell_type": "markdown",
   "metadata": {},
   "source": [
    "First, I'm going to calculate weighted average metrics through cross validation."
   ]
  },
  {
   "cell_type": "code",
   "execution_count": 858,
   "metadata": {},
   "outputs": [],
   "source": [
    "X_train_val, X_test, y_train_val, y_test = train_test_split(X, y, test_size=0.3, random_state=2, stratify=y)"
   ]
  },
  {
   "cell_type": "code",
   "execution_count": 859,
   "metadata": {},
   "outputs": [],
   "source": [
    "#specify categorical features\n",
    "categoricals = ['start_city','end_city','start_zip','end_zip']\n",
    "numericals = ['start_lat','end_lat','start_long', 'end_long','duration_sec','manhattan_dist','start_transit','end_transit','start_cap','end_cap']"
   ]
  },
  {
   "cell_type": "markdown",
   "metadata": {},
   "source": [
    "models = {\"KNN\": KNeighborsClassifier(n_neighbors=10),\n",
    "          \"Logistic Reg\": LogisticRegression(penalty='none',class_weight='balanced',max_iter=2000),\n",
    "          \"Decision Tree\": DecisionTreeClassifier(),\n",
    "          \"Random Forest\": RandomForestClassifier(),\n",
    "          \"BernoulliNB\": BernoulliNB(),\n",
    "          \"GaussianNB\": GaussianNB(),\n",
    "          \"XGBoost\": XGBClassifier()\n",
    "         }"
   ]
  },
  {
   "cell_type": "code",
   "execution_count": 860,
   "metadata": {},
   "outputs": [],
   "source": [
    "def get_metrics_ROS(models):\n",
    "\n",
    "    for model_name, model in models.items():\n",
    "\n",
    "        kf = StratifiedKFold(n_splits = 5, shuffle = True, random_state = 42)\n",
    "        kf.get_n_splits(X_train_val, y_train_val)\n",
    "\n",
    "        train_scores= []\n",
    "        val_scores= []\n",
    "        cv_accuracy = []\n",
    "        cv_precision = []\n",
    "        cv_recall = []\n",
    "        cv_f1 = []\n",
    "        cv_AUC = []\n",
    "\n",
    "        for train, val in kf.split(X_train_val, y_train_val):\n",
    "\n",
    "            #Set up train and val for each fold\n",
    "            X_train, X_val = X_train_val.iloc[train], X_train_val.iloc[val]\n",
    "            y_train, y_val = y_train_val.iloc[train], y_train_val.iloc[val]\n",
    "\n",
    "            #OneHotEncode categorical variables\n",
    "            ohe = OneHotEncoder(sparse=False,handle_unknown='ignore')\n",
    "\n",
    "            cat_matrix_train = ohe.fit_transform(X_train.loc[:, categoricals])\n",
    "\n",
    "            X_train_ohe = pd.DataFrame(cat_matrix_train,\n",
    "                               columns=ohe.get_feature_names(categoricals), #create meaningful column names\n",
    "                               index=X_train.index) #keep the same index values\n",
    "            X_train_preprocessed = pd.concat([X_train.loc[:, numericals], X_train_ohe], axis=1)\n",
    "\n",
    "            #val\n",
    "            cat_matrix_val = ohe.transform(X_val.loc[:, categoricals])\n",
    "\n",
    "            X_val_ohe = pd.DataFrame(cat_matrix_val,\n",
    "                               columns=ohe.get_feature_names(categoricals), #create meaningful column names\n",
    "                               index=X_val.index) #keep the same index values\n",
    "            X_val_preprocessed = pd.concat([X_val.loc[:, numericals], X_val_ohe], axis=1)\n",
    "\n",
    "            #Scale data\n",
    "            ss = StandardScaler()\n",
    "\n",
    "            #fit transform X train\n",
    "            X_train_scaled = ss.fit_transform(X_train_preprocessed)\n",
    "            #transform X val\n",
    "            X_val_scaled = ss.transform(X_val_preprocessed)\n",
    "\n",
    "            #Oversample train data\n",
    "            X_train_ROS, y_train_ROS = ros.fit_sample(X_train_scaled, y_train)\n",
    "\n",
    "            #fit model\n",
    "            model.fit(X_train_ROS, y_train_ROS)\n",
    "\n",
    "            #make prediction using y-val\n",
    "            y_pred = model.predict(X_val_scaled)\n",
    "\n",
    "            #metrics\n",
    "            train_scores.append(model.score(X_train_ROS, y_train_ROS))\n",
    "            val_scores.append(model.score(X_val_scaled, y_val))\n",
    "\n",
    "            accuracy = accuracy_score(y_val, y_pred)\n",
    "            precision = precision_score(y_val, y_pred)\n",
    "            recall = recall_score(y_val, y_pred)\n",
    "            f1 = f1_score(y_val, y_pred)\n",
    "            AUC = roc_auc_score(y_val, y_pred)\n",
    "\n",
    "            cv_accuracy.append(accuracy)\n",
    "            cv_precision.append(precision)\n",
    "            cv_recall.append(recall)\n",
    "            cv_f1.append(f1)\n",
    "            cv_AUC.append(AUC)\n",
    "\n",
    "        mean_train = np.mean(train_scores)\n",
    "        mean_val = np.mean(val_scores)\n",
    "\n",
    "        cv_accuracy = \"Accuracy: {}, Variance: {}\".format(statistics.mean(cv_accuracy), statistics.variance(cv_accuracy))\n",
    "        cv_precision = \"Precision: {}, Variance: {}\".format(statistics.mean(cv_precision), statistics.variance(cv_precision))\n",
    "        cv_recall = \"Recall: {}, Variance: {}\".format(statistics.mean(cv_recall), statistics.variance(cv_recall))\n",
    "        cv_f1 = \"F1 Score: {}, Variance: {}\".format(statistics.mean(cv_f1), statistics.variance(cv_f1))\n",
    "        cv_AUC = \"AUC Score: {}, Variance: {}\".format(statistics.mean(cv_AUC), statistics.variance(cv_AUC))\n",
    "\n",
    "        print(model_name, \":\")\n",
    "        print(f'Train/Test ratio: {(mean_train)/(mean_val):.4f}')\n",
    "        print(cv_accuracy)\n",
    "        print(cv_precision)\n",
    "        print(cv_recall)\n",
    "        print(cv_f1)\n",
    "        print(cv_AUC)\n",
    "        print('\\n')"
   ]
  },
  {
   "cell_type": "code",
   "execution_count": 861,
   "metadata": {},
   "outputs": [
    {
     "name": "stdout",
     "output_type": "stream",
     "text": [
      "KNN :\n",
      "Train/Test ratio: 1.1912\n",
      "Accuracy: 0.6768412525995569, Variance: 2.4005976842347437e-05\n",
      "Precision: 0.26316654295929787, Variance: 4.848927091712662e-05\n",
      "Recall: 0.5385026737967915, Variance: 0.00034073036117704197\n",
      "F1 Score: 0.3535333232014046, Variance: 9.856153321483746e-05\n",
      "AUC Score: 0.6212524425455741, Variance: 8.348648178320196e-05\n",
      "\n",
      "\n",
      "Logistic Reg :\n",
      "Train/Test ratio: 1.1430\n",
      "Accuracy: 0.5352978723781167, Variance: 3.891756262414203e-05\n",
      "Precision: 0.22016478269377343, Variance: 8.84719865631221e-06\n",
      "Recall: 0.7205347593582887, Variance: 0.0003209414052446463\n",
      "F1 Score: 0.3372553190812099, Variance: 2.4934750017221935e-05\n",
      "AUC Score: 0.609731721730886, Variance: 4.2007894373774686e-05\n",
      "\n",
      "\n",
      "Decision Tree :\n",
      "Train/Test ratio: 1.2806\n",
      "Accuracy: 0.7781190657685088, Variance: 1.9503938210489085e-05\n",
      "Precision: 0.32103399002899125, Variance: 0.00012726242215165714\n",
      "Recall: 0.31540106951871655, Variance: 8.112899997140313e-05\n",
      "F1 Score: 0.31816628395354246, Variance: 9.289108962658949e-05\n",
      "AUC Score: 0.5921845932671645, Variance: 3.2932782208129305e-05\n",
      "\n",
      "\n",
      "Random Forest :\n",
      "Train/Test ratio: 1.2534\n",
      "Accuracy: 0.7949519662050102, Variance: 1.0049407884291966e-05\n",
      "Precision: 0.35870923665790994, Variance: 0.00012240594963664977\n",
      "Recall: 0.31668449197860965, Variance: 0.00013746461151305445\n",
      "F1 Score: 0.33637474875890994, Variance: 0.00012669022746747982\n",
      "AUC Score: 0.6027692176073528, Variance: 4.0679722122426506e-05\n",
      "\n",
      "\n",
      "BernoulliNB :\n",
      "Train/Test ratio: 1.3456\n",
      "Accuracy: 0.44416540178841346, Variance: 1.8549133146114673e-05\n",
      "Precision: 0.20470160653213793, Variance: 3.233513261131857e-06\n",
      "Recall: 0.8272727272727273, Variance: 8.621922274014153e-05\n",
      "F1 Score: 0.32819143584988963, Variance: 8.18705729671103e-06\n",
      "AUC Score: 0.5981098021990884, Variance: 1.8503630802638384e-05\n",
      "\n",
      "\n",
      "GaussianNB :\n",
      "Train/Test ratio: 1.9332\n",
      "Accuracy: 0.28184143629476976, Variance: 0.008765710400750453\n",
      "Precision: 0.1790683285972602, Variance: 0.000208437510161326\n",
      "Recall: 0.9296256684491979, Variance: 0.003018187537533242\n",
      "F1 Score: 0.29963659397032505, Variance: 0.00027690953803817726\n",
      "AUC Score: 0.5421415123754454, Variance: 0.0011519522640482886\n",
      "\n",
      "\n",
      "XGBoost :\n",
      "Train/Test ratio: 1.1144\n",
      "Accuracy: 0.7080143225270484, Variance: 4.4291746103891255e-05\n",
      "Precision: 0.2951776988776106, Variance: 2.766282206070483e-05\n",
      "Recall: 0.5610695187165775, Variance: 0.00022954616946438248\n",
      "F1 Score: 0.38676577620649016, Variance: 3.2547285597540414e-05\n",
      "AUC Score: 0.6489672724403105, Variance: 2.615432147688347e-05\n",
      "\n",
      "\n"
     ]
    }
   ],
   "source": [
    "models = {\"KNN\": KNeighborsClassifier(n_neighbors=10),\n",
    "          \"Logistic Reg\": LogisticRegression(penalty='none',class_weight='balanced',max_iter=2000),\n",
    "          \"Decision Tree\": DecisionTreeClassifier(),\n",
    "          \"Random Forest\": RandomForestClassifier(),\n",
    "          \"BernoulliNB\": BernoulliNB(),\n",
    "          \"GaussianNB\": GaussianNB(),\n",
    "          \"XGBoost\": XGBClassifier()\n",
    "         }\n",
    "\n",
    "get_metrics_ROS(models)"
   ]
  },
  {
   "cell_type": "markdown",
   "metadata": {},
   "source": [
    "### Further Narrowing"
   ]
  },
  {
   "cell_type": "markdown",
   "metadata": {},
   "source": [
    "Now I'm going to do classification reports for the top performing models by AUC-ROC score: KNN, Random Forest, and XGBoost. The latter two are already tree models, so no need to also use Decision Tree. I'll try the three oversampling techniques (ROS, SMOTE, and ADASYN) for each."
   ]
  },
  {
   "cell_type": "code",
   "execution_count": 449,
   "metadata": {},
   "outputs": [],
   "source": [
    "X_train_val, X_test, y_train_val, y_test = train_test_split(X, y, test_size=0.3, random_state=2, stratify=y)"
   ]
  },
  {
   "cell_type": "code",
   "execution_count": 450,
   "metadata": {},
   "outputs": [],
   "source": [
    "categoricals = ['start_city','end_city','start_zip','end_zip']\n",
    "numericals = ['start_lat','end_lat','start_long', 'end_long','duration_sec','manhattan_dist','start_transit','end_transit','start_cap','end_cap']"
   ]
  },
  {
   "cell_type": "code",
   "execution_count": 451,
   "metadata": {},
   "outputs": [],
   "source": [
    "new_models = {\"KNN\": KNeighborsClassifier(n_neighbors=10), \"Random Forest\": RandomForestClassifier(),\"XGBoost\": XGBClassifier()}"
   ]
  },
  {
   "cell_type": "markdown",
   "metadata": {},
   "source": [
    "#### Random Over Sampler"
   ]
  },
  {
   "cell_type": "code",
   "execution_count": 452,
   "metadata": {},
   "outputs": [
    {
     "name": "stdout",
     "output_type": "stream",
     "text": [
      "KNN               precision    recall  f1-score   support\n",
      "\n",
      "           0       0.89      0.71      0.79      9524\n",
      "           1       0.27      0.55      0.36      1870\n",
      "\n",
      "    accuracy                           0.68     11394\n",
      "   macro avg       0.58      0.63      0.57     11394\n",
      "weighted avg       0.79      0.68      0.72     11394\n",
      "\n",
      "Random Forest               precision    recall  f1-score   support\n",
      "\n",
      "           0       0.87      0.89      0.88      9524\n",
      "           1       0.35      0.30      0.33      1870\n",
      "\n",
      "    accuracy                           0.79     11394\n",
      "   macro avg       0.61      0.60      0.60     11394\n",
      "weighted avg       0.78      0.79      0.79     11394\n",
      "\n",
      "XGBoost               precision    recall  f1-score   support\n",
      "\n",
      "           0       0.90      0.72      0.80      9524\n",
      "           1       0.29      0.58      0.39      1870\n",
      "\n",
      "    accuracy                           0.70     11394\n",
      "   macro avg       0.59      0.65      0.59     11394\n",
      "weighted avg       0.80      0.70      0.73     11394\n",
      "\n"
     ]
    }
   ],
   "source": [
    "for model_name, model in new_models.items():\n",
    "    \n",
    "    kf = StratifiedKFold(n_splits = 5, shuffle = True, random_state = 42)\n",
    "    kf.get_n_splits(X_train_val, y_train_val)\n",
    "    \n",
    "    for train, val in kf.split(X_train_val, y_train_val):\n",
    "        \n",
    "        #Set up train and val for each fold\n",
    "        X_train, X_val = X_train_val.iloc[train], X_train_val.iloc[val]\n",
    "        y_train, y_val = y_train_val.iloc[train], y_train_val.iloc[val]\n",
    "        \n",
    "        #OneHotEncode categorical variables\n",
    "        ohe = OneHotEncoder(sparse=False,handle_unknown='ignore')\n",
    "\n",
    "        cat_matrix_train = ohe.fit_transform(X_train.loc[:, categoricals])\n",
    "\n",
    "        X_train_ohe = pd.DataFrame(cat_matrix_train,\n",
    "                           columns=ohe.get_feature_names(categoricals), #create meaningful column names\n",
    "                           index=X_train.index) #keep the same index values\n",
    "        X_train_preprocessed = pd.concat([X_train.loc[:, numericals], X_train_ohe], axis=1)\n",
    "\n",
    "        #val\n",
    "        cat_matrix_val = ohe.transform(X_val.loc[:, categoricals])\n",
    "\n",
    "        X_val_ohe = pd.DataFrame(cat_matrix_val,\n",
    "                           columns=ohe.get_feature_names(categoricals), #create meaningful column names\n",
    "                           index=X_val.index) #keep the same index values\n",
    "        X_val_preprocessed = pd.concat([X_val.loc[:, numericals], X_val_ohe], axis=1)\n",
    "        \n",
    "        #Scale data\n",
    "        ss = StandardScaler()\n",
    "        \n",
    "        #fit transform X train\n",
    "        X_train_scaled = ss.fit_transform(X_train_preprocessed)\n",
    "        #transform X val\n",
    "        X_val_scaled = ss.transform(X_val_preprocessed)\n",
    "        \n",
    "        #Oversample train data\n",
    "        X_train_ROS, y_train_ROS = ros.fit_sample(X_train_scaled, y_train)\n",
    "\n",
    "        #fit model\n",
    "        model.fit(X_train_ROS, y_train_ROS)\n",
    "        \n",
    "        #make prediction using y-val\n",
    "        y_pred = model.predict(X_val_scaled)\n",
    "\n",
    "    #metrics\n",
    "    print(model_name, classification_report(y_val, y_pred))"
   ]
  },
  {
   "cell_type": "markdown",
   "metadata": {},
   "source": [
    "#### SMOTE"
   ]
  },
  {
   "cell_type": "code",
   "execution_count": 453,
   "metadata": {},
   "outputs": [
    {
     "name": "stdout",
     "output_type": "stream",
     "text": [
      "KNN               precision    recall  f1-score   support\n",
      "\n",
      "           0       0.88      0.75      0.81      9524\n",
      "           1       0.28      0.50      0.36      1870\n",
      "\n",
      "    accuracy                           0.71     11394\n",
      "   macro avg       0.58      0.62      0.59     11394\n",
      "weighted avg       0.79      0.71      0.74     11394\n",
      "\n",
      "Random Forest               precision    recall  f1-score   support\n",
      "\n",
      "           0       0.87      0.86      0.86      9524\n",
      "           1       0.33      0.36      0.34      1870\n",
      "\n",
      "    accuracy                           0.77     11394\n",
      "   macro avg       0.60      0.61      0.60     11394\n",
      "weighted avg       0.78      0.77      0.78     11394\n",
      "\n",
      "XGBoost               precision    recall  f1-score   support\n",
      "\n",
      "           0       0.88      0.87      0.88      9524\n",
      "           1       0.38      0.40      0.39      1870\n",
      "\n",
      "    accuracy                           0.79     11394\n",
      "   macro avg       0.63      0.63      0.63     11394\n",
      "weighted avg       0.80      0.79      0.80     11394\n",
      "\n"
     ]
    }
   ],
   "source": [
    "for model_name, model in new_models.items():\n",
    "    \n",
    "    kf = StratifiedKFold(n_splits = 5, shuffle = True, random_state = 42)\n",
    "    kf.get_n_splits(X_train_val, y_train_val)\n",
    "    \n",
    "    for train, val in kf.split(X_train_val, y_train_val):\n",
    "        \n",
    "        #Set up train and val for each fold\n",
    "        X_train, X_val = X_train_val.iloc[train], X_train_val.iloc[val]\n",
    "        y_train, y_val = y_train_val.iloc[train], y_train_val.iloc[val]\n",
    "        \n",
    "        #OneHotEncode categorical variables\n",
    "        ohe = OneHotEncoder(sparse=False,handle_unknown='ignore')\n",
    "\n",
    "        cat_matrix_train = ohe.fit_transform(X_train.loc[:, categoricals])\n",
    "\n",
    "        X_train_ohe = pd.DataFrame(cat_matrix_train,\n",
    "                           columns=ohe.get_feature_names(categoricals), #create meaningful column names\n",
    "                           index=X_train.index) #keep the same index values\n",
    "        X_train_preprocessed = pd.concat([X_train.loc[:, numericals], X_train_ohe], axis=1)\n",
    "\n",
    "        #val\n",
    "        cat_matrix_val = ohe.transform(X_val.loc[:, categoricals])\n",
    "\n",
    "        X_val_ohe = pd.DataFrame(cat_matrix_val,\n",
    "                           columns=ohe.get_feature_names(categoricals), #create meaningful column names\n",
    "                           index=X_val.index) #keep the same index values\n",
    "        X_val_preprocessed = pd.concat([X_val.loc[:, numericals], X_val_ohe], axis=1)\n",
    "        \n",
    "        #Scale data\n",
    "        ss = StandardScaler()\n",
    "        \n",
    "        #fit transform X train\n",
    "        X_train_scaled = ss.fit_transform(X_train_preprocessed)\n",
    "        #transform X val\n",
    "        X_val_scaled = ss.transform(X_val_preprocessed)\n",
    "        \n",
    "        #Oversample train data\n",
    "        X_train_SMOTE, y_train_SMOTE = SMOTE(random_state=42).fit_sample(X_train_scaled, y_train)\n",
    "\n",
    "        #fit model\n",
    "        model.fit(X_train_SMOTE, y_train_SMOTE)\n",
    "        \n",
    "        #make prediction using y-val\n",
    "        y_pred = model.predict(X_val_scaled)\n",
    "\n",
    "    #metrics\n",
    "    print(model_name, classification_report(y_val, y_pred))"
   ]
  },
  {
   "cell_type": "markdown",
   "metadata": {},
   "source": [
    "#### ADASYN"
   ]
  },
  {
   "cell_type": "code",
   "execution_count": 454,
   "metadata": {},
   "outputs": [
    {
     "name": "stdout",
     "output_type": "stream",
     "text": [
      "KNN               precision    recall  f1-score   support\n",
      "\n",
      "           0       0.89      0.72      0.79      9524\n",
      "           1       0.27      0.55      0.37      1870\n",
      "\n",
      "    accuracy                           0.69     11394\n",
      "   macro avg       0.58      0.63      0.58     11394\n",
      "weighted avg       0.79      0.69      0.72     11394\n",
      "\n",
      "Random Forest               precision    recall  f1-score   support\n",
      "\n",
      "           0       0.87      0.85      0.86      9524\n",
      "           1       0.32      0.36      0.34      1870\n",
      "\n",
      "    accuracy                           0.77     11394\n",
      "   macro avg       0.59      0.61      0.60     11394\n",
      "weighted avg       0.78      0.77      0.77     11394\n",
      "\n",
      "XGBoost               precision    recall  f1-score   support\n",
      "\n",
      "           0       0.88      0.87      0.87      9524\n",
      "           1       0.36      0.38      0.37      1870\n",
      "\n",
      "    accuracy                           0.79     11394\n",
      "   macro avg       0.62      0.62      0.62     11394\n",
      "weighted avg       0.79      0.79      0.79     11394\n",
      "\n"
     ]
    }
   ],
   "source": [
    "for model_name, model in new_models.items():\n",
    "    \n",
    "    kf = StratifiedKFold(n_splits = 5, shuffle = True, random_state = 42)\n",
    "    kf.get_n_splits(X_train_val, y_train_val)\n",
    "    \n",
    "    for train, val in kf.split(X_train_val, y_train_val):\n",
    "        \n",
    "        #Set up train and val for each fold\n",
    "        X_train, X_val = X_train_val.iloc[train], X_train_val.iloc[val]\n",
    "        y_train, y_val = y_train_val.iloc[train], y_train_val.iloc[val]\n",
    "        \n",
    "        #OneHotEncode categorical variables\n",
    "        ohe = OneHotEncoder(sparse=False,handle_unknown='ignore')\n",
    "\n",
    "        cat_matrix_train = ohe.fit_transform(X_train.loc[:, categoricals])\n",
    "\n",
    "        X_train_ohe = pd.DataFrame(cat_matrix_train,\n",
    "                           columns=ohe.get_feature_names(categoricals), #create meaningful column names\n",
    "                           index=X_train.index) #keep the same index values\n",
    "        X_train_preprocessed = pd.concat([X_train.loc[:, numericals], X_train_ohe], axis=1)\n",
    "\n",
    "        #val\n",
    "        cat_matrix_val = ohe.transform(X_val.loc[:, categoricals])\n",
    "\n",
    "        X_val_ohe = pd.DataFrame(cat_matrix_val,\n",
    "                           columns=ohe.get_feature_names(categoricals), #create meaningful column names\n",
    "                           index=X_val.index) #keep the same index values\n",
    "        X_val_preprocessed = pd.concat([X_val.loc[:, numericals], X_val_ohe], axis=1)\n",
    "        \n",
    "        #Scale data\n",
    "        ss = StandardScaler()\n",
    "        \n",
    "        #fit transform X train\n",
    "        X_train_scaled = ss.fit_transform(X_train_preprocessed)\n",
    "        #transform X val\n",
    "        X_val_scaled = ss.transform(X_val_preprocessed)\n",
    "        \n",
    "        #Oversample train data\n",
    "        X_train_ADASYN, y_train_ADASYN = ADASYN(random_state=42).fit_sample(X_train_scaled, y_train)\n",
    "\n",
    "        #fit model\n",
    "        model.fit(X_train_ADASYN, y_train_ADASYN)\n",
    "        \n",
    "        #make prediction using y-val\n",
    "        y_pred = model.predict(X_val_scaled)\n",
    "\n",
    "    #metrics\n",
    "    print(model_name, classification_report(y_val, y_pred))"
   ]
  },
  {
   "cell_type": "markdown",
   "metadata": {},
   "source": [
    "# Model Optimization"
   ]
  },
  {
   "cell_type": "markdown",
   "metadata": {},
   "source": [
    "After looking at the classification reports, I'm going to remove Random Forest from the choice of optimal models. While the precision tends to be slightly higher than KNN, the recall is not good at all. Recall is more important for my purposes, so I'm going to further examine KNN and XGBoost. RandomSampler has the best recall, so I'm going to disregard SMOTE and ADASYN."
   ]
  },
  {
   "cell_type": "code",
   "execution_count": 862,
   "metadata": {},
   "outputs": [],
   "source": [
    "newer_models = {\"KNN\": KNeighborsClassifier(n_neighbors=22),\n",
    "                \"XGBoost default\": XGBClassifier(),\n",
    "                \"XGBoost depth 4\": XGBClassifier(n_estimators=100, max_depth=4,learning_rate=.05, subsample=.8,\n",
    "                                                 min_child_weight=3, colsample_bytree=.8),\n",
    "                \"XGBoost depth 5\": XGBClassifier(n_estimators=100, max_depth=5,learning_rate=.05, subsample=.8,\n",
    "                                                 min_child_weight=3, colsample_bytree=.8),\n",
    "                \"XGBoost depth 6\": XGBClassifier(n_estimators=100, max_depth=6,learning_rate=.05, subsample=.8,\n",
    "                                                 min_child_weight=3, colsample_bytree=.8),\n",
    "                \"XGBoost depth 7\": XGBClassifier(max_depth = 7),\n",
    "                \"XGBoost depth 7, learning rate 0.5\": XGBClassifier(max_depth = 7, learning_rate=.05)}"
   ]
  },
  {
   "cell_type": "code",
   "execution_count": 509,
   "metadata": {},
   "outputs": [
    {
     "name": "stdout",
     "output_type": "stream",
     "text": [
      "KNN               precision    recall  f1-score   support\n",
      "\n",
      "           0       0.89      0.67      0.76      9524\n",
      "           1       0.26      0.58      0.36      1870\n",
      "\n",
      "    accuracy                           0.66     11394\n",
      "   macro avg       0.57      0.63      0.56     11394\n",
      "weighted avg       0.79      0.66      0.70     11394\n",
      "\n",
      "KNN ROC AUC score:  0.625102751955656\n",
      "XGBoost default               precision    recall  f1-score   support\n",
      "\n",
      "           0       0.90      0.72      0.80      9524\n",
      "           1       0.29      0.58      0.39      1870\n",
      "\n",
      "    accuracy                           0.70     11394\n",
      "   macro avg       0.59      0.65      0.59     11394\n",
      "weighted avg       0.80      0.70      0.73     11394\n",
      "\n",
      "XGBoost default ROC AUC score:  0.6525365134408542\n",
      "XGBoost depth 4               precision    recall  f1-score   support\n",
      "\n",
      "           0       0.91      0.56      0.70      9524\n",
      "           1       0.24      0.70      0.36      1870\n",
      "\n",
      "    accuracy                           0.59     11394\n",
      "   macro avg       0.57      0.63      0.53     11394\n",
      "weighted avg       0.80      0.59      0.64     11394\n",
      "\n",
      "XGBoost depth 4 ROC AUC score:  0.6344258916960698\n",
      "XGBoost depth 5               precision    recall  f1-score   support\n",
      "\n",
      "           0       0.90      0.60      0.72      9524\n",
      "           1       0.25      0.68      0.36      1870\n",
      "\n",
      "    accuracy                           0.61     11394\n",
      "   macro avg       0.58      0.64      0.54     11394\n",
      "weighted avg       0.80      0.61      0.66     11394\n",
      "\n",
      "XGBoost depth 5 ROC AUC score:  0.63872951417977\n",
      "XGBoost depth 6               precision    recall  f1-score   support\n",
      "\n",
      "           0       0.90      0.64      0.75      9524\n",
      "           1       0.26      0.65      0.38      1870\n",
      "\n",
      "    accuracy                           0.64     11394\n",
      "   macro avg       0.58      0.65      0.56     11394\n",
      "weighted avg       0.80      0.64      0.69     11394\n",
      "\n",
      "XGBoost depth 6 ROC AUC score:  0.6467471425972551\n",
      "XGBoost depth 7               precision    recall  f1-score   support\n",
      "\n",
      "           0       0.90      0.77      0.83      9524\n",
      "           1       0.32      0.56      0.41      1870\n",
      "\n",
      "    accuracy                           0.73     11394\n",
      "   macro avg       0.61      0.66      0.62     11394\n",
      "weighted avg       0.80      0.73      0.76     11394\n",
      "\n",
      "XGBoost depth 7 ROC AUC score:  0.661259817584397\n",
      "XGBoost depth 7, learning rate 0.5               precision    recall  f1-score   support\n",
      "\n",
      "           0       0.90      0.67      0.77      9524\n",
      "           1       0.27      0.64      0.38      1870\n",
      "\n",
      "    accuracy                           0.66     11394\n",
      "   macro avg       0.59      0.65      0.58     11394\n",
      "weighted avg       0.80      0.66      0.70     11394\n",
      "\n",
      "XGBoost depth 7, learning rate 0.5 ROC AUC score:  0.653904068977444\n"
     ]
    }
   ],
   "source": [
    "for model_name, model in newer_models.items():\n",
    "    \n",
    "    kf = StratifiedKFold(n_splits = 5, shuffle = True, random_state = 42)\n",
    "    kf.get_n_splits(X_train_val, y_train_val)\n",
    "    \n",
    "    for train, val in kf.split(X_train_val, y_train_val):\n",
    "        \n",
    "        #Set up train and val for each fold\n",
    "        X_train, X_val = X_train_val.iloc[train], X_train_val.iloc[val]\n",
    "        y_train, y_val = y_train_val.iloc[train], y_train_val.iloc[val]\n",
    "        \n",
    "        #OneHotEncode categorical variables\n",
    "        ohe = OneHotEncoder(sparse=False,handle_unknown='ignore')\n",
    "\n",
    "        cat_matrix_train = ohe.fit_transform(X_train.loc[:, categoricals])\n",
    "\n",
    "        X_train_ohe = pd.DataFrame(cat_matrix_train,\n",
    "                           columns=ohe.get_feature_names(categoricals), #create meaningful column names\n",
    "                           index=X_train.index) #keep the same index values\n",
    "        X_train_preprocessed = pd.concat([X_train.loc[:, numericals], X_train_ohe], axis=1)\n",
    "\n",
    "        #val\n",
    "        cat_matrix_val = ohe.transform(X_val.loc[:, categoricals])\n",
    "\n",
    "        X_val_ohe = pd.DataFrame(cat_matrix_val,\n",
    "                           columns=ohe.get_feature_names(categoricals), #create meaningful column names\n",
    "                           index=X_val.index) #keep the same index values\n",
    "        X_val_preprocessed = pd.concat([X_val.loc[:, numericals], X_val_ohe], axis=1)\n",
    "        \n",
    "        #Scale data\n",
    "        ss = StandardScaler()\n",
    "        \n",
    "        #fit transform X train\n",
    "        X_train_scaled = ss.fit_transform(X_train_preprocessed)\n",
    "        #transform X val\n",
    "        X_val_scaled = ss.transform(X_val_preprocessed)\n",
    "        \n",
    "        #Oversample train data\n",
    "        X_train_ROS, y_train_ROS = ros.fit_sample(X_train_scaled, y_train)\n",
    "\n",
    "        #fit model\n",
    "        model.fit(X_train_ROS, y_train_ROS)\n",
    "        \n",
    "        #make prediction using y-val\n",
    "        y_pred = model.predict(X_val_scaled)\n",
    "\n",
    "    #metrics\n",
    "    print(model_name, classification_report(y_val, y_pred))\n",
    "    print(model_name, \"ROC AUC score: \", roc_auc_score(y_val, y_pred))"
   ]
  },
  {
   "cell_type": "markdown",
   "metadata": {},
   "source": [
    "# Final Model"
   ]
  },
  {
   "cell_type": "markdown",
   "metadata": {},
   "source": [
    "### XGBClassifier(max_depth = 7)"
   ]
  },
  {
   "cell_type": "markdown",
   "metadata": {},
   "source": [
    "I've tried out a bunch of XGBoost parameters (the above is just a subsample), but it looks like `XGBClassifier(max_depth = 7)` is the best for the AUC score, and the recall is the highest (0.77) for the casual user classifier. Since I'm trying to grab existing casual users and convert them to subscribers, this is a good option."
   ]
  },
  {
   "cell_type": "code",
   "execution_count": 864,
   "metadata": {},
   "outputs": [],
   "source": [
    "features = ['duration_sec','start_lat','end_lat','start_long', 'end_long', 'manhattan_dist','start_transit','end_transit','start_cap','end_cap','start_city','end_city', 'start_zip','end_zip']\n",
    "\n",
    "X = bw_plus[features]\n",
    "y = bw_plus['is_subscriber']"
   ]
  },
  {
   "cell_type": "code",
   "execution_count": 865,
   "metadata": {},
   "outputs": [],
   "source": [
    "X_train_val, X_test, y_train_val, y_test = train_test_split(X, y, test_size=0.3, random_state=2, stratify=y)"
   ]
  },
  {
   "cell_type": "code",
   "execution_count": 866,
   "metadata": {},
   "outputs": [],
   "source": [
    "categoricals = ['start_city','end_city','start_zip','end_zip']\n",
    "numericals = ['start_lat','end_lat','start_long', 'end_long','duration_sec','manhattan_dist','start_transit','end_transit','start_cap','end_cap']"
   ]
  },
  {
   "cell_type": "code",
   "execution_count": 867,
   "metadata": {},
   "outputs": [
    {
     "name": "stdout",
     "output_type": "stream",
     "text": [
      "              precision    recall  f1-score   support\n",
      "\n",
      "           0       0.90      0.76      0.83     13606\n",
      "           1       0.32      0.57      0.41      2671\n",
      "\n",
      "    accuracy                           0.73     16277\n",
      "   macro avg       0.61      0.66      0.62     16277\n",
      "weighted avg       0.80      0.73      0.76     16277\n",
      "\n"
     ]
    }
   ],
   "source": [
    "final_model = XGBClassifier(max_depth = 7)\n",
    "    \n",
    "kf = StratifiedKFold(n_splits = 5, shuffle = True, random_state = 42)\n",
    "kf.get_n_splits(X, y)\n",
    "    \n",
    "for train, test in kf.split(X, y):\n",
    "        \n",
    "    #Set up train and val for each fold\n",
    "    X_train, X_test = X.iloc[train], X.iloc[test]\n",
    "    y_train, y_test = y.iloc[train], y.iloc[test]\n",
    "        \n",
    "    #OneHotEncode categorical variables\n",
    "    ohe = OneHotEncoder(sparse=False,handle_unknown='ignore')\n",
    "\n",
    "    cat_matrix_train = ohe.fit_transform(X_train.loc[:, categoricals])\n",
    "\n",
    "    X_train_ohe = pd.DataFrame(cat_matrix_train,\n",
    "                       columns=ohe.get_feature_names(categoricals), #create meaningful column names\n",
    "                       index=X_train.index) #keep the same index values\n",
    "    X_train_preprocessed = pd.concat([X_train.loc[:, numericals], X_train_ohe], axis=1)\n",
    "\n",
    "    #val\n",
    "    cat_matrix_test = ohe.transform(X_test.loc[:, categoricals])\n",
    "\n",
    "    X_test_ohe = pd.DataFrame(cat_matrix_test,\n",
    "                       columns=ohe.get_feature_names(categoricals), #create meaningful column names\n",
    "                       index=X_test.index) #keep the same index values\n",
    "    X_test_preprocessed = pd.concat([X_test.loc[:, numericals], X_test_ohe], axis=1)\n",
    "\n",
    "    #Scale data\n",
    "    ss = StandardScaler()\n",
    "\n",
    "    #fit transform X train\n",
    "    X_train_scaled = ss.fit_transform(X_train_preprocessed)\n",
    "    #transform X val\n",
    "    X_test_scaled = ss.transform(X_test_preprocessed)\n",
    "    X_test_scaled_pd = pd.DataFrame(X_test_scaled, columns=X_test_preprocessed.columns)\n",
    "\n",
    "    #Oversample train data\n",
    "    X_train_ROS, y_train_ROS = ros.fit_sample(X_train_scaled, y_train)\n",
    "\n",
    "    X_train_ROS_pd = pd.DataFrame(X_train_ROS, columns=X_train_preprocessed.columns)\n",
    "    #fit model\n",
    "    final_model.fit(X_train_ROS_pd, y_train_ROS)\n",
    "\n",
    "    #make prediction using y-val\n",
    "    y_pred = final_model.predict(X_test_scaled_pd)\n",
    "\n",
    "#metrics\n",
    "print(classification_report(y_test, y_pred))"
   ]
  },
  {
   "cell_type": "markdown",
   "metadata": {},
   "source": [
    "The test data has a similar recall for the 0 class, 0.76."
   ]
  },
  {
   "cell_type": "code",
   "execution_count": 868,
   "metadata": {},
   "outputs": [
    {
     "name": "stdout",
     "output_type": "stream",
     "text": [
      "ROC AUC score =  0.7248155462278986\n"
     ]
    },
    {
     "data": {
      "image/png": "[encoded data removed]",
      "text/plain": [
       "<Figure size 432x288 with 1 Axes>"
      ]
     },
     "metadata": {
      "needs_background": "light"
     },
     "output_type": "display_data"
    }
   ],
   "source": [
    "fpr, tpr, thresholds = roc_curve(y_test, final_model.predict_proba(X_test_scaled_pd)[:,1])\n",
    "\n",
    "plt.plot(fpr, tpr,lw=2)\n",
    "plt.plot([0,1],[0,1],c='violet',ls='--')\n",
    "plt.xlim([-0.05,1.05])\n",
    "plt.ylim([-0.05,1.05])\n",
    "\n",
    "plt.xlabel('False positive rate')\n",
    "plt.ylabel('True positive rate')\n",
    "plt.title('ROC curve');\n",
    "print(\"ROC AUC score = \", roc_auc_score(y_test, final_model.predict_proba(X_test_scaled_pd)[:,1]))"
   ]
  },
  {
   "cell_type": "code",
   "execution_count": 869,
   "metadata": {},
   "outputs": [
    {
     "data": {
      "image/png": "[encoded data removed]",
      "text/plain": [
       "<Figure size 504x504 with 2 Axes>"
      ]
     },
     "metadata": {
      "needs_background": "light"
     },
     "output_type": "display_data"
    }
   ],
   "source": [
    "from matplotlib.ticker import ScalarFormatter, FormatStrFormatter\n",
    "\n",
    "fig, ax = plt.subplots(figsize=(7, 7))\n",
    "plot_confusion_matrix(final_model, X_test_scaled_pd, y_test, ax=ax, values_format = '.0f');"
   ]
  },
  {
   "cell_type": "markdown",
   "metadata": {},
   "source": [
    "# A little feature engineering..."
   ]
  },
  {
   "cell_type": "code",
   "execution_count": 871,
   "metadata": {},
   "outputs": [
    {
     "data": {
      "text/plain": [
       "<AxesSubplot:title={'center':'Feature importance'}, xlabel='F score', ylabel='Features'>"
      ]
     },
     "execution_count": 871,
     "metadata": {},
     "output_type": "execute_result"
    },
    {
     "data": {
      "image/png": "[encoded data removed]",
      "text/plain": [
       "<Figure size 432x288 with 1 Axes>"
      ]
     },
     "metadata": {
      "needs_background": "light"
     },
     "output_type": "display_data"
    }
   ],
   "source": [
    "xgb.plot_importance(final_model)"
   ]
  },
  {
   "cell_type": "markdown",
   "metadata": {},
   "source": [
    "It's hard to see in this very scrunched up graph, but all of those features with little feature importance are the city and zip data. I'm going to try without them, so no need to One Hot Encode!"
   ]
  },
  {
   "cell_type": "code",
   "execution_count": 879,
   "metadata": {},
   "outputs": [],
   "source": [
    "features = ['duration_sec','start_lat','end_lat','start_long', 'end_long', 'manhattan_dist','start_transit','end_transit','start_cap','end_cap']\n",
    "\n",
    "X = bw_plus[features]\n",
    "y = bw_plus['is_subscriber']"
   ]
  },
  {
   "cell_type": "code",
   "execution_count": 880,
   "metadata": {},
   "outputs": [],
   "source": [
    "X_train_val, X_test, y_train_val, y_test = train_test_split(X, y, test_size=0.3, random_state=2, stratify=y)"
   ]
  },
  {
   "cell_type": "code",
   "execution_count": 881,
   "metadata": {},
   "outputs": [
    {
     "name": "stdout",
     "output_type": "stream",
     "text": [
      "              precision    recall  f1-score   support\n",
      "\n",
      "           0       0.90      0.77      0.83     13606\n",
      "           1       0.32      0.56      0.41      2671\n",
      "\n",
      "    accuracy                           0.73     16277\n",
      "   macro avg       0.61      0.66      0.62     16277\n",
      "weighted avg       0.80      0.73      0.76     16277\n",
      "\n"
     ]
    }
   ],
   "source": [
    "final_model = XGBClassifier(max_depth = 7)\n",
    "    \n",
    "kf = StratifiedKFold(n_splits = 5, shuffle = True, random_state = 42)\n",
    "kf.get_n_splits(X, y)\n",
    "    \n",
    "for train, test in kf.split(X, y):\n",
    "        \n",
    "    #Set up train and val for each fold\n",
    "    X_train, X_test = X.iloc[train], X.iloc[test]\n",
    "    y_train, y_test = y.iloc[train], y.iloc[test]\n",
    "\n",
    "    #Scale data\n",
    "    ss = StandardScaler()\n",
    "\n",
    "    #fit transform X train\n",
    "    X_train_scaled = ss.fit_transform(X_train)\n",
    "    #transform X val\n",
    "    X_test_scaled = ss.transform(X_test)\n",
    "    X_test_scaled_pd = pd.DataFrame(X_test_scaled, columns=X_test.columns)\n",
    "\n",
    "    #Oversample train data\n",
    "    X_train_ROS, y_train_ROS = ros.fit_sample(X_train_scaled, y_train)\n",
    "\n",
    "    X_train_ROS_pd = pd.DataFrame(X_train_ROS, columns=X_train.columns)\n",
    "    #fit model\n",
    "    final_model.fit(X_train_ROS_pd, y_train_ROS)\n",
    "\n",
    "    #make prediction using y-val\n",
    "    y_pred = final_model.predict(X_test_scaled_pd)\n",
    "\n",
    "#metrics\n",
    "print(classification_report(y_test, y_pred))"
   ]
  },
  {
   "cell_type": "code",
   "execution_count": 882,
   "metadata": {},
   "outputs": [
    {
     "name": "stdout",
     "output_type": "stream",
     "text": [
      "ROC AUC score =  0.7244331059925608\n"
     ]
    },
    {
     "data": {
      "image/png": "[encoded data removed]",
      "text/plain": [
       "<Figure size 432x288 with 1 Axes>"
      ]
     },
     "metadata": {
      "needs_background": "light"
     },
     "output_type": "display_data"
    }
   ],
   "source": [
    "fpr, tpr, thresholds = roc_curve(y_test, final_model.predict_proba(X_test_scaled_pd)[:,1])\n",
    "\n",
    "plt.plot(fpr, tpr,lw=2)\n",
    "plt.plot([0,1],[0,1],c='violet',ls='--')\n",
    "plt.xlim([-0.05,1.05])\n",
    "plt.ylim([-0.05,1.05])\n",
    "\n",
    "plt.xlabel('False positive rate')\n",
    "plt.ylabel('True positive rate')\n",
    "plt.title('ROC curve');\n",
    "print(\"ROC AUC score = \", roc_auc_score(y_test, final_model.predict_proba(X_test_scaled_pd)[:,1]))"
   ]
  },
  {
   "cell_type": "markdown",
   "metadata": {},
   "source": [
    "Almost the exact same result (in fact, a .01 increase in recall for the casual customer class), but with way fewer features! I also tried playing around with more feature removal but didn't get any better results.\n",
    "\n",
    "Let's go with this version of the model."
   ]
  },
  {
   "cell_type": "code",
   "execution_count": 883,
   "metadata": {},
   "outputs": [
    {
     "data": {
      "image/png": "[encoded data removed]",
      "text/plain": [
       "<Figure size 504x504 with 2 Axes>"
      ]
     },
     "metadata": {
      "needs_background": "light"
     },
     "output_type": "display_data"
    }
   ],
   "source": [
    "fig, ax = plt.subplots(figsize=(7, 7))\n",
    "plot_confusion_matrix(final_model, X_test_scaled_pd, y_test, ax=ax, values_format = '.0f');"
   ]
  },
  {
   "cell_type": "code",
   "execution_count": 885,
   "metadata": {},
   "outputs": [
    {
     "data": {
      "text/plain": [
       "<AxesSubplot:title={'center':'Feature importance'}, xlabel='F score', ylabel='Features'>"
      ]
     },
     "execution_count": 885,
     "metadata": {},
     "output_type": "execute_result"
    },
    {
     "data": {
      "image/png": "[encoded data removed]",
      "text/plain": [
       "<Figure size 432x288 with 1 Axes>"
      ]
     },
     "metadata": {
      "needs_background": "light"
     },
     "output_type": "display_data"
    },
    {
     "data": {
      "image/png": "[encoded data removed]",
      "text/plain": [
       "<Figure size 432x288 with 1 Axes>"
      ]
     },
     "metadata": {
      "needs_background": "light"
     },
     "output_type": "display_data"
    }
   ],
   "source": [
    "xgb.plot_importance(final_model)\n",
    "xgb.plot_importance(final_model, importance_type='gain')"
   ]
  },
  {
   "cell_type": "markdown",
   "metadata": {},
   "source": [
    "# Wrap-Up"
   ]
  },
  {
   "cell_type": "markdown",
   "metadata": {},
   "source": [
    "### Retraining on All Data"
   ]
  },
  {
   "cell_type": "code",
   "execution_count": 886,
   "metadata": {},
   "outputs": [
    {
     "data": {
      "text/plain": [
       "XGBClassifier(base_score=0.5, booster='gbtree', colsample_bylevel=1,\n",
       "              colsample_bynode=1, colsample_bytree=1, gamma=0, gpu_id=-1,\n",
       "              importance_type='gain', interaction_constraints='',\n",
       "              learning_rate=0.300000012, max_delta_step=0, max_depth=7,\n",
       "              min_child_weight=1, missing=nan, monotone_constraints='()',\n",
       "              n_estimators=100, n_jobs=0, num_parallel_tree=1, random_state=0,\n",
       "              reg_alpha=0, reg_lambda=1, scale_pos_weight=1, subsample=1,\n",
       "              tree_method='exact', validate_parameters=1, verbosity=None)"
      ]
     },
     "execution_count": 886,
     "metadata": {},
     "output_type": "execute_result"
    }
   ],
   "source": [
    "X_oversampled, y_oversampled = RandomOverSampler(random_state=42).fit_sample(X, y)\n",
    "\n",
    "X_oversampled_pd = pd.DataFrame(X_oversampled, columns=X.columns)\n",
    "\n",
    "final_model.fit(X_oversampled_pd, y_oversampled)"
   ]
  },
  {
   "cell_type": "markdown",
   "metadata": {},
   "source": [
    "### Preparing Model for Predicting New Data"
   ]
  },
  {
   "cell_type": "code",
   "execution_count": 887,
   "metadata": {},
   "outputs": [
    {
     "data": {
      "text/html": [
       "<div>\n",
       "<style scoped>\n",
       "    .dataframe tbody tr th:only-of-type {\n",
       "        vertical-align: middle;\n",
       "    }\n",
       "\n",
       "    .dataframe tbody tr th {\n",
       "        vertical-align: top;\n",
       "    }\n",
       "\n",
       "    .dataframe thead th {\n",
       "        text-align: right;\n",
       "    }\n",
       "</style>\n",
       "<table border=\"1\" class=\"dataframe\">\n",
       "  <thead>\n",
       "    <tr style=\"text-align: right;\">\n",
       "      <th></th>\n",
       "      <th>duration_sec</th>\n",
       "      <th>start_time</th>\n",
       "      <th>end_time</th>\n",
       "      <th>start_station_name</th>\n",
       "      <th>start_lat</th>\n",
       "      <th>start_long</th>\n",
       "      <th>end_station_name</th>\n",
       "      <th>end_lat</th>\n",
       "      <th>end_long</th>\n",
       "      <th>user_type</th>\n",
       "      <th>start_zip</th>\n",
       "      <th>end_zip</th>\n",
       "      <th>start_transit</th>\n",
       "      <th>end_transit</th>\n",
       "      <th>start_city</th>\n",
       "      <th>end_city</th>\n",
       "      <th>is_subscriber</th>\n",
       "      <th>manhattan_dist</th>\n",
       "      <th>start_cap</th>\n",
       "      <th>end_cap</th>\n",
       "    </tr>\n",
       "  </thead>\n",
       "  <tbody>\n",
       "    <tr>\n",
       "      <th>0</th>\n",
       "      <td>840</td>\n",
       "      <td>1/21/20 18:04</td>\n",
       "      <td>1/21/20 18:18</td>\n",
       "      <td>San Jose Diridon Station</td>\n",
       "      <td>37.329732</td>\n",
       "      <td>-121.901782</td>\n",
       "      <td>10th St at Empire St</td>\n",
       "      <td>37.349426</td>\n",
       "      <td>-121.887619</td>\n",
       "      <td>Subscriber</td>\n",
       "      <td>95110</td>\n",
       "      <td>95112</td>\n",
       "      <td>2</td>\n",
       "      <td>1</td>\n",
       "      <td>San Jose</td>\n",
       "      <td>San Jose</td>\n",
       "      <td>1</td>\n",
       "      <td>0.033857</td>\n",
       "      <td>35</td>\n",
       "      <td>23</td>\n",
       "    </tr>\n",
       "    <tr>\n",
       "      <th>1</th>\n",
       "      <td>613</td>\n",
       "      <td>1/17/20 18:49</td>\n",
       "      <td>1/17/20 19:00</td>\n",
       "      <td>San Jose Diridon Station</td>\n",
       "      <td>37.329732</td>\n",
       "      <td>-121.901782</td>\n",
       "      <td>10th St at Empire St</td>\n",
       "      <td>37.349426</td>\n",
       "      <td>-121.887619</td>\n",
       "      <td>Subscriber</td>\n",
       "      <td>95110</td>\n",
       "      <td>95112</td>\n",
       "      <td>2</td>\n",
       "      <td>1</td>\n",
       "      <td>San Jose</td>\n",
       "      <td>San Jose</td>\n",
       "      <td>1</td>\n",
       "      <td>0.033857</td>\n",
       "      <td>35</td>\n",
       "      <td>23</td>\n",
       "    </tr>\n",
       "    <tr>\n",
       "      <th>2</th>\n",
       "      <td>884</td>\n",
       "      <td>1/14/20 18:07</td>\n",
       "      <td>1/14/20 18:22</td>\n",
       "      <td>San Jose Diridon Station</td>\n",
       "      <td>37.329732</td>\n",
       "      <td>-121.901782</td>\n",
       "      <td>10th St at Empire St</td>\n",
       "      <td>37.349426</td>\n",
       "      <td>-121.887619</td>\n",
       "      <td>Subscriber</td>\n",
       "      <td>95110</td>\n",
       "      <td>95112</td>\n",
       "      <td>2</td>\n",
       "      <td>1</td>\n",
       "      <td>San Jose</td>\n",
       "      <td>San Jose</td>\n",
       "      <td>1</td>\n",
       "      <td>0.033857</td>\n",
       "      <td>35</td>\n",
       "      <td>23</td>\n",
       "    </tr>\n",
       "    <tr>\n",
       "      <th>3</th>\n",
       "      <td>1171</td>\n",
       "      <td>1/29/20 17:12</td>\n",
       "      <td>1/29/20 17:32</td>\n",
       "      <td>San Jose Diridon Station</td>\n",
       "      <td>37.329732</td>\n",
       "      <td>-121.901782</td>\n",
       "      <td>10th St at Mission St</td>\n",
       "      <td>37.355693</td>\n",
       "      <td>-121.892251</td>\n",
       "      <td>Subscriber</td>\n",
       "      <td>95110</td>\n",
       "      <td>95112</td>\n",
       "      <td>2</td>\n",
       "      <td>1</td>\n",
       "      <td>San Jose</td>\n",
       "      <td>San Jose</td>\n",
       "      <td>1</td>\n",
       "      <td>0.035492</td>\n",
       "      <td>35</td>\n",
       "      <td>23</td>\n",
       "    </tr>\n",
       "    <tr>\n",
       "      <th>4</th>\n",
       "      <td>1401</td>\n",
       "      <td>1/8/20 18:55</td>\n",
       "      <td>1/8/20 19:18</td>\n",
       "      <td>San Jose Diridon Station</td>\n",
       "      <td>37.329732</td>\n",
       "      <td>-121.901782</td>\n",
       "      <td>10th St at Mission St</td>\n",
       "      <td>37.355693</td>\n",
       "      <td>-121.892251</td>\n",
       "      <td>Subscriber</td>\n",
       "      <td>95110</td>\n",
       "      <td>95112</td>\n",
       "      <td>2</td>\n",
       "      <td>1</td>\n",
       "      <td>San Jose</td>\n",
       "      <td>San Jose</td>\n",
       "      <td>1</td>\n",
       "      <td>0.035492</td>\n",
       "      <td>35</td>\n",
       "      <td>23</td>\n",
       "    </tr>\n",
       "  </tbody>\n",
       "</table>\n",
       "</div>"
      ],
      "text/plain": [
       "   duration_sec     start_time       end_time        start_station_name  \\\n",
       "0           840  1/21/20 18:04  1/21/20 18:18  San Jose Diridon Station   \n",
       "1           613  1/17/20 18:49  1/17/20 19:00  San Jose Diridon Station   \n",
       "2           884  1/14/20 18:07  1/14/20 18:22  San Jose Diridon Station   \n",
       "3          1171  1/29/20 17:12  1/29/20 17:32  San Jose Diridon Station   \n",
       "4          1401   1/8/20 18:55   1/8/20 19:18  San Jose Diridon Station   \n",
       "\n",
       "   start_lat  start_long       end_station_name    end_lat    end_long  \\\n",
       "0  37.329732 -121.901782   10th St at Empire St  37.349426 -121.887619   \n",
       "1  37.329732 -121.901782   10th St at Empire St  37.349426 -121.887619   \n",
       "2  37.329732 -121.901782   10th St at Empire St  37.349426 -121.887619   \n",
       "3  37.329732 -121.901782  10th St at Mission St  37.355693 -121.892251   \n",
       "4  37.329732 -121.901782  10th St at Mission St  37.355693 -121.892251   \n",
       "\n",
       "    user_type  start_zip  end_zip  start_transit  end_transit start_city  \\\n",
       "0  Subscriber      95110    95112              2            1   San Jose   \n",
       "1  Subscriber      95110    95112              2            1   San Jose   \n",
       "2  Subscriber      95110    95112              2            1   San Jose   \n",
       "3  Subscriber      95110    95112              2            1   San Jose   \n",
       "4  Subscriber      95110    95112              2            1   San Jose   \n",
       "\n",
       "   end_city  is_subscriber  manhattan_dist  start_cap  end_cap  \n",
       "0  San Jose              1        0.033857         35       23  \n",
       "1  San Jose              1        0.033857         35       23  \n",
       "2  San Jose              1        0.033857         35       23  \n",
       "3  San Jose              1        0.035492         35       23  \n",
       "4  San Jose              1        0.035492         35       23  "
      ]
     },
     "execution_count": 887,
     "metadata": {},
     "output_type": "execute_result"
    }
   ],
   "source": [
    "bw_plus.head(5)"
   ]
  },
  {
   "cell_type": "code",
   "execution_count": 888,
   "metadata": {},
   "outputs": [],
   "source": [
    "bw_final = bw_plus.drop(['start_time','end_time','start_zip','end_zip','start_city','end_city','user_type','is_subscriber'],axis=1)"
   ]
  },
  {
   "cell_type": "code",
   "execution_count": 890,
   "metadata": {},
   "outputs": [
    {
     "data": {
      "text/html": [
       "<div>\n",
       "<style scoped>\n",
       "    .dataframe tbody tr th:only-of-type {\n",
       "        vertical-align: middle;\n",
       "    }\n",
       "\n",
       "    .dataframe tbody tr th {\n",
       "        vertical-align: top;\n",
       "    }\n",
       "\n",
       "    .dataframe thead th {\n",
       "        text-align: right;\n",
       "    }\n",
       "</style>\n",
       "<table border=\"1\" class=\"dataframe\">\n",
       "  <thead>\n",
       "    <tr style=\"text-align: right;\">\n",
       "      <th></th>\n",
       "      <th>duration_sec</th>\n",
       "      <th>start_station_name</th>\n",
       "      <th>start_lat</th>\n",
       "      <th>start_long</th>\n",
       "      <th>end_station_name</th>\n",
       "      <th>end_lat</th>\n",
       "      <th>end_long</th>\n",
       "      <th>start_transit</th>\n",
       "      <th>end_transit</th>\n",
       "      <th>manhattan_dist</th>\n",
       "      <th>start_cap</th>\n",
       "      <th>end_cap</th>\n",
       "    </tr>\n",
       "  </thead>\n",
       "  <tbody>\n",
       "    <tr>\n",
       "      <th>0</th>\n",
       "      <td>840</td>\n",
       "      <td>San Jose Diridon Station</td>\n",
       "      <td>37.329732</td>\n",
       "      <td>-121.901782</td>\n",
       "      <td>10th St at Empire St</td>\n",
       "      <td>37.349426</td>\n",
       "      <td>-121.887619</td>\n",
       "      <td>2</td>\n",
       "      <td>1</td>\n",
       "      <td>0.033857</td>\n",
       "      <td>35</td>\n",
       "      <td>23</td>\n",
       "    </tr>\n",
       "    <tr>\n",
       "      <th>1</th>\n",
       "      <td>613</td>\n",
       "      <td>San Jose Diridon Station</td>\n",
       "      <td>37.329732</td>\n",
       "      <td>-121.901782</td>\n",
       "      <td>10th St at Empire St</td>\n",
       "      <td>37.349426</td>\n",
       "      <td>-121.887619</td>\n",
       "      <td>2</td>\n",
       "      <td>1</td>\n",
       "      <td>0.033857</td>\n",
       "      <td>35</td>\n",
       "      <td>23</td>\n",
       "    </tr>\n",
       "    <tr>\n",
       "      <th>2</th>\n",
       "      <td>884</td>\n",
       "      <td>San Jose Diridon Station</td>\n",
       "      <td>37.329732</td>\n",
       "      <td>-121.901782</td>\n",
       "      <td>10th St at Empire St</td>\n",
       "      <td>37.349426</td>\n",
       "      <td>-121.887619</td>\n",
       "      <td>2</td>\n",
       "      <td>1</td>\n",
       "      <td>0.033857</td>\n",
       "      <td>35</td>\n",
       "      <td>23</td>\n",
       "    </tr>\n",
       "    <tr>\n",
       "      <th>3</th>\n",
       "      <td>1171</td>\n",
       "      <td>San Jose Diridon Station</td>\n",
       "      <td>37.329732</td>\n",
       "      <td>-121.901782</td>\n",
       "      <td>10th St at Mission St</td>\n",
       "      <td>37.355693</td>\n",
       "      <td>-121.892251</td>\n",
       "      <td>2</td>\n",
       "      <td>1</td>\n",
       "      <td>0.035492</td>\n",
       "      <td>35</td>\n",
       "      <td>23</td>\n",
       "    </tr>\n",
       "    <tr>\n",
       "      <th>4</th>\n",
       "      <td>1401</td>\n",
       "      <td>San Jose Diridon Station</td>\n",
       "      <td>37.329732</td>\n",
       "      <td>-121.901782</td>\n",
       "      <td>10th St at Mission St</td>\n",
       "      <td>37.355693</td>\n",
       "      <td>-121.892251</td>\n",
       "      <td>2</td>\n",
       "      <td>1</td>\n",
       "      <td>0.035492</td>\n",
       "      <td>35</td>\n",
       "      <td>23</td>\n",
       "    </tr>\n",
       "  </tbody>\n",
       "</table>\n",
       "</div>"
      ],
      "text/plain": [
       "   duration_sec        start_station_name  start_lat  start_long  \\\n",
       "0           840  San Jose Diridon Station  37.329732 -121.901782   \n",
       "1           613  San Jose Diridon Station  37.329732 -121.901782   \n",
       "2           884  San Jose Diridon Station  37.329732 -121.901782   \n",
       "3          1171  San Jose Diridon Station  37.329732 -121.901782   \n",
       "4          1401  San Jose Diridon Station  37.329732 -121.901782   \n",
       "\n",
       "        end_station_name    end_lat    end_long  start_transit  end_transit  \\\n",
       "0   10th St at Empire St  37.349426 -121.887619              2            1   \n",
       "1   10th St at Empire St  37.349426 -121.887619              2            1   \n",
       "2   10th St at Empire St  37.349426 -121.887619              2            1   \n",
       "3  10th St at Mission St  37.355693 -121.892251              2            1   \n",
       "4  10th St at Mission St  37.355693 -121.892251              2            1   \n",
       "\n",
       "   manhattan_dist  start_cap  end_cap  \n",
       "0        0.033857         35       23  \n",
       "1        0.033857         35       23  \n",
       "2        0.033857         35       23  \n",
       "3        0.035492         35       23  \n",
       "4        0.035492         35       23  "
      ]
     },
     "execution_count": 890,
     "metadata": {},
     "output_type": "execute_result"
    }
   ],
   "source": [
    "bw_final.head(5)"
   ]
  },
  {
   "cell_type": "code",
   "execution_count": 891,
   "metadata": {},
   "outputs": [
    {
     "data": {
      "text/plain": [
       "Index(['duration_sec', 'start_lat', 'end_lat', 'start_long', 'end_long',\n",
       "       'manhattan_dist', 'start_transit', 'end_transit', 'start_cap',\n",
       "       'end_cap'],\n",
       "      dtype='object')"
      ]
     },
     "execution_count": 891,
     "metadata": {},
     "output_type": "execute_result"
    }
   ],
   "source": [
    "final_model.feature_names = X_oversampled_pd.columns\n",
    "final_model.feature_names"
   ]
  },
  {
   "cell_type": "code",
   "execution_count": 892,
   "metadata": {},
   "outputs": [
    {
     "data": {
      "text/plain": [
       "array(['Subscriber', 'Customer'], dtype=object)"
      ]
     },
     "execution_count": 892,
     "metadata": {},
     "output_type": "execute_result"
    }
   ],
   "source": [
    "final_model.target_names = bw_plus['user_type'].unique()\n",
    "final_model.target_names"
   ]
  },
  {
   "cell_type": "code",
   "execution_count": 893,
   "metadata": {},
   "outputs": [
    {
     "data": {
      "text/plain": [
       "array([1])"
      ]
     },
     "execution_count": 893,
     "metadata": {},
     "output_type": "execute_result"
    }
   ],
   "source": [
    "test_input = np.random.rand(1,10)\n",
    "test_input_pd = pd.DataFrame(test_input, columns=X.columns)\n",
    "\n",
    "final_model.predict(test_input_pd)"
   ]
  },
  {
   "cell_type": "code",
   "execution_count": 894,
   "metadata": {},
   "outputs": [],
   "source": [
    "test_input = np.array([[100, 37.773507, -122.416040, 37.770030, -122.411726, 1, 1, 0.007792, 19, 27]])"
   ]
  },
  {
   "cell_type": "code",
   "execution_count": 895,
   "metadata": {},
   "outputs": [],
   "source": [
    "test_input_pd = pd.DataFrame(test_input, columns=X.columns)"
   ]
  },
  {
   "cell_type": "code",
   "execution_count": 896,
   "metadata": {},
   "outputs": [
    {
     "data": {
      "text/plain": [
       "array([1])"
      ]
     },
     "execution_count": 896,
     "metadata": {},
     "output_type": "execute_result"
    }
   ],
   "source": [
    "final_model.predict(test_input_pd)"
   ]
  },
  {
   "cell_type": "code",
   "execution_count": null,
   "metadata": {},
   "outputs": [],
   "source": []
  }
 ],
 "metadata": {
  "kernelspec": {
   "display_name": "Python 3",
   "language": "python",
   "name": "python3"
  },
  "language_info": {
   "codemirror_mode": {
    "name": "ipython",
    "version": 3
   },
   "file_extension": ".py",
   "mimetype": "text/x-python",
   "name": "python",
   "nbconvert_exporter": "python",
   "pygments_lexer": "ipython3",
   "version": "3.8.5"
  }
 },
 "nbformat": 4,
 "nbformat_minor": 4
}
